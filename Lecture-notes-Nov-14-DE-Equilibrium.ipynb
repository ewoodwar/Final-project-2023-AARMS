{
 "cells": [
  {
   "cell_type": "markdown",
   "metadata": {},
   "source": [
    "# Review\n",
    "\n",
    "Limits:\n",
    "* `limit(e, x, l)` calculates $\\displaystyle \\lim_{x\\to\\ell}e$\n",
    "* `oo` means $\\infty$\n",
    "\n",
    "Differentiation:\n",
    "* `diff(e, x)` calculates $\\displaystyle \\frac{\\partial e}{\\partial x}$\n",
    "* `diff(e, x, n)` calculates $\\displaystyle \\frac{\\partial^n e}{\\partial x^n}$\n",
    "* `diff(e, x, y, z)` calculates $\\displaystyle \\frac{\\partial^3 e}{\\partial x\\partial y\\partial z}$\n",
    "\n",
    "Taylor expansion\n",
    "* `e.series(x, x0, n)` expands an expression $e$ into a Taylor expansion in the variable $x$ about $x_0$, upto degree $n$.\n",
    "\n",
    "Integration:\n",
    "* `integrate(e, x)` calculates the indefinite integral $\\displaystyle \\int e dx$\n",
    "* `integrate(e, (x, a, b))` calculates the definite integral $\\displaystyle \\int_a^b e dx$"
   ]
  },
  {
   "cell_type": "markdown",
   "metadata": {},
   "source": [
    "# Differential Equations\n",
    "\n",
    "A differential equation is an equation that involves the derivative of an unknown function. The general form is\n",
    "$$x'(t)=f(t, x(t))$$\n",
    "whrre the function $x(t)$ is unknown, and we hope to find a function $x(t)$ that satisfy this equation. Such a function is called a **solution**.\n",
    "\n",
    "An DE is typically used to describe the change of a quantity that depends on the population size.\n",
    "\n",
    "## Example: the Malthus model\n",
    "\n",
    "In a short period of time, the population growth is typically proportion to the population sizxe it self. Let $x(t)$ be the population size at time $t$, \n",
    "$$x'(t)=r x(t)$$\n",
    "This is called the Malthus model.\n",
    "\n",
    "## Solving a DE using sympy\n",
    "\n",
    "`dsolve(eq)` solve a differential equation `eq` that involves the derivative of an unknown function\n",
    "\n",
    "How do we construct the derivative of an unknown function?\n",
    "\n",
    "## Function class\n",
    "The functions $\\sin$, $\\cos$, $exp$ etc are all instances of the `Function` class\n",
    "\n",
    "An unknown function may be constructed using the constructor `Function(name)`"
   ]
  },
  {
   "cell_type": "code",
   "execution_count": 2,
   "metadata": {},
   "outputs": [
    {
     "data": {
      "text/latex": [
       "$\\displaystyle f{\\left(z \\right)}$"
      ],
      "text/plain": [
       "f(z)"
      ]
     },
     "metadata": {},
     "output_type": "display_data"
    },
    {
     "data": {
      "text/latex": [
       "$\\displaystyle f{\\left(1 \\right)}$"
      ],
      "text/plain": [
       "f(1)"
      ]
     },
     "metadata": {},
     "output_type": "display_data"
    },
    {
     "data": {
      "text/latex": [
       "$\\displaystyle \\frac{d}{d z} f{\\left(z \\right)}$"
      ],
      "text/plain": [
       "Derivative(f(z), z)"
      ]
     },
     "metadata": {},
     "output_type": "display_data"
    }
   ],
   "source": [
    "from sympy import *\n",
    "z= symbols(\"z\")\n",
    "f=Function(\"f\")\n",
    "display(f(z))\n",
    "display(f(1))\n",
    "\n",
    "display(diff(f(z), z))"
   ]
  },
  {
   "cell_type": "markdown",
   "metadata": {},
   "source": [
    "Let's solve the Malthus model"
   ]
  },
  {
   "cell_type": "code",
   "execution_count": 3,
   "metadata": {},
   "outputs": [
    {
     "data": {
      "text/latex": [
       "$\\displaystyle x{\\left(t \\right)} = C_{1} e^{r t}$"
      ],
      "text/plain": [
       "Eq(x(t), C1*exp(r*t))"
      ]
     },
     "execution_count": 3,
     "metadata": {},
     "output_type": "execute_result"
    }
   ],
   "source": [
    "x = Function(\"x\")\n",
    "t = Symbol(\"t\")\n",
    "r = Symbol(\"r\", positive=True)\n",
    "\n",
    "# the right hand side\n",
    "Malthus = Eq(diff(x(t)), r*x(t))\n",
    "dsolve(Malthus)\n"
   ]
  },
  {
   "cell_type": "markdown",
   "metadata": {},
   "source": [
    "Note that here $C_1$ is an arbitrary constant, that is, any exponential function with a growth rate $r$ is a solution.  How do we find a specific population size?\n",
    "\n",
    "## Initial condition\n",
    "To find a solution, we need a value of the solution at a given $t=t_0$, namely, $x_0=x(t_0)$, this is called an **initial condition**.\n",
    "\n",
    "The initial condition is given as a python dict, to the **ics** argument. Let us assume that the population size at time $t=0$ is $N$, i.e., $x(0)=N$."
   ]
  },
  {
   "cell_type": "code",
   "execution_count": 4,
   "metadata": {},
   "outputs": [
    {
     "data": {
      "text/latex": [
       "$\\displaystyle x{\\left(t \\right)} = N e^{r t}$"
      ],
      "text/plain": [
       "Eq(x(t), N*exp(r*t))"
      ]
     },
     "execution_count": 4,
     "metadata": {},
     "output_type": "execute_result"
    }
   ],
   "source": [
    "N = Symbol(\"N\")\n",
    "\n",
    "dsolve(Malthus, ics={x(0):N})\n"
   ]
  },
  {
   "cell_type": "markdown",
   "metadata": {},
   "source": [
    "## Example: the logistic model\n",
    "The solution to the Malthus model is an exponentially growing function. But in a long run, we do not see the population maintaining exponential growth. As population increase, individuals compete for resources, adn thus the growth rate decreases, and eventually pass $0$ and becomes negative. A commonly used model is the logistic model, which assumes that the groeth rate $r$ decreases linearly with the population $x(t)$,\n",
    "$$ r = a\\left(1-\\frac{x(t)}{K}\\right)$$\n",
    "resulting in the following logistic equation\n",
    "$$x'(t)=ax(t)\\left(1-\\frac{x(t)}K\\right),\\; a>0$$\n",
    "\n",
    "## Substitution: subs method\n",
    "The logistic model can be deriving by substituting the definition of $r$ into the Malthus model. \n",
    "\n",
    "In sympy, this is done using the sub method of a sympy expression. For example,\n",
    "* `Malthus.sub({r: a*(1-x(t)/K})`\n",
    "* It takes a python dict as input, the keys are the symbols to substitute."
   ]
  },
  {
   "cell_type": "code",
   "execution_count": 5,
   "metadata": {},
   "outputs": [
    {
     "data": {
      "text/latex": [
       "$\\displaystyle \\frac{d}{d t} x{\\left(t \\right)} = r \\left(1 - \\frac{x{\\left(t \\right)}}{K}\\right) x{\\left(t \\right)}$"
      ],
      "text/plain": [
       "Eq(Derivative(x(t), t), r*(1 - x(t)/K)*x(t))"
      ]
     },
     "metadata": {},
     "output_type": "display_data"
    },
    {
     "data": {
      "text/latex": [
       "$\\displaystyle x{\\left(t \\right)} = - \\frac{K N e^{r t}}{\\left(K - N\\right) \\left(- \\frac{N e^{r t}}{K - N} - 1\\right)}$"
      ],
      "text/plain": [
       "Eq(x(t), -K*N*exp(r*t)/((K - N)*(-N*exp(r*t)/(K - N) - 1)))"
      ]
     },
     "metadata": {},
     "output_type": "display_data"
    }
   ],
   "source": [
    "K = Symbol(\"K\")\n",
    "a = Symbol(\"r\", positive=True)\n",
    "\n",
    "logistic = Malthus.subs({r:r*(1-x(t)/K)})\n",
    "\n",
    "display(logistic)\n",
    "xt=dsolve(logistic, ics={x(0):N})\n",
    "display(xt)\n"
   ]
  },
  {
   "cell_type": "markdown",
   "metadata": {},
   "source": [
    "Lets compute $$\\lim_{t\\to\\infty}x(t)$$\n",
    "`xt` is an equation\n",
    "* its left hand side is `xt.args[0]`\n",
    "* its right hand side is `xt.args[1]`"
   ]
  },
  {
   "cell_type": "code",
   "execution_count": 6,
   "metadata": {},
   "outputs": [
    {
     "data": {
      "text/latex": [
       "$\\displaystyle K$"
      ],
      "text/plain": [
       "K"
      ]
     },
     "execution_count": 6,
     "metadata": {},
     "output_type": "execute_result"
    }
   ],
   "source": [
    "limit(xt.args[1], t, oo)"
   ]
  },
  {
   "cell_type": "code",
   "execution_count": 7,
   "metadata": {},
   "outputs": [
    {
     "data": {
      "text/latex": [
       "$\\displaystyle \\text{True}$"
      ],
      "text/plain": [
       "True"
      ]
     },
     "execution_count": 7,
     "metadata": {},
     "output_type": "execute_result"
    }
   ],
   "source": [
    "# Verify that x(t) is a solution.\n",
    "simplify(logistic.subs({x(t):xt.args[1]}))"
   ]
  },
  {
   "cell_type": "markdown",
   "metadata": {},
   "source": [
    "# Equilibrium\n",
    "\n",
    "An equilibrium of the differential equation is a constant solution. \n",
    "\n",
    "We have seen them in difference equations\n",
    "* Example: for the difference equation, $x_{t+1}=f(x_t)$, an equilibrium $x_t=x^*$ must satisfy $x^*=f(x^*)$\n",
    "\n",
    "For a differential equation $x'(t)=f(x(t))$, i.e., $x'=f(x)$, \n",
    "* note that here the right hand side does note explicitly depend on the time $t$.\n",
    "* An equilibrium, i.e., a constant solution $x(t)=x^*$, must satisfy\n",
    "$(x^*)'=0=f(x^*)$\n",
    "That is, $$f(x^*)=0$$\n",
    "is the sufficient and necessary condition that an equilibrium must satisfy.\n",
    "\n",
    "## Example: the logistic model revisited\n",
    "$$x'=rx\\left(1-\\frac{x}{K}\\right)$$\n",
    "The equilibria must satisfy\n",
    "$$rx\\left(1-\\frac{x}{K}\\right)=0$$\n",
    "We can solve them using the solve function:"
   ]
  },
  {
   "cell_type": "code",
   "execution_count": 8,
   "metadata": {},
   "outputs": [
    {
     "data": {
      "text/latex": [
       "$\\displaystyle \\frac{d}{d t} x{\\left(t \\right)} = r \\left(1 - \\frac{x{\\left(t \\right)}}{K}\\right) x{\\left(t \\right)}$"
      ],
      "text/plain": [
       "Eq(Derivative(x(t), t), r*(1 - x(t)/K)*x(t))"
      ]
     },
     "metadata": {},
     "output_type": "display_data"
    }
   ],
   "source": [
    "display(logistic)"
   ]
  },
  {
   "cell_type": "code",
   "execution_count": 10,
   "metadata": {},
   "outputs": [
    {
     "data": {
      "text/latex": [
       "$\\displaystyle r \\left(1 - \\frac{x{\\left(t \\right)}}{K}\\right) x{\\left(t \\right)}$"
      ],
      "text/plain": [
       "r*(1 - x(t)/K)*x(t)"
      ]
     },
     "metadata": {},
     "output_type": "display_data"
    },
    {
     "data": {
      "text/plain": [
       "[0, K]"
      ]
     },
     "execution_count": 10,
     "metadata": {},
     "output_type": "execute_result"
    }
   ],
   "source": [
    "# the right hand side fo the equation is in .args[1]\n",
    "RHS = logistic.args[1]\n",
    "display(RHS)\n",
    "\n",
    "solve(RHS, x(t))"
   ]
  },
  {
   "cell_type": "markdown",
   "metadata": {},
   "source": [
    "There are two equilibrium: $x(t)=0$, and $x(t)=K$."
   ]
  },
  {
   "cell_type": "markdown",
   "metadata": {},
   "source": [
    "# System of Differential Equations\n",
    "\n",
    "Sometimes, a system state must be described with multiple variables, each one is governed by a differential equation. That is, these systems are defined by a system of differential equationa.\n",
    "\n",
    "Let us consider the following system that gives a damped oscillation\n",
    "\\begin{align*}\n",
    "x'(t)&=-rx(t)+y(t)\\\\\n",
    "y'(t)&=x(t)-ry(t)\n",
    "\\end{align*}"
   ]
  },
  {
   "cell_type": "code",
   "execution_count": 13,
   "metadata": {},
   "outputs": [
    {
     "data": {
      "text/plain": [
       "[Eq(x(t), C1*exp(-r*t)*sin(t) + C2*exp(-r*t)*cos(t)),\n",
       " Eq(y(t), C1*exp(-r*t)*cos(t) - C2*exp(-r*t)*sin(t))]"
      ]
     },
     "execution_count": 13,
     "metadata": {},
     "output_type": "execute_result"
    }
   ],
   "source": [
    "y=Function(\"y\")\n",
    "dsolve([Eq(diff(x(t), t), -r*x(t)+y(t)), Eq(diff(y(t),t), -x(t)-r*y(t))], [x(t), y(t)])"
   ]
  },
  {
   "cell_type": "markdown",
   "metadata": {},
   "source": [
    "\n",
    "\n",
    "# Example: The SIRS model\n",
    "The following model is a modification to the SIR model, incorporating a temporary acquired immunity. Each recovered individual loses immunity at a rate $\\rho$ and becomes susceptible.\n",
    "\\begin{align*}\n",
    "S'&=-\\beta SI +\\rho R\\\\\n",
    "I'&=\\beta SI-\\gamma I\\\\\n",
    "R'&=\\gamma I-\\rho R\n",
    "\\end{align*}\n",
    "\n",
    "Unfortunately, this system is not solvable, i.e., it has solutions, but there is no formula. We want to know if the system has a constant solution, i.e., an equiliubrium.\n"
   ]
  },
  {
   "cell_type": "code",
   "execution_count": 18,
   "metadata": {},
   "outputs": [
    {
     "data": {
      "text/latex": [
       "$\\displaystyle \\left\\{\\left( S, \\  0, \\  0\\right), \\left( \\frac{\\gamma}{\\beta}, \\  \\frac{R \\rho}{\\gamma}, \\  R\\right)\\right\\}$"
      ],
      "text/plain": [
       "{(S, 0, 0), (gamma/beta, R*rho/gamma, R)}"
      ]
     },
     "execution_count": 18,
     "metadata": {},
     "output_type": "execute_result"
    }
   ],
   "source": [
    "from sympy.abc import beta, gamma, rho, S, I, R\n",
    "dS = -beta*S*I+rho*R\n",
    "dI = beta*S*I-gamma*I\n",
    "dR = gamma*I-rho*R\n",
    "\n",
    "nonlinsolve([dS, dI, dR], [S, I, R])"
   ]
  },
  {
   "cell_type": "code",
   "execution_count": null,
   "metadata": {},
   "outputs": [],
   "source": []
  }
 ],
 "metadata": {
  "kernelspec": {
   "display_name": "Python 3 (ipykernel)",
   "language": "python",
   "name": "python3"
  },
  "language_info": {
   "codemirror_mode": {
    "name": "ipython",
    "version": 3
   },
   "file_extension": ".py",
   "mimetype": "text/x-python",
   "name": "python",
   "nbconvert_exporter": "python",
   "pygments_lexer": "ipython3",
   "version": "3.9.7"
  }
 },
 "nbformat": 4,
 "nbformat_minor": 4
}
