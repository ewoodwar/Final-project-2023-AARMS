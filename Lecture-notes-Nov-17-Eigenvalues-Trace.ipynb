{
 "cells": [
  {
   "cell_type": "markdown",
   "metadata": {},
   "source": [
    "# Review\n",
    "\n",
    "## Equilibrium\n",
    "\n",
    "An equilibrium of the differential equation $x'=f(x)$ is a constant solution $x(t)=x^*$, which must satisfy\n",
    "$$f(x^*)=0$$\n",
    "\n",
    "## Numerical evaluation\n",
    "* Use the `subs` method to substitute a float value to a symbol\n",
    "  * We need to convert a sympy constant **v** to a float point value using `float(v)`\n",
    "\n",
    "* `lambdify(vars, e)` creates a lambda function from an expression\n",
    "  * vars are the arugments, and e is the expression"
   ]
  },
  {
   "cell_type": "markdown",
   "metadata": {},
   "source": [
    "# Stability\n",
    "\n",
    "Like the equilibrium of a difference equation, the stability of an equilibrium of a differential equation determines if the system remains close to the equilibrium after a small perturbation.\n",
    "* Stable: remains close\n",
    "* Asymptotically stable: stable, and the solution after a small perturbation eventually approaches the equilibrium\n",
    "* Unstable: the solution eventually moves away from the equilibrium\n",
    "\n",
    "## Theorem:\n",
    "Consider a system of differential equations $x'=f(x)$, $x(t)=x^*$ is an equilibrium, i.e., $f(x^*)=0$. Here $f(x)$ is continuously differentiable. $J=Df(x^*)$ is the Jacobian matrix of $f(x)$ evaluated at $x^*$, i.e.,\n",
    "$$\n",
    "J=\\left[\\begin{array}{cccc}\n",
    "\\frac{\\partial f_1}{\\partial x_1} & \\frac{\\partial f_1}{\\partial x_2} &\\cdots & \\frac{\\partial f_1}{\\partial x_n}\\\\\n",
    "\\frac{\\partial f_2}{\\partial x_1} & \\frac{\\partial f_2}{\\partial x_2} &\\cdots & \\frac{\\partial f_2}{\\partial x_n}\\\\\n",
    "\\vdots & \\vdots & \\ddots & \\vdots\\\\\n",
    "\\frac{\\partial f_n}{\\partial x_1} & \\frac{\\partial f_n}{\\partial x_2} &\\cdots & \\frac{\\partial f_n}{\\partial x_n}\n",
    "\\end{array}\n",
    "\\right]_{x=x^*}\n",
    "$$\n",
    "Then, \n",
    "* $x^*$ is asymptotically stable if all eigenvalues of $J$ have negative real parts.\n",
    "* $x^*$ is unstable if one eigenvalue of $J$ has a positive real part.\n",
    "\n",
    "## Example: the SIRS model revisited\n",
    "\n",
    "\\begin{align*}\n",
    "S'&=-\\beta SI +\\rho (1-S-I)\\\\\n",
    "I'&=\\beta SI-\\gamma I\\\\\n",
    "\\end{align*}\n"
   ]
  },
  {
   "cell_type": "code",
   "execution_count": 4,
   "metadata": {},
   "outputs": [
    {
     "name": "stdout",
     "output_type": "stream",
     "text": [
      "[(1, 0), (-(-rho + rho*(beta - gamma)/beta)/rho, rho*(beta - gamma)/(beta*(gamma + rho)))]\n"
     ]
    },
    {
     "data": {
      "text/plain": [
       "(1, 0)"
      ]
     },
     "metadata": {},
     "output_type": "display_data"
    },
    {
     "data": {
      "text/latex": [
       "$\\displaystyle \\frac{\\gamma}{\\beta}$"
      ],
      "text/plain": [
       "gamma/beta"
      ]
     },
     "metadata": {},
     "output_type": "display_data"
    },
    {
     "data": {
      "text/latex": [
       "$\\displaystyle \\frac{\\rho \\left(\\beta - \\gamma\\right)}{\\beta \\left(\\gamma + \\rho\\right)}$"
      ],
      "text/plain": [
       "rho*(beta - gamma)/(beta*(gamma + rho))"
      ]
     },
     "metadata": {},
     "output_type": "display_data"
    }
   ],
   "source": [
    "from sympy import *\n",
    "from sympy.abc import S, I\n",
    "beta, gamma, rho = symbols(\"beta, gamma, rho\", positive=True)\n",
    "\n",
    "dS = -beta*S*I+rho*(1-S-I)\n",
    "dI = beta*S*I-gamma*I\n",
    "\n",
    "eq=solve([dS, dI], [S, I])\n",
    "print(eq)\n",
    "\n",
    "eqS = simplify(eq[1][0])\n",
    "eqI = eq[1][1]\n",
    "display(eq[0], eqS, eqI)"
   ]
  },
  {
   "cell_type": "markdown",
   "metadata": {},
   "source": [
    "We have found the poositive equilibrium, stored in **(eqS, eqI)**. We can use symbolic differentiation to calculate the Jacobian matrix\n",
    "\n",
    "### Matrix\n",
    "The **Matrix** class represents a matrix. Like the construction of a matrix in numpy using array, it takes an array of arrays (each is a row)."
   ]
  },
  {
   "cell_type": "code",
   "execution_count": 8,
   "metadata": {},
   "outputs": [
    {
     "data": {
      "text/latex": [
       "$\\displaystyle \\left[\\begin{matrix}- I \\beta - \\rho & - S \\beta - \\rho\\\\I \\beta & S \\beta - \\gamma\\end{matrix}\\right]$"
      ],
      "text/plain": [
       "Matrix([\n",
       "[-I*beta - rho,  -S*beta - rho],\n",
       "[       I*beta, S*beta - gamma]])"
      ]
     },
     "execution_count": 8,
     "metadata": {},
     "output_type": "execute_result"
    }
   ],
   "source": [
    "Df = Matrix([[diff(dS, S), diff(dS, I)], [diff(dI, S), diff(dI, I)]])\n",
    "Df"
   ]
  },
  {
   "cell_type": "code",
   "execution_count": 10,
   "metadata": {},
   "outputs": [
    {
     "data": {
      "text/latex": [
       "$\\displaystyle \\left[\\begin{matrix}- \\frac{\\rho \\left(\\beta + \\rho\\right)}{\\gamma + \\rho} & - \\gamma - \\rho\\\\\\frac{\\rho \\left(\\beta - \\gamma\\right)}{\\gamma + \\rho} & 0\\end{matrix}\\right]$"
      ],
      "text/plain": [
       "Matrix([\n",
       "[ -rho*(beta + rho)/(gamma + rho), -gamma - rho],\n",
       "[rho*(beta - gamma)/(gamma + rho),            0]])"
      ]
     },
     "execution_count": 10,
     "metadata": {},
     "output_type": "execute_result"
    }
   ],
   "source": [
    "# Evaluate at the equilibrium\n",
    "J=simplify(Df.subs({S:eqS, I:eqI}))\n",
    "J"
   ]
  },
  {
   "cell_type": "markdown",
   "metadata": {},
   "source": [
    "## The eigenvalus\n",
    "\n",
    "The **.eigenvals** method of a Matrix object calculates the eigenvalues sympolically.\n",
    "* It takes a no arguments\n",
    "* It returns a dict of eigenvalues and their multiplicity"
   ]
  },
  {
   "cell_type": "code",
   "execution_count": null,
   "metadata": {},
   "outputs": [],
   "source": [
    "E=J.eigenvals()\n",
    "E"
   ]
  },
  {
   "cell_type": "code",
   "execution_count": null,
   "metadata": {},
   "outputs": [],
   "source": [
    "es = list(E.keys())\n",
    "display(es[0], es[1])"
   ]
  },
  {
   "cell_type": "markdown",
   "metadata": {},
   "source": [
    "It is not straightforward to to determine the sign of the real parts. The following theorem may help.\n",
    "\n",
    "## Theorem\n",
    "All the eigenvalues of a $2\\times2$ matrix $J$ have negative real parts if and only if $trace(J)<0$ and $det(J)>0$."
   ]
  },
  {
   "cell_type": "code",
   "execution_count": null,
   "metadata": {},
   "outputs": [],
   "source": [
    "J.trace()"
   ]
  },
  {
   "cell_type": "code",
   "execution_count": null,
   "metadata": {},
   "outputs": [],
   "source": [
    "simplify(J.det())"
   ]
  },
  {
   "cell_type": "markdown",
   "metadata": {},
   "source": [
    "Thus, the second equilibrium is asymptotically stable if and only if $\\beta>\\gamma$, which is the same condition as the equilibrim is positive."
   ]
  },
  {
   "cell_type": "markdown",
   "metadata": {},
   "source": [
    "# Numeric solutions\n",
    "\n",
    "Not every initial value problem $x'=f(t, x)$, $x(t_0)=x_0$, can be solved symbolically. But they may have solutions. We may numerically approximate the solution.\n",
    "\n",
    "## solve_ivp function in the scipy.integrate package\n",
    "The `solve_ivp(f, t_span, y0)` function in scipy.integrate packge solves initial value problems in the form of\n",
    "$$\\frac{dy}{dt}=f(t, y), y(t_0)=y_0$$\n",
    "where $t_0$ is `t_span[0]`\n",
    "* `t_span`: a tuple or a list of two numbers giving the start and end of the time interval on which to find the solution.\n",
    "  * an optional keyword argument `t_eval`: an array of time points where we want $y(t)$ to be approximated.\n",
    "* The vector field $f(t, y)$ may have parameters $p$, i.e., $f(t, y, p)$\n",
    "  * The values of $p$ may be provided by the optional `args` keyword argument\n",
    "\n",
    "\n",
    "**Return value**: The function returns an object with at least the following instance variables\n",
    "\n",
    "  * **t**:, an array of time points where the solution is approximated\n",
    "  * **y**: a matrix of the values of the solution $y(t)$ at the time points.\n",
    "    * each row corresponds to a variable\n",
    "    * each column corresponds to a time point\n",
    "  * **status** an integer encoding the reason for algorithm termination:\n",
    "    * -1: Integration step failed.\n",
    "    * 0: The solver successfully reached the end of tspan.\n",
    "    * 1: A termination event occurred.\n",
    "  * **message**: a string holding a human-readable description of the termination reason.\n",
    "  * **success**: a boolean value, True if the solver reached the interval end or a termination event occurred (status >= 0).\n",
    "\n",
    "\n",
    "# Example The SIRS model revisited\n",
    "\n",
    "The SIRS model is a two dimensional problem, thus the initial condition is a length-2 array, and $f$ must return a length-2 array.\n",
    "\n"
   ]
  },
  {
   "cell_type": "code",
   "execution_count": null,
   "metadata": {},
   "outputs": [],
   "source": [
    "beta = 0.4\n",
    "gamma = 0.2\n",
    "rho = 1/90\n",
    "\n",
    "def SIR(t, x):\n",
    "    # x = [S, I]\n",
    "    S, I = x\n",
    "    # returns dS/st, dI/dt\n",
    "    dS = -beta*S*I + rho*(1-S-I)\n",
    "    dI = beta*S*I - gamma*I\n",
    "    return dS, dI\n",
    "\n",
    "from scipy.integrate import solve_ivp\n",
    "\n",
    "t_span = [0, 400]\n",
    "# initial conditions\n",
    "I0 = 0.0001\n",
    "S0 = 1-I0\n",
    "y = solve_ivp(SIR, t_span, [S0, I0])\n",
    "print(y)"
   ]
  },
  {
   "cell_type": "code",
   "execution_count": null,
   "metadata": {},
   "outputs": [],
   "source": [
    "from matplotlib.pyplot import plot\n",
    "plot(y.t, y.y[0], \"-g\", y.t, y.y[1], \"-r\")"
   ]
  },
  {
   "cell_type": "markdown",
   "metadata": {},
   "source": [
    "# Example 2: The pendulum\n",
    "Consider a pendulum:\n",
    "\n",
    "$$\\ddot x +\\frac{g}{\\ell}\\sin x = 0$$\n",
    "\n",
    "where $g$ is the gravitational constant, $l$ is the length of the rod, and $x$ is the angle between the rod and the vertical condition\n",
    "\n",
    "This is a second order equation, there is no closed form for the solution, so cannot be solved by sympy.dsolve.\n",
    "\n",
    "To use **solve_ivp**, we need to convert it into a system of first order equations.\n",
    "\n",
    "Let $\\dot x = y$\n",
    "\n",
    "\\begin{align*}\n",
    "\\dot x &= y\\\\\n",
    "\\dot y & = \\ddot x =-\\frac{g}{l}\\sin x\n",
    "\\end{align*}\n",
    "\n",
    "Assume $\\ell=2$, $x_0=\\pi/6$, $y_0=0$"
   ]
  },
  {
   "cell_type": "code",
   "execution_count": null,
   "metadata": {},
   "outputs": [],
   "source": [
    "from scipy.constants import g\n",
    "from numpy import sin\n",
    "from math import pi\n",
    "\n",
    "#l is an extra parameter\n",
    "def pendulum(t, xy, l):\n",
    "    x, y = xy\n",
    "    dx = y\n",
    "    dy = -g/l*sin(x)\n",
    "    return dx, dy\n",
    "\n",
    "l = 2\n",
    "x = solve_ivp(pendulum, [0, 10], y0=[pi/6, 0], \n",
    "              t_eval = linspace(0, 10, 101),\n",
    "              # here the args gives the parameters l.\n",
    "              args=[l])\n",
    "\n",
    "plot(x.t, x.y[0], '-b', x.t, x.y[1], 'r')"
   ]
  },
  {
   "cell_type": "markdown",
   "metadata": {},
   "source": [
    "## Make an animation for the pendulum"
   ]
  },
  {
   "cell_type": "code",
   "execution_count": null,
   "metadata": {},
   "outputs": [],
   "source": [
    "from matplotlib.animation import FuncAnimation\n",
    "from matplotlib.pyplot import subplots\n",
    "\n",
    "fig, ax = subplots()\n",
    "p = ax.plot([0, l*sin(x.y[0, 0])], [0, -l*cos(x.y[0,0])], '-ok')\n",
    "ax.set_aspect(1.0)\n",
    "ax.set_xlim([-1.1,1.1])\n",
    "ax.set_ylim([-2.1, 0.1])\n",
    "\n",
    "def update(i):\n",
    "    p[0].set_data([0, l*sin(x.y[0, i])], [0, -l*cos(x.y[0,i])])\n",
    "\n",
    "anim = FuncAnimation(fig, update, frames=range(0, len(x.t)))\n"
   ]
  },
  {
   "cell_type": "code",
   "execution_count": null,
   "metadata": {},
   "outputs": [],
   "source": [
    "from IPython.display import HTML\n",
    "HTML(anim.to_html5_video())"
   ]
  },
  {
   "cell_type": "code",
   "execution_count": null,
   "metadata": {},
   "outputs": [],
   "source": []
  }
 ],
 "metadata": {
  "kernelspec": {
   "display_name": "Python 3 (ipykernel)",
   "language": "python",
   "name": "python3"
  },
  "language_info": {
   "codemirror_mode": {
    "name": "ipython",
    "version": 3
   },
   "file_extension": ".py",
   "mimetype": "text/x-python",
   "name": "python",
   "nbconvert_exporter": "python",
   "pygments_lexer": "ipython3",
   "version": "3.9.7"
  }
 },
 "nbformat": 4,
 "nbformat_minor": 4
}
