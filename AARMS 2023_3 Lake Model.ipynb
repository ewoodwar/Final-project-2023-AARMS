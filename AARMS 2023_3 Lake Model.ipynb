{
 "cells": [
  {
   "cell_type": "code",
   "execution_count": 15,
   "metadata": {},
   "outputs": [
    {
     "data": {
      "text/plain": [
       "[Eq(x(t), Piecewise((C1*Piecewise((-m12/2 + m21/2 + m23/2 + sqrt(4*m12*m21 + (-m12 + m21 + m23)**2)/2, Eq(m21, 0) & Eq(m12 + r, m12/2 + m21/2 + m23/2 + r - sqrt(4*m12*m21 + (-m12 + m21 + m23)**2)/2)), (m21, True))*exp(t*(-m12/2 - m21/2 - m23/2 - r + sqrt(4*m12*m21 + (-m12 + m21 + m23)**2)/2)) + C2*Piecewise((-m12/2 + m21/2 + m23/2 - sqrt(4*m12*m21 + (-m12 + m21 + m23)**2)/2, Eq(m21, 0) & Eq(m12 + r, m12/2 + m21/2 + m23/2 + r + sqrt(4*m12*m21 + (-m12 + m21 + m23)**2)/2)), (m21, True))*exp(t*(-m12/2 - m21/2 - m23/2 - r - sqrt(4*m12*m21 + (-m12 + m21 + m23)**2)/2)), Ne(m12**2 + 2*m12*m21 - 2*m12*m23 + m21**2 + 2*m21*m23 + m23**2, 0)), (C1*exp(t*(-m12/2 - m21/2 - m23/2 - r + sqrt(4*m12*m21 + (-m12 + m21 + m23)**2)/2)), Eq(m12, 0) & Eq(m21, 0) & Eq(m12 + r, m21 + m23 + r)), ((C1*Piecewise((-m12/2 + m21/2 + m23/2 + sqrt(4*m12*m21 + (-m12 + m21 + m23)**2)/2, Eq(m21, 0) & Eq(m12 + r, m12/2 + m21/2 + m23/2 + r - sqrt(4*m12*m21 + (-m12 + m21 + m23)**2)/2)), (m21, True)) + C2*(t*Piecewise((-m12/2 + m21/2 + m23/2 + sqrt(4*m12*m21 + (-m12 + m21 + m23)**2)/2, Eq(m21, 0) & Eq(m12 + r, m12/2 + m21/2 + m23/2 + r - sqrt(4*m12*m21 + (-m12 + m21 + m23)**2)/2)), (m21, True)) + Piecewise((1, Eq(m21, 0) & Eq(m12 + r, m12/2 + m21/2 + m23/2 + r - sqrt(4*m12*m21 + (-m12 + m21 + m23)**2)/2)), (0, Eq(m12 + r, m12/2 + m21/2 + m23/2 + r - sqrt(4*m12*m21 + (-m12 + m21 + m23)**2)/2)), (m21/(-m12/2 + m21/2 + m23/2 - sqrt(4*m12*m21 + (-m12 + m21 + m23)**2)/2), True))))*exp(t*(-m12/2 - m21/2 - m23/2 - r + sqrt(4*m12*m21 + (-m12 + m21 + m23)**2)/2)), True))),\n",
       " Eq(y(t), Piecewise((C1*Piecewise((m12, Eq(m21, 0) & Eq(m12 + r, m12/2 + m21/2 + m23/2 + r - sqrt(4*m12*m21 + (-m12 + m21 + m23)**2)/2)), (m12/2 - m21/2 - m23/2 + sqrt(4*m12*m21 + (-m12 + m21 + m23)**2)/2, True))*exp(t*(-m12/2 - m21/2 - m23/2 - r + sqrt(4*m12*m21 + (-m12 + m21 + m23)**2)/2)) + C2*Piecewise((m12, Eq(m21, 0) & Eq(m12 + r, m12/2 + m21/2 + m23/2 + r + sqrt(4*m12*m21 + (-m12 + m21 + m23)**2)/2)), (m12/2 - m21/2 - m23/2 - sqrt(4*m12*m21 + (-m12 + m21 + m23)**2)/2, True))*exp(t*(-m12/2 - m21/2 - m23/2 - r - sqrt(4*m12*m21 + (-m12 + m21 + m23)**2)/2)), Ne(m12**2 + 2*m12*m21 - 2*m12*m23 + m21**2 + 2*m21*m23 + m23**2, 0)), (C2*exp(t*(-m12/2 - m21/2 - m23/2 - r + sqrt(4*m12*m21 + (-m12 + m21 + m23)**2)/2)), Eq(m12, 0) & Eq(m21, 0) & Eq(m12 + r, m21 + m23 + r)), ((C1*Piecewise((m12, Eq(m21, 0) & Eq(m12 + r, m12/2 + m21/2 + m23/2 + r - sqrt(4*m12*m21 + (-m12 + m21 + m23)**2)/2)), (m12/2 - m21/2 - m23/2 + sqrt(4*m12*m21 + (-m12 + m21 + m23)**2)/2, True)) + C2*(t*Piecewise((m12, Eq(m21, 0) & Eq(m12 + r, m12/2 + m21/2 + m23/2 + r - sqrt(4*m12*m21 + (-m12 + m21 + m23)**2)/2)), (m12/2 - m21/2 - m23/2 + sqrt(4*m12*m21 + (-m12 + m21 + m23)**2)/2, True)) + Piecewise((0, Eq(m21, 0) & Eq(m12 + r, m12/2 + m21/2 + m23/2 + r - sqrt(4*m12*m21 + (-m12 + m21 + m23)**2)/2)), (1, Eq(m12 + r, m12/2 + m21/2 + m23/2 + r - sqrt(4*m12*m21 + (-m12 + m21 + m23)**2)/2)), (0, True))))*exp(t*(-m12/2 - m21/2 - m23/2 - r + sqrt(4*m12*m21 + (-m12 + m21 + m23)**2)/2)), True)))]"
      ]
     },
     "metadata": {},
     "output_type": "display_data"
    }
   ],
   "source": [
    "from sympy import *\n",
    "import numpy as np\n",
    "import matplotlib.pyplot as plt\n",
    "\n",
    "t, r, k, a1, a2, m12, m21,m23, m13  = symbols(\"t, r, k, a1, a2, m12, m21, m23, m13\")\n",
    "x = Function(\"x\")\n",
    "y = Function(\"y\")\n",
    "z = Function(\"z\")\n",
    "\n",
    "#Differential Equation 01, including:\n",
    "# r = positive growth rate\n",
    "# k1, k2 = Carrying Capacity\n",
    "# a1 = percentage decrease due to human induced Allee Effects in patch 1\n",
    "# a2 = percentage decrease due to environmental Allee Effects in patch 2\n",
    "# m12, m21 = Migration from Patch 1 to 2 and 2 to 1 respectively\n",
    "\n",
    "Patch_1 = Eq(diff(x(t), t), r * ((x(t)/a1) - 1) * ((1 - (x(t)/k)) * x(t)) - (m12 * x(t)) + (m21 * y(t)))\n",
    "\n",
    "Patch_2 = Eq(diff(y(t), t), r * ((y(t)/a2) - 1) * (1 - (y(t)/k)) * y(t) + (m12 * x(t)) - (m21 * y(t))\n",
    "\n",
    "solution= dsolve([Patch_1, Patch_2], [x(t), y(t)])\n",
    "display(solution)"
   ]
  },
  {
   "cell_type": "code",
   "execution_count": 18,
   "metadata": {},
   "outputs": [
    {
     "data": {
      "text/latex": [
       "$\\displaystyle \\left\\{\\left( 0, \\  0\\right)\\right\\}$"
      ],
      "text/plain": [
       "FiniteSet((0, 0))"
      ]
     },
     "metadata": {},
     "output_type": "display_data"
    },
    {
     "name": "stdout",
     "output_type": "stream",
     "text": [
      "[(0, 0)]\n"
     ]
    }
   ],
   "source": [
    "#Three Patch Coupled System of ODEs\n",
    "DS1 = r * ((x(t)/a1) - 1) * (1 - (x(t)/k)) * x(t) - m12 * x(t) - m21 *y(t)\n",
    "DS2 = r * ((y(t)/a2) - 1) * (1 - (y(t)/k)) * y(t) + m12 * x(t) - m21 *y(t)\n",
    "\n",
    "\n",
    "\n",
    "#Finding the Equilibrium Values\n",
    "Equilibrium= nonlinsolve([DS1,DS2], [x(t), y(t)])\n",
    "display(Equilibrium)\n",
    "\n",
    "eq_list = list(Equilibrium)\n",
    "print(eq_list)"
   ]
  },
  {
   "cell_type": "code",
   "execution_count": null,
   "metadata": {},
   "outputs": [],
   "source": [
    "Jacobian = Matrix(\n",
    "    [\n",
    "    [diff(DS1, x(t)), diff(DS1, y(t)), diff(DS1, z(t))], \n",
    "    [diff(DS2, x(t)), diff(DS2, y(t)), diff]\n",
    "    ])\n",
    "Jacobian"
   ]
  },
  {
   "cell_type": "code",
   "execution_count": 17,
   "metadata": {},
   "outputs": [
    {
     "ename": "NameError",
     "evalue": "name 'Jacobian' is not defined",
     "output_type": "error",
     "traceback": [
      "\u001b[1;31m---------------------------------------------------------------------------\u001b[0m",
      "\u001b[1;31mNameError\u001b[0m                                 Traceback (most recent call last)",
      "\u001b[1;32m<ipython-input-17-8dc81a655398>\u001b[0m in \u001b[0;36m<module>\u001b[1;34m\u001b[0m\n\u001b[0;32m      1\u001b[0m \u001b[1;32mfor\u001b[0m \u001b[0mi\u001b[0m \u001b[1;32min\u001b[0m \u001b[0meq_list\u001b[0m\u001b[1;33m:\u001b[0m\u001b[1;33m\u001b[0m\u001b[1;33m\u001b[0m\u001b[0m\n\u001b[1;32m----> 2\u001b[1;33m     \u001b[0mJac\u001b[0m \u001b[1;33m=\u001b[0m \u001b[0msimplify\u001b[0m\u001b[1;33m(\u001b[0m\u001b[0mJacobian\u001b[0m\u001b[1;33m.\u001b[0m\u001b[0msubs\u001b[0m\u001b[1;33m(\u001b[0m\u001b[1;33m{\u001b[0m\u001b[0mx\u001b[0m\u001b[1;33m(\u001b[0m\u001b[0mt\u001b[0m\u001b[1;33m)\u001b[0m \u001b[1;33m:\u001b[0m \u001b[0mi\u001b[0m\u001b[1;33m[\u001b[0m\u001b[1;36m0\u001b[0m\u001b[1;33m]\u001b[0m\u001b[1;33m,\u001b[0m \u001b[0my\u001b[0m\u001b[1;33m(\u001b[0m\u001b[0mt\u001b[0m\u001b[1;33m)\u001b[0m \u001b[1;33m:\u001b[0m \u001b[0mi\u001b[0m\u001b[1;33m[\u001b[0m\u001b[1;36m1\u001b[0m\u001b[1;33m]\u001b[0m\u001b[1;33m}\u001b[0m\u001b[1;33m)\u001b[0m\u001b[1;33m)\u001b[0m\u001b[1;33m\u001b[0m\u001b[1;33m\u001b[0m\u001b[0m\n\u001b[0m\u001b[0;32m      3\u001b[0m     \u001b[0mdisplay\u001b[0m\u001b[1;33m(\u001b[0m\u001b[0mJac\u001b[0m\u001b[1;33m)\u001b[0m\u001b[1;33m\u001b[0m\u001b[1;33m\u001b[0m\u001b[0m\n",
      "\u001b[1;31mNameError\u001b[0m: name 'Jacobian' is not defined"
     ]
    }
   ],
   "source": [
    "for i in eq_list: \n",
    "    Jac = simplify(Jacobian.subs({x(t) : i[0], y(t) : i[1]}))\n",
    "    display(Jac)"
   ]
  }
 ],
 "metadata": {
  "kernelspec": {
   "display_name": "base",
   "language": "python",
   "name": "python3"
  },
  "language_info": {
   "codemirror_mode": {
    "name": "ipython",
    "version": 3
   },
   "file_extension": ".py",
   "mimetype": "text/x-python",
   "name": "python",
   "nbconvert_exporter": "python",
   "pygments_lexer": "ipython3",
   "version": "3.7.6"
  },
  "orig_nbformat": 4
 },
 "nbformat": 4,
 "nbformat_minor": 2
}
