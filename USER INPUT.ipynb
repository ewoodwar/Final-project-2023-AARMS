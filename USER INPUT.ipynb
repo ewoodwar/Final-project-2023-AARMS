{
 "cells": [
  {
   "cell_type": "markdown",
   "metadata": {},
   "source": [
    "## User Input Files\n",
    "\n",
    "#This code is used to calculate equilibrium points, plot nullclines and to plot phase plane plots"
   ]
  },
  {
   "cell_type": "code",
   "execution_count": null,
   "metadata": {},
   "outputs": [],
   "source": [
    "#All Importations\n",
    "from sympy import *\n",
    "import numpy as np\n",
    "import matplotlib.pyplot as plt\n"
   ]
  },
  {
   "cell_type": "code",
   "execution_count": null,
   "metadata": {},
   "outputs": [],
   "source": [
    "#Finding the roots of the polynomial \n",
    "#Input vales you would like to test for a1, a2 and m\n",
    "t, m = symbols(\"t, m\")\n",
    "a1 = float(input('Measure of Allee Effect in the first population?'))\n",
    "a2 = float(input('Measure of Allee Effect in the second population?'))\n",
    "m = float(input('Symmetric Migration rate from Patch 1 to Patch 2 and Patch 2 to Patch 1)?'))\n",
    "x = Function(\"x\")\n",
    "y = Function(\"y\")\n",
    "\n",
    "y_exp_trial= ((((x(t)/a1) - 1) * (1 - x(t)) * x(t)) + m* x(t))/(-m)\n",
    "exp_trial = ((y(t)/a2) - 1) * (1 - y(t)) * y(t) + m* (x(t) - y(t))\n",
    "res_exp_trial = exp_trial.subs(y(t), y_exp_trial) \n",
    "\n",
    "#Ignore most imaginary roots \n",
    "Equilib_pts = nroots(res_exp_trial)\n",
    "N = 3\n",
    "result = Equilib_pts[:N]\n",
    "\n",
    "#Turning list into array\n",
    "Equilib_pts_1=np.array(result)\n",
    "display(result)"
   ]
  },
  {
   "cell_type": "code",
   "execution_count": null,
   "metadata": {},
   "outputs": [],
   "source": [
    "#System of non-dimensionalized equations\n",
    "DS1 = ((x(t)/a1) - 1) * (1 - x(t)) * x(t) + m*(-x(t)+ y(t))\n",
    "DS2 = ((y(t)/a2) - 1) * (1 - y(t)) * y(t) + m*(x(t) - y(t))\n",
    "\n",
    "#The Jacobian for the Matrix\n",
    "Jacobian = Matrix(\n",
    "    [\n",
    "    [diff(DS1, x(t)), diff(DS1, y(t))], \n",
    "    [diff(DS2, x(t)), diff(DS2, y(t))]\n",
    "    ])\n",
    "Jacobian\n",
    "\n",
    "#Loop to calculate the Jacobian at each point\n",
    "#Then determine the Stability of each of the equilibrium points\n",
    "for i in result: \n",
    "    Jac = simplify(Jacobian.subs({x(t) : i, y(t): 0}))\n",
    "    display(Jac)\n",
    "    stabil= det(Jac)\n",
    "    display(stabil)\n",
    "    if stabil > 0:\n",
    "        print('This equilibrium point is stable')\n",
    "    else :\n",
    "        print('This Equibilibrium Point is unstable')\n"
   ]
  },
  {
   "cell_type": "code",
   "execution_count": null,
   "metadata": {},
   "outputs": [],
   "source": [
    "def f(Y, t):\n",
    "    x, y = Y\n",
    "    return [((x/a1) - 1) * (1 - x) * x + m* (y-x), ((y/a2) - 1) * (1 - y) * y + m * (x-y)]\n",
    "\n",
    "x1 = np.linspace(0.0, 10.0, 50)\n",
    "y1 = np.linspace(0.0, 10.0, 50)\n",
    "\n",
    "Y1, Y2 = np.meshgrid(x1, y1)\n",
    "\n",
    "t = 0\n",
    "\n",
    "u, v = np.zeros(Y1.shape), np.zeros(Y2.shape)\n",
    "\n",
    "NI, NJ = Y1.shape\n",
    "\n",
    "for i in range(NI):\n",
    "    for j in range(NJ):\n",
    "        x = Y1[i, j]\n",
    "        y = Y2[i, j]\n",
    "        yprime = f([x, y], t)\n",
    "        u[i,j] = yprime[0]\n",
    "        v[i,j] = yprime[1]\n",
    "     \n",
    "\n",
    "Q = plt.quiver(Y1, Y2, u, v, color='r')\n",
    "\n",
    "plt.xlabel('$n1(t)$')\n",
    "plt.ylabel('$n2(t)$')\n",
    "plt.title('Phase Plane for Non-Dimensional System')\n",
    "\n",
    "\n",
    "from scipy.integrate import odeint\n",
    "l = [0.0,0.5, 1.0, 2.0, 3.0, 4.0, 5.0, 6.0, 7.0, 9.0, 10.0]\n",
    "for y20 in l:\n",
    "    for y10 in l:\n",
    "        tspan = np.linspace(0, 50, 200)\n",
    "        y0 = [y10, y20]\n",
    "        ys = odeint(f, y0, tspan)\n",
    "        plt.plot(ys[:,0], ys[:,1], 'b-') # path\n",
    "    # plt.plot([ys[0,0]], [ys[0,1]], 'o') # start\n",
    "    # plt.plot([ys[-1,0]], [ys[-1,1]], 's') # end\n",
    "    \n",
    "\n",
    "plt.xlim([0, 10])\n",
    "plt.ylim([0,10])\n",
    "\n",
    "plt.show()"
   ]
  },
  {
   "cell_type": "code",
   "execution_count": null,
   "metadata": {},
   "outputs": [],
   "source": [
    "#Nullclines \n",
    "\n",
    "fig= plt.figure(1, figsize=(7,7))\n",
    "\n",
    "delta= 0.025\n",
    "x_2,y_2 = np.meshgrid(np.arange(0,5,delta), np.arange(0,5,delta))\n",
    "\n",
    "f1 = ((x_2/a1) - 1) * (1 - x_2) * x_2 - (m * x_2)+ (m*y_2)\n",
    "f2 = ((y_2/a2) - 1) * (1 - y_2) * y_2 + (m * x_2)- (m*y_2)\n",
    "\n",
    "plt.contour(x_2, y_2, f1,[0])\n",
    "plt.contour(x_2, y_2, f2, [0])\n",
    "plt.title('Nullclines for the Two Patch Model System')\n",
    "plt.xlabel('$n1(t)$')\n",
    "plt.ylabel('$n2(t)$')\n",
    "plt.show"
   ]
  }
 ],
 "metadata": {
  "kernelspec": {
   "display_name": "base",
   "language": "python",
   "name": "python3"
  },
  "language_info": {
   "codemirror_mode": {
    "name": "ipython",
    "version": 3
   },
   "file_extension": ".py",
   "mimetype": "text/x-python",
   "name": "python",
   "nbconvert_exporter": "python",
   "pygments_lexer": "ipython3",
   "version": "3.7.6"
  },
  "orig_nbformat": 4
 },
 "nbformat": 4,
 "nbformat_minor": 2
}
