{
 "cells": [
  {
   "cell_type": "markdown",
   "metadata": {},
   "source": [
    "## User Input Files\n",
    "\n",
    "#This code is used to calcualte eqauilibrium points, plot nullclines and to plot phase plane plots"
   ]
  },
  {
   "cell_type": "code",
   "execution_count": 3,
   "metadata": {},
   "outputs": [],
   "source": [
    "#All Importations\n",
    "from sympy import *\n",
    "import numpy as np\n",
    "import matplotlib.pyplot as plt\n"
   ]
  },
  {
   "cell_type": "code",
   "execution_count": 23,
   "metadata": {},
   "outputs": [
    {
     "data": {
      "text/plain": [
       "[0, 0.115026403074735, 1.46028287396870]"
      ]
     },
     "metadata": {},
     "output_type": "display_data"
    }
   ],
   "source": [
    "#Finding the roots of the polynomial \n",
    "#Input vales you would like to test for a1, a2 and m\n",
    "t, m = symbols(\"t, m\")\n",
    "a1 = float(input('Measure of Allee Effect in the first population?'))\n",
    "a2 = float(input('Measure of Allee Effect in the second population?'))\n",
    "m = float(input('Symmetric Migration rate from Patch 1 to Patch 2 and Patch 2 to Patch 1)?'))\n",
    "x = Function(\"x\")\n",
    "y = Function(\"y\")\n",
    "\n",
    "y_exp_trial= ((((x(t)/a1) - 1) * (1 - x(t)) * x(t)) + m* x(t))/(-0.5)\n",
    "exp_trial = ((y(t)/a2) - 1) * (1 - y(t)) * y(t) + m* (x(t) - y(t))\n",
    "res_exp_trial = exp_trial.subs(y(t), y_exp_trial) \n",
    "\n",
    "#Ignore all imaginary roots \n",
    "Equilib_pts = nroots(res_exp_trial)\n",
    "N = 3\n",
    "result = Equilib_pts[:N]\n",
    "\n",
    "#Turning list into array\n",
    "Equilib_pts_1=np.array(result)\n",
    "display(result)"
   ]
  },
  {
   "cell_type": "code",
   "execution_count": 25,
   "metadata": {},
   "outputs": [
    {
     "data": {
      "text/latex": [
       "$\\displaystyle \\left[\\begin{matrix}-1.5 & 0.5\\\\0.5 & -1.5\\end{matrix}\\right]$"
      ],
      "text/plain": [
       "Matrix([\n",
       "[-1.5,  0.5],\n",
       "[ 0.5, -1.5]])"
      ]
     },
     "metadata": {},
     "output_type": "display_data"
    },
    {
     "data": {
      "text/latex": [
       "$\\displaystyle \\left[\\begin{matrix}-0.889228021977458 & 0.5\\\\0.5 & -1.5\\end{matrix}\\right]$"
      ],
      "text/plain": [
       "Matrix([\n",
       "[-0.889228021977458,  0.5],\n",
       "[               0.5, -1.5]])"
      ]
     },
     "metadata": {},
     "output_type": "display_data"
    },
    {
     "data": {
      "text/latex": [
       "$\\displaystyle \\left[\\begin{matrix}-5.53285918822546 & 0.5\\\\0.5 & -1.5\\end{matrix}\\right]$"
      ],
      "text/plain": [
       "Matrix([\n",
       "[-5.53285918822546,  0.5],\n",
       "[              0.5, -1.5]])"
      ]
     },
     "metadata": {},
     "output_type": "display_data"
    }
   ],
   "source": [
    "DS1 = ((x(t)/a1) - 1) * (1 - x(t)) * x(t) + m*(-x(t)+ y(t))\n",
    "DS2 = ((y(t)/a2) - 1) * (1 - y(t)) * y(t) + m*(x(t) - y(t))\n",
    "\n",
    "#The Jacobian for the Matrix\n",
    "Jacobian = Matrix(\n",
    "    [\n",
    "    [diff(DS1, x(t)), diff(DS1, y(t))], \n",
    "    [diff(DS2, x(t)), diff(DS2, y(t))]\n",
    "    ])\n",
    "Jacobian\n",
    "\n",
    "#Loop to calculate the Jacobian at each point\n",
    "for i in result: \n",
    "    Jac = simplify(Jacobian.subs({x(t) : i, y(t): 0}))\n",
    "    display(Jac)\n",
    "\n",
    "\n",
    "\n"
   ]
  },
  {
   "cell_type": "code",
   "execution_count": null,
   "metadata": {},
   "outputs": [],
   "source": []
  }
 ],
 "metadata": {
  "kernelspec": {
   "display_name": "base",
   "language": "python",
   "name": "python3"
  },
  "language_info": {
   "codemirror_mode": {
    "name": "ipython",
    "version": 3
   },
   "file_extension": ".py",
   "mimetype": "text/x-python",
   "name": "python",
   "nbconvert_exporter": "python",
   "pygments_lexer": "ipython3",
   "version": "3.7.6"
  },
  "orig_nbformat": 4
 },
 "nbformat": 4,
 "nbformat_minor": 2
}
