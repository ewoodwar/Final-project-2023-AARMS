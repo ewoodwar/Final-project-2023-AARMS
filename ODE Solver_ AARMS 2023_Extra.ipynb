{
 "cells": [
  {
   "cell_type": "code",
   "execution_count": 2,
   "metadata": {},
   "outputs": [
    {
     "data": {
      "text/plain": [
       "[Eq(x(t), Piecewise((C1*Piecewise((-m12/2 + m21/2 + sqrt(4*m12*m21 + (-m12 + m21)**2)/2, Eq(m21, 0) & Eq(m12 + r, m12/2 + m21/2 + r - sqrt(4*m12*m21 + (-m12 + m21)**2)/2)), (m21, True))*exp(t*(-m12/2 - m21/2 - r + sqrt(4*m12*m21 + (-m12 + m21)**2)/2)) + C2*Piecewise((-m12/2 + m21/2 - sqrt(4*m12*m21 + (-m12 + m21)**2)/2, Eq(m21, 0) & Eq(m12 + r, m12/2 + m21/2 + r + sqrt(4*m12*m21 + (-m12 + m21)**2)/2)), (m21, True))*exp(t*(-m12/2 - m21/2 - r - sqrt(4*m12*m21 + (-m12 + m21)**2)/2)), Ne(m12**2 + 2*m12*m21 + m21**2, 0)), (C1*exp(t*(-m12/2 - m21/2 - r + sqrt(4*m12*m21 + (-m12 + m21)**2)/2)), Eq(m12, 0) & Eq(m21, 0) & Eq(m12 + r, m21 + r)), ((C1*Piecewise((-m12/2 + m21/2 + sqrt(4*m12*m21 + (-m12 + m21)**2)/2, Eq(m21, 0) & Eq(m12 + r, m12/2 + m21/2 + r - sqrt(4*m12*m21 + (-m12 + m21)**2)/2)), (m21, True)) + C2*(t*Piecewise((-m12/2 + m21/2 + sqrt(4*m12*m21 + (-m12 + m21)**2)/2, Eq(m21, 0) & Eq(m12 + r, m12/2 + m21/2 + r - sqrt(4*m12*m21 + (-m12 + m21)**2)/2)), (m21, True)) + Piecewise((1, Eq(m21, 0) & Eq(m12 + r, m12/2 + m21/2 + r - sqrt(4*m12*m21 + (-m12 + m21)**2)/2)), (0, Eq(m12 + r, m12/2 + m21/2 + r - sqrt(4*m12*m21 + (-m12 + m21)**2)/2)), (m21/(-m12/2 + m21/2 - sqrt(4*m12*m21 + (-m12 + m21)**2)/2), True))))*exp(t*(-m12/2 - m21/2 - r + sqrt(4*m12*m21 + (-m12 + m21)**2)/2)), True))),\n",
       " Eq(y(t), Piecewise((C1*Piecewise((m12, Eq(m21, 0) & Eq(m12 + r, m12/2 + m21/2 + r - sqrt(4*m12*m21 + (-m12 + m21)**2)/2)), (m12/2 - m21/2 + sqrt(4*m12*m21 + (-m12 + m21)**2)/2, True))*exp(t*(-m12/2 - m21/2 - r + sqrt(4*m12*m21 + (-m12 + m21)**2)/2)) + C2*Piecewise((m12, Eq(m21, 0) & Eq(m12 + r, m12/2 + m21/2 + r + sqrt(4*m12*m21 + (-m12 + m21)**2)/2)), (m12/2 - m21/2 - sqrt(4*m12*m21 + (-m12 + m21)**2)/2, True))*exp(t*(-m12/2 - m21/2 - r - sqrt(4*m12*m21 + (-m12 + m21)**2)/2)), Ne(m12**2 + 2*m12*m21 + m21**2, 0)), (C2*exp(t*(-m12/2 - m21/2 - r + sqrt(4*m12*m21 + (-m12 + m21)**2)/2)), Eq(m12, 0) & Eq(m21, 0) & Eq(m12 + r, m21 + r)), ((C1*Piecewise((m12, Eq(m21, 0) & Eq(m12 + r, m12/2 + m21/2 + r - sqrt(4*m12*m21 + (-m12 + m21)**2)/2)), (m12/2 - m21/2 + sqrt(4*m12*m21 + (-m12 + m21)**2)/2, True)) + C2*(t*Piecewise((m12, Eq(m21, 0) & Eq(m12 + r, m12/2 + m21/2 + r - sqrt(4*m12*m21 + (-m12 + m21)**2)/2)), (m12/2 - m21/2 + sqrt(4*m12*m21 + (-m12 + m21)**2)/2, True)) + Piecewise((0, Eq(m21, 0) & Eq(m12 + r, m12/2 + m21/2 + r - sqrt(4*m12*m21 + (-m12 + m21)**2)/2)), (1, Eq(m12 + r, m12/2 + m21/2 + r - sqrt(4*m12*m21 + (-m12 + m21)**2)/2)), (0, True))))*exp(t*(-m12/2 - m21/2 - r + sqrt(4*m12*m21 + (-m12 + m21)**2)/2)), True)))]"
      ]
     },
     "execution_count": 2,
     "metadata": {},
     "output_type": "execute_result"
    }
   ],
   "source": [
    "from sympy import *\n",
    "import numpy as np\n",
    "import matplotlib.pyplot as plt\n",
    "\n",
    "t, r, k, a1, a2, m12, m21, m = symbols(\"t, r, k, a1, a2, m12, m21, m\")\n",
    "x = Function(\"x\")\n",
    "y = Function(\"y\")\n",
    "\n",
    "#Differential Equation 01, including:\n",
    "# r = positive growth rate\n",
    "# k1, k2 = Carrying Capacity\n",
    "# a1 = percentage decrease due to human induced Allee Effects in patch 1\n",
    "# a2 = percentage decrease due to environmental Allee Effects in patch 2\n",
    "# m12 = Migration from Patch 1 to 2\n",
    "Patch_1 = Eq(diff(x(t), t), r * ((x(t)/a1) - 1) * ((1 - (x(t)/k)) * x(t)) - (m12 * x(t))+ (m21*y(t)))\n",
    "\n",
    "Patch_2 = Eq(diff(y(t), t), r * ((y(t)/a2) - 1) * (1 - (y(t)/k)) * y(t) + (m12 * x(t))- (m21*y(t)))\n",
    "\n",
    "\n",
    "solution= dsolve([Patch_1, Patch_2], [x(t), y(t)])\n",
    "solution\n"
   ]
  },
  {
   "cell_type": "code",
   "execution_count": 50,
   "metadata": {},
   "outputs": [
    {
     "data": {
      "text/latex": [
       "$\\displaystyle \\left\\{\\left( 0, \\  0\\right)\\right\\}$"
      ],
      "text/plain": [
       "FiniteSet((0, 0))"
      ]
     },
     "metadata": {},
     "output_type": "display_data"
    },
    {
     "name": "stdout",
     "output_type": "stream",
     "text": [
      "[(0, 0)]\n"
     ]
    }
   ],
   "source": [
    "#Two Patch Coupled System of ODEs (symmetric migration)\n",
    "DS1 = r * ((x(t)/a1) - 1) * (1 - (x(t)/k)) * x(t) - m12 * x(t) + m21 * y(t)\n",
    "DS2 = r * ((y(t)/a2) - 1) * (1 - (y(t)/k)) * y(t) + m12 * x(t) - m21 * y(t)\n",
    "\n",
    "#Finding the Equilibrium Values\n",
    "Equilibrium= nonlinsolve([DS1,DS2], [x(t), y(t)])\n",
    "display(Equilibrium)\n",
    "\n",
    "eq_list = list(Equilibrium)\n",
    "print(eq_list)\n",
    "\n",
    "\n",
    "# This code only finds the 0,0 equlibrium, which is trivial"
   ]
  },
  {
   "cell_type": "code",
   "execution_count": 51,
   "metadata": {},
   "outputs": [
    {
     "data": {
      "text/latex": [
       "$\\displaystyle r \\left(-1 + \\frac{x{\\left(t \\right)}}{a_{1}}\\right) \\left(1 - \\frac{x{\\left(t \\right)}}{k}\\right) x{\\left(t \\right)} - \\frac{r \\left(-1 - \\frac{- m_{12} x{\\left(t \\right)} + r \\left(-1 + \\frac{x{\\left(t \\right)}}{a_{1}}\\right) \\left(1 - \\frac{x{\\left(t \\right)}}{k}\\right) x{\\left(t \\right)}}{a_{2} m_{21}}\\right) \\left(1 + \\frac{- m_{12} x{\\left(t \\right)} + r \\left(-1 + \\frac{x{\\left(t \\right)}}{a_{1}}\\right) \\left(1 - \\frac{x{\\left(t \\right)}}{k}\\right) x{\\left(t \\right)}}{k m_{21}}\\right) \\left(- m_{12} x{\\left(t \\right)} + r \\left(-1 + \\frac{x{\\left(t \\right)}}{a_{1}}\\right) \\left(1 - \\frac{x{\\left(t \\right)}}{k}\\right) x{\\left(t \\right)}\\right)}{m_{21}}$"
      ],
      "text/plain": [
       "r*(-1 + x(t)/a1)*(1 - x(t)/k)*x(t) - r*(-1 - (-m12*x(t) + r*(-1 + x(t)/a1)*(1 - x(t)/k)*x(t))/(a2*m21))*(1 + (-m12*x(t) + r*(-1 + x(t)/a1)*(1 - x(t)/k)*x(t))/(k*m21))*(-m12*x(t) + r*(-1 + x(t)/a1)*(1 - x(t)/k)*x(t))/m21"
      ]
     },
     "metadata": {},
     "output_type": "display_data"
    },
    {
     "data": {
      "text/latex": [
       "$\\displaystyle - \\frac{r \\left(a_{1}^{2} a_{2} k^{3} m_{21}^{3} \\left(a_{1} - x{\\left(t \\right)}\\right) \\left(k - x{\\left(t \\right)}\\right) + \\left(a_{1} k m_{12} + r \\left(a_{1} - x{\\left(t \\right)}\\right) \\left(k - x{\\left(t \\right)}\\right)\\right) \\left(- a_{1} k^{2} m_{21} + a_{1} k m_{12} x{\\left(t \\right)} + r \\left(a_{1} - x{\\left(t \\right)}\\right) \\left(k - x{\\left(t \\right)}\\right) x{\\left(t \\right)}\\right) \\left(- a_{1} a_{2} k m_{21} + a_{1} k m_{12} x{\\left(t \\right)} + r \\left(a_{1} - x{\\left(t \\right)}\\right) \\left(k - x{\\left(t \\right)}\\right) x{\\left(t \\right)}\\right)\\right) x{\\left(t \\right)}}{a_{1}^{3} a_{2} k^{4} m_{21}^{3}}$"
      ],
      "text/plain": [
       "-r*(a1**2*a2*k**3*m21**3*(a1 - x(t))*(k - x(t)) + (a1*k*m12 + r*(a1 - x(t))*(k - x(t)))*(-a1*k**2*m21 + a1*k*m12*x(t) + r*(a1 - x(t))*(k - x(t))*x(t))*(-a1*a2*k*m21 + a1*k*m12*x(t) + r*(a1 - x(t))*(k - x(t))*x(t)))*x(t)/(a1**3*a2*k**4*m21**3)"
      ]
     },
     "metadata": {},
     "output_type": "display_data"
    }
   ],
   "source": [
    "#Finding the Nullcline Polynomial- Regular System\n",
    "\n",
    "from sympy import *\n",
    "y_exp= (r * ((x(t)/a1) - 1) * (1 - (x(t)/k)) * x(t) - m12 * x(t))/(-m21)\n",
    "exp = r * ((y(t)/a2) - 1) * (1 - (y(t)/k)) * y(t) + m12 * x(t) - m21 * y(t)\n",
    "res_exp = exp.subs(y(t), y_exp) \n",
    "\n",
    "#Simplifying the expression\n",
    "res_exp_1 = simplify(res_exp)\n",
    "display(res_exp)\n",
    "display(res_exp_1)\n",
    "\n"
   ]
  },
  {
   "cell_type": "code",
   "execution_count": 52,
   "metadata": {},
   "outputs": [
    {
     "data": {
      "text/latex": [
       "$\\displaystyle \\frac{a_{1}^{2} a_{2} m^{3} \\left(2 a_{1} m + \\left(a_{1} - x{\\left(t \\right)}\\right) \\left(x{\\left(t \\right)} - 1\\right)\\right) + \\left(a_{1} m + \\left(a_{1} - x{\\left(t \\right)}\\right) \\left(x{\\left(t \\right)} - 1\\right)\\right) \\left(a_{1} a_{2} m + a_{1} m x{\\left(t \\right)} + \\left(a_{1} - x{\\left(t \\right)}\\right) \\left(x{\\left(t \\right)} - 1\\right) x{\\left(t \\right)}\\right) \\left(a_{1} m x{\\left(t \\right)} + a_{1} m + \\left(a_{1} - x{\\left(t \\right)}\\right) \\left(x{\\left(t \\right)} - 1\\right) x{\\left(t \\right)}\\right)}{a_{1}^{3} a_{2} m^{3}}$"
      ],
      "text/plain": [
       "(a1**2*a2*m**3*(2*a1*m + (a1 - x(t))*(x(t) - 1)) + (a1*m + (a1 - x(t))*(x(t) - 1))*(a1*a2*m + a1*m*x(t) + (a1 - x(t))*(x(t) - 1)*x(t))*(a1*m*x(t) + a1*m + (a1 - x(t))*(x(t) - 1)*x(t)))/(a1**3*a2*m**3)"
      ]
     },
     "metadata": {},
     "output_type": "display_data"
    }
   ],
   "source": [
    "#Finding the Nullcline Polynomial- Non dimensional system\n",
    "#r=1\n",
    "#k=1\n",
    "\n",
    "from sympy import *\n",
    "y_exp_1= ((((x(t)/a1) - 1) * (1 - x(t)) * x(t)) + m* x(t))/(-m)\n",
    "exp_1 = ((y(t)/a2) - 1) * (1 - y(t)) * y(t) + m * (x(t) - y(t))\n",
    "res_exp_1 = exp_1.subs(y(t), y_exp_1) \n",
    "\n",
    "#Simplifying the expression\n",
    "res_exp_2 = simplify(res_exp_1)\n",
    "res_exp_3= res_exp_2/x(t)\n",
    "\n",
    "display(res_exp_3)\n",
    "\n"
   ]
  },
  {
   "cell_type": "code",
   "execution_count": 53,
   "metadata": {},
   "outputs": [
    {
     "data": {
      "text/latex": [
       "$\\displaystyle - \\frac{m_{12} r x{\\left(t \\right)}}{m_{21}} - r x{\\left(t \\right)} - \\frac{r^{2} x{\\left(t \\right)}}{m_{21}} + \\frac{m_{12}^{2} r x^{2}{\\left(t \\right)}}{k m_{21}^{2}} + \\frac{2 m_{12} r^{2} x^{2}{\\left(t \\right)}}{k m_{21}^{2}} + \\frac{r x^{2}{\\left(t \\right)}}{k} + \\frac{r^{2} x^{2}{\\left(t \\right)}}{k m_{21}} + \\frac{r^{3} x^{2}{\\left(t \\right)}}{k m_{21}^{2}} - \\frac{2 m_{12} r^{2} x^{3}{\\left(t \\right)}}{k^{2} m_{21}^{2}} - \\frac{2 r^{3} x^{3}{\\left(t \\right)}}{k^{2} m_{21}^{2}} + \\frac{r^{3} x^{4}{\\left(t \\right)}}{k^{3} m_{21}^{2}} + \\frac{m_{12}^{2} r x^{2}{\\left(t \\right)}}{a_{2} m_{21}^{2}} + \\frac{2 m_{12} r^{2} x^{2}{\\left(t \\right)}}{a_{2} m_{21}^{2}} + \\frac{r^{3} x^{2}{\\left(t \\right)}}{a_{2} m_{21}^{2}} - \\frac{m_{12}^{3} r x^{3}{\\left(t \\right)}}{a_{2} k m_{21}^{3}} - \\frac{3 m_{12}^{2} r^{2} x^{3}{\\left(t \\right)}}{a_{2} k m_{21}^{3}} - \\frac{2 m_{12} r^{2} x^{3}{\\left(t \\right)}}{a_{2} k m_{21}^{2}} - \\frac{3 m_{12} r^{3} x^{3}{\\left(t \\right)}}{a_{2} k m_{21}^{3}} - \\frac{2 r^{3} x^{3}{\\left(t \\right)}}{a_{2} k m_{21}^{2}} - \\frac{r^{4} x^{3}{\\left(t \\right)}}{a_{2} k m_{21}^{3}} + \\frac{3 m_{12}^{2} r^{2} x^{4}{\\left(t \\right)}}{a_{2} k^{2} m_{21}^{3}} + \\frac{6 m_{12} r^{3} x^{4}{\\left(t \\right)}}{a_{2} k^{2} m_{21}^{3}} + \\frac{r^{3} x^{4}{\\left(t \\right)}}{a_{2} k^{2} m_{21}^{2}} + \\frac{3 r^{4} x^{4}{\\left(t \\right)}}{a_{2} k^{2} m_{21}^{3}} - \\frac{3 m_{12} r^{3} x^{5}{\\left(t \\right)}}{a_{2} k^{3} m_{21}^{3}} - \\frac{3 r^{4} x^{5}{\\left(t \\right)}}{a_{2} k^{3} m_{21}^{3}} + \\frac{r^{4} x^{6}{\\left(t \\right)}}{a_{2} k^{4} m_{21}^{3}} + \\frac{r x^{2}{\\left(t \\right)}}{a_{1}} + \\frac{r^{2} x^{2}{\\left(t \\right)}}{a_{1} m_{21}} - \\frac{2 m_{12} r^{2} x^{3}{\\left(t \\right)}}{a_{1} k m_{21}^{2}} - \\frac{r x^{3}{\\left(t \\right)}}{a_{1} k} - \\frac{r^{2} x^{3}{\\left(t \\right)}}{a_{1} k m_{21}} - \\frac{2 r^{3} x^{3}{\\left(t \\right)}}{a_{1} k m_{21}^{2}} + \\frac{2 m_{12} r^{2} x^{4}{\\left(t \\right)}}{a_{1} k^{2} m_{21}^{2}} + \\frac{4 r^{3} x^{4}{\\left(t \\right)}}{a_{1} k^{2} m_{21}^{2}} - \\frac{2 r^{3} x^{5}{\\left(t \\right)}}{a_{1} k^{3} m_{21}^{2}} - \\frac{2 m_{12} r^{2} x^{3}{\\left(t \\right)}}{a_{1} a_{2} m_{21}^{2}} - \\frac{2 r^{3} x^{3}{\\left(t \\right)}}{a_{1} a_{2} m_{21}^{2}} + \\frac{3 m_{12}^{2} r^{2} x^{4}{\\left(t \\right)}}{a_{1} a_{2} k m_{21}^{3}} + \\frac{2 m_{12} r^{2} x^{4}{\\left(t \\right)}}{a_{1} a_{2} k m_{21}^{2}} + \\frac{6 m_{12} r^{3} x^{4}{\\left(t \\right)}}{a_{1} a_{2} k m_{21}^{3}} + \\frac{4 r^{3} x^{4}{\\left(t \\right)}}{a_{1} a_{2} k m_{21}^{2}} + \\frac{3 r^{4} x^{4}{\\left(t \\right)}}{a_{1} a_{2} k m_{21}^{3}} - \\frac{3 m_{12}^{2} r^{2} x^{5}{\\left(t \\right)}}{a_{1} a_{2} k^{2} m_{21}^{3}} - \\frac{12 m_{12} r^{3} x^{5}{\\left(t \\right)}}{a_{1} a_{2} k^{2} m_{21}^{3}} - \\frac{2 r^{3} x^{5}{\\left(t \\right)}}{a_{1} a_{2} k^{2} m_{21}^{2}} - \\frac{9 r^{4} x^{5}{\\left(t \\right)}}{a_{1} a_{2} k^{2} m_{21}^{3}} + \\frac{6 m_{12} r^{3} x^{6}{\\left(t \\right)}}{a_{1} a_{2} k^{3} m_{21}^{3}} + \\frac{9 r^{4} x^{6}{\\left(t \\right)}}{a_{1} a_{2} k^{3} m_{21}^{3}} - \\frac{3 r^{4} x^{7}{\\left(t \\right)}}{a_{1} a_{2} k^{4} m_{21}^{3}} + \\frac{r^{3} x^{4}{\\left(t \\right)}}{a_{1}^{2} k m_{21}^{2}} - \\frac{2 r^{3} x^{5}{\\left(t \\right)}}{a_{1}^{2} k^{2} m_{21}^{2}} + \\frac{r^{3} x^{6}{\\left(t \\right)}}{a_{1}^{2} k^{3} m_{21}^{2}} + \\frac{r^{3} x^{4}{\\left(t \\right)}}{a_{1}^{2} a_{2} m_{21}^{2}} - \\frac{3 m_{12} r^{3} x^{5}{\\left(t \\right)}}{a_{1}^{2} a_{2} k m_{21}^{3}} - \\frac{2 r^{3} x^{5}{\\left(t \\right)}}{a_{1}^{2} a_{2} k m_{21}^{2}} - \\frac{3 r^{4} x^{5}{\\left(t \\right)}}{a_{1}^{2} a_{2} k m_{21}^{3}} + \\frac{6 m_{12} r^{3} x^{6}{\\left(t \\right)}}{a_{1}^{2} a_{2} k^{2} m_{21}^{3}} + \\frac{r^{3} x^{6}{\\left(t \\right)}}{a_{1}^{2} a_{2} k^{2} m_{21}^{2}} + \\frac{9 r^{4} x^{6}{\\left(t \\right)}}{a_{1}^{2} a_{2} k^{2} m_{21}^{3}} - \\frac{3 m_{12} r^{3} x^{7}{\\left(t \\right)}}{a_{1}^{2} a_{2} k^{3} m_{21}^{3}} - \\frac{9 r^{4} x^{7}{\\left(t \\right)}}{a_{1}^{2} a_{2} k^{3} m_{21}^{3}} + \\frac{3 r^{4} x^{8}{\\left(t \\right)}}{a_{1}^{2} a_{2} k^{4} m_{21}^{3}} + \\frac{r^{4} x^{6}{\\left(t \\right)}}{a_{1}^{3} a_{2} k m_{21}^{3}} - \\frac{3 r^{4} x^{7}{\\left(t \\right)}}{a_{1}^{3} a_{2} k^{2} m_{21}^{3}} + \\frac{3 r^{4} x^{8}{\\left(t \\right)}}{a_{1}^{3} a_{2} k^{3} m_{21}^{3}} - \\frac{r^{4} x^{9}{\\left(t \\right)}}{a_{1}^{3} a_{2} k^{4} m_{21}^{3}}$"
      ],
      "text/plain": [
       "-m12*r*x(t)/m21 - r*x(t) - r**2*x(t)/m21 + m12**2*r*x(t)**2/(k*m21**2) + 2*m12*r**2*x(t)**2/(k*m21**2) + r*x(t)**2/k + r**2*x(t)**2/(k*m21) + r**3*x(t)**2/(k*m21**2) - 2*m12*r**2*x(t)**3/(k**2*m21**2) - 2*r**3*x(t)**3/(k**2*m21**2) + r**3*x(t)**4/(k**3*m21**2) + m12**2*r*x(t)**2/(a2*m21**2) + 2*m12*r**2*x(t)**2/(a2*m21**2) + r**3*x(t)**2/(a2*m21**2) - m12**3*r*x(t)**3/(a2*k*m21**3) - 3*m12**2*r**2*x(t)**3/(a2*k*m21**3) - 2*m12*r**2*x(t)**3/(a2*k*m21**2) - 3*m12*r**3*x(t)**3/(a2*k*m21**3) - 2*r**3*x(t)**3/(a2*k*m21**2) - r**4*x(t)**3/(a2*k*m21**3) + 3*m12**2*r**2*x(t)**4/(a2*k**2*m21**3) + 6*m12*r**3*x(t)**4/(a2*k**2*m21**3) + r**3*x(t)**4/(a2*k**2*m21**2) + 3*r**4*x(t)**4/(a2*k**2*m21**3) - 3*m12*r**3*x(t)**5/(a2*k**3*m21**3) - 3*r**4*x(t)**5/(a2*k**3*m21**3) + r**4*x(t)**6/(a2*k**4*m21**3) + r*x(t)**2/a1 + r**2*x(t)**2/(a1*m21) - 2*m12*r**2*x(t)**3/(a1*k*m21**2) - r*x(t)**3/(a1*k) - r**2*x(t)**3/(a1*k*m21) - 2*r**3*x(t)**3/(a1*k*m21**2) + 2*m12*r**2*x(t)**4/(a1*k**2*m21**2) + 4*r**3*x(t)**4/(a1*k**2*m21**2) - 2*r**3*x(t)**5/(a1*k**3*m21**2) - 2*m12*r**2*x(t)**3/(a1*a2*m21**2) - 2*r**3*x(t)**3/(a1*a2*m21**2) + 3*m12**2*r**2*x(t)**4/(a1*a2*k*m21**3) + 2*m12*r**2*x(t)**4/(a1*a2*k*m21**2) + 6*m12*r**3*x(t)**4/(a1*a2*k*m21**3) + 4*r**3*x(t)**4/(a1*a2*k*m21**2) + 3*r**4*x(t)**4/(a1*a2*k*m21**3) - 3*m12**2*r**2*x(t)**5/(a1*a2*k**2*m21**3) - 12*m12*r**3*x(t)**5/(a1*a2*k**2*m21**3) - 2*r**3*x(t)**5/(a1*a2*k**2*m21**2) - 9*r**4*x(t)**5/(a1*a2*k**2*m21**3) + 6*m12*r**3*x(t)**6/(a1*a2*k**3*m21**3) + 9*r**4*x(t)**6/(a1*a2*k**3*m21**3) - 3*r**4*x(t)**7/(a1*a2*k**4*m21**3) + r**3*x(t)**4/(a1**2*k*m21**2) - 2*r**3*x(t)**5/(a1**2*k**2*m21**2) + r**3*x(t)**6/(a1**2*k**3*m21**2) + r**3*x(t)**4/(a1**2*a2*m21**2) - 3*m12*r**3*x(t)**5/(a1**2*a2*k*m21**3) - 2*r**3*x(t)**5/(a1**2*a2*k*m21**2) - 3*r**4*x(t)**5/(a1**2*a2*k*m21**3) + 6*m12*r**3*x(t)**6/(a1**2*a2*k**2*m21**3) + r**3*x(t)**6/(a1**2*a2*k**2*m21**2) + 9*r**4*x(t)**6/(a1**2*a2*k**2*m21**3) - 3*m12*r**3*x(t)**7/(a1**2*a2*k**3*m21**3) - 9*r**4*x(t)**7/(a1**2*a2*k**3*m21**3) + 3*r**4*x(t)**8/(a1**2*a2*k**4*m21**3) + r**4*x(t)**6/(a1**3*a2*k*m21**3) - 3*r**4*x(t)**7/(a1**3*a2*k**2*m21**3) + 3*r**4*x(t)**8/(a1**3*a2*k**3*m21**3) - r**4*x(t)**9/(a1**3*a2*k**4*m21**3)"
      ]
     },
     "metadata": {},
     "output_type": "display_data"
    }
   ],
   "source": [
    "#Finding the Zeros of the Nullcline Polynomial (in order to find equilibrium points)\n",
    "\n",
    "#expand\n",
    "exp_simp = expand(res_exp) #expanding into polynomial form so it fits into np.roots\n",
    "display(exp_simp)\n"
   ]
  },
  {
   "cell_type": "code",
   "execution_count": 81,
   "metadata": {},
   "outputs": [
    {
     "data": {
      "text/latex": [
       "$\\displaystyle 2 m + 2 x{\\left(t \\right)} + \\frac{2 x^{2}{\\left(t \\right)}}{m} - \\frac{x{\\left(t \\right)}}{m} - \\frac{1}{m} + \\frac{x^{3}{\\left(t \\right)}}{m^{2}} - \\frac{2 x^{2}{\\left(t \\right)}}{m^{2}} + \\frac{x{\\left(t \\right)}}{m^{2}} + \\frac{x^{2}{\\left(t \\right)}}{a_{2}} + \\frac{x{\\left(t \\right)}}{a_{2}} + \\frac{3 x^{3}{\\left(t \\right)}}{a_{2} m} - \\frac{x^{2}{\\left(t \\right)}}{a_{2} m} - \\frac{2 x{\\left(t \\right)}}{a_{2} m} + \\frac{3 x^{4}{\\left(t \\right)}}{a_{2} m^{2}} - \\frac{5 x^{3}{\\left(t \\right)}}{a_{2} m^{2}} + \\frac{x^{2}{\\left(t \\right)}}{a_{2} m^{2}} + \\frac{x{\\left(t \\right)}}{a_{2} m^{2}} + \\frac{x^{5}{\\left(t \\right)}}{a_{2} m^{3}} - \\frac{3 x^{4}{\\left(t \\right)}}{a_{2} m^{3}} + \\frac{3 x^{3}{\\left(t \\right)}}{a_{2} m^{3}} - \\frac{x^{2}{\\left(t \\right)}}{a_{2} m^{3}} - \\frac{x^{2}{\\left(t \\right)}}{a_{1}} + \\frac{x{\\left(t \\right)}}{a_{1}} - \\frac{2 x^{3}{\\left(t \\right)}}{a_{1} m} + \\frac{x^{2}{\\left(t \\right)}}{a_{1} m} + \\frac{x{\\left(t \\right)}}{a_{1} m} - \\frac{2 x^{4}{\\left(t \\right)}}{a_{1} m^{2}} + \\frac{4 x^{3}{\\left(t \\right)}}{a_{1} m^{2}} - \\frac{2 x^{2}{\\left(t \\right)}}{a_{1} m^{2}} - \\frac{3 x^{4}{\\left(t \\right)}}{a_{1} a_{2} m} + \\frac{x^{3}{\\left(t \\right)}}{a_{1} a_{2} m} + \\frac{2 x^{2}{\\left(t \\right)}}{a_{1} a_{2} m} - \\frac{6 x^{5}{\\left(t \\right)}}{a_{1} a_{2} m^{2}} + \\frac{10 x^{4}{\\left(t \\right)}}{a_{1} a_{2} m^{2}} - \\frac{2 x^{3}{\\left(t \\right)}}{a_{1} a_{2} m^{2}} - \\frac{2 x^{2}{\\left(t \\right)}}{a_{1} a_{2} m^{2}} - \\frac{3 x^{6}{\\left(t \\right)}}{a_{1} a_{2} m^{3}} + \\frac{9 x^{5}{\\left(t \\right)}}{a_{1} a_{2} m^{3}} - \\frac{9 x^{4}{\\left(t \\right)}}{a_{1} a_{2} m^{3}} + \\frac{3 x^{3}{\\left(t \\right)}}{a_{1} a_{2} m^{3}} + \\frac{x^{5}{\\left(t \\right)}}{a_{1}^{2} m^{2}} - \\frac{2 x^{4}{\\left(t \\right)}}{a_{1}^{2} m^{2}} + \\frac{x^{3}{\\left(t \\right)}}{a_{1}^{2} m^{2}} + \\frac{3 x^{6}{\\left(t \\right)}}{a_{1}^{2} a_{2} m^{2}} - \\frac{5 x^{5}{\\left(t \\right)}}{a_{1}^{2} a_{2} m^{2}} + \\frac{x^{4}{\\left(t \\right)}}{a_{1}^{2} a_{2} m^{2}} + \\frac{x^{3}{\\left(t \\right)}}{a_{1}^{2} a_{2} m^{2}} + \\frac{3 x^{7}{\\left(t \\right)}}{a_{1}^{2} a_{2} m^{3}} - \\frac{9 x^{6}{\\left(t \\right)}}{a_{1}^{2} a_{2} m^{3}} + \\frac{9 x^{5}{\\left(t \\right)}}{a_{1}^{2} a_{2} m^{3}} - \\frac{3 x^{4}{\\left(t \\right)}}{a_{1}^{2} a_{2} m^{3}} - \\frac{x^{8}{\\left(t \\right)}}{a_{1}^{3} a_{2} m^{3}} + \\frac{3 x^{7}{\\left(t \\right)}}{a_{1}^{3} a_{2} m^{3}} - \\frac{3 x^{6}{\\left(t \\right)}}{a_{1}^{3} a_{2} m^{3}} + \\frac{x^{5}{\\left(t \\right)}}{a_{1}^{3} a_{2} m^{3}}$"
      ],
      "text/plain": [
       "2*m + 2*x(t) + 2*x(t)**2/m - x(t)/m - 1/m + x(t)**3/m**2 - 2*x(t)**2/m**2 + x(t)/m**2 + x(t)**2/a2 + x(t)/a2 + 3*x(t)**3/(a2*m) - x(t)**2/(a2*m) - 2*x(t)/(a2*m) + 3*x(t)**4/(a2*m**2) - 5*x(t)**3/(a2*m**2) + x(t)**2/(a2*m**2) + x(t)/(a2*m**2) + x(t)**5/(a2*m**3) - 3*x(t)**4/(a2*m**3) + 3*x(t)**3/(a2*m**3) - x(t)**2/(a2*m**3) - x(t)**2/a1 + x(t)/a1 - 2*x(t)**3/(a1*m) + x(t)**2/(a1*m) + x(t)/(a1*m) - 2*x(t)**4/(a1*m**2) + 4*x(t)**3/(a1*m**2) - 2*x(t)**2/(a1*m**2) - 3*x(t)**4/(a1*a2*m) + x(t)**3/(a1*a2*m) + 2*x(t)**2/(a1*a2*m) - 6*x(t)**5/(a1*a2*m**2) + 10*x(t)**4/(a1*a2*m**2) - 2*x(t)**3/(a1*a2*m**2) - 2*x(t)**2/(a1*a2*m**2) - 3*x(t)**6/(a1*a2*m**3) + 9*x(t)**5/(a1*a2*m**3) - 9*x(t)**4/(a1*a2*m**3) + 3*x(t)**3/(a1*a2*m**3) + x(t)**5/(a1**2*m**2) - 2*x(t)**4/(a1**2*m**2) + x(t)**3/(a1**2*m**2) + 3*x(t)**6/(a1**2*a2*m**2) - 5*x(t)**5/(a1**2*a2*m**2) + x(t)**4/(a1**2*a2*m**2) + x(t)**3/(a1**2*a2*m**2) + 3*x(t)**7/(a1**2*a2*m**3) - 9*x(t)**6/(a1**2*a2*m**3) + 9*x(t)**5/(a1**2*a2*m**3) - 3*x(t)**4/(a1**2*a2*m**3) - x(t)**8/(a1**3*a2*m**3) + 3*x(t)**7/(a1**3*a2*m**3) - 3*x(t)**6/(a1**3*a2*m**3) + x(t)**5/(a1**3*a2*m**3)"
      ]
     },
     "metadata": {},
     "output_type": "display_data"
    }
   ],
   "source": [
    "#Finding the Zeros of the Nullcline Polynomial (in order to find equilibrium points)\n",
    "#Nondimensional system\n",
    "\n",
    "#expand\n",
    "exp_simp_2 = expand(res_exp_3) #expanding into polynomial form so it fits into np.roots\n",
    "#display(exp_simp_2)\n",
    "\n",
    "a=Poly(exp_simp_2,x(t))\n",
    "coe= a.all_coeffs()\n",
    "coe_1= np.array(coe)\n",
    "display(exp_simp_2)"
   ]
  },
  {
   "cell_type": "code",
   "execution_count": 93,
   "metadata": {},
   "outputs": [
    {
     "data": {
      "text/plain": [
       "[0,\n",
       " 0.115026403074735,\n",
       " 1.46028287396870,\n",
       " -0.0525803555620034 - 0.375281038358406*I,\n",
       " -0.0525803555620034 + 0.375281038358406*I,\n",
       " 0.166499397344333 - 0.38708558857899*I,\n",
       " 0.166499397344333 + 0.38708558857899*I,\n",
       " 1.34842631969595 - 0.0767967761316567*I,\n",
       " 1.34842631969595 + 0.0767967761316567*I]"
      ]
     },
     "metadata": {},
     "output_type": "display_data"
    }
   ],
   "source": [
    "#Finding the roots of the polynomial\n",
    "a1 = float(input('Measure of Allee Effect in the first population, (a1<k)?'))\n",
    "a2 = float(input('Measure of Allee Effect in the second population (a2<k)?'))\n",
    "m = float(input('Migration rate from Patch 1 to Patch 2 (proportion))?'))\n",
    "\n",
    "\n",
    "y_exp_trial= ((((x(t)/0.5) - 1) * (1 - x(t)) * x(t)) + 0.5* x(t))/(-0.5)\n",
    "exp_trial = ((y(t)/0.5) - 1) * (1 - y(t)) * y(t) + 0.5 * (x(t) - y(t))\n",
    "res_exp_trial = exp_trial.subs(y(t), y_exp_trial) \n",
    "\n",
    "\n",
    "Equilib_pts = nroots(res_exp_trial)\n",
    "display(Equilib_pts)\n",
    "\n",
    "#This code displays the equilibrium points of any parameters you choose to include"
   ]
  },
  {
   "cell_type": "code",
   "execution_count": null,
   "metadata": {},
   "outputs": [],
   "source": [
    "#Finding the Jacobian \n",
    "Jacobian = Matrix(\n",
    "    [\n",
    "    [diff(DS1, x(t)), diff(DS1, y(t))], \n",
    "    [diff(DS2, x(t)), diff(DS2, y(t))]\n",
    "    ])\n",
    "Jacobian\n"
   ]
  },
  {
   "cell_type": "code",
   "execution_count": null,
   "metadata": {},
   "outputs": [],
   "source": [
    "#Jacobian matrix with (0,0) substituted in\n",
    "Jac_1 = simplify(Jacobian.subs({x(t) : eq_list[0][0], y(t) : eq_list[0][1]}))\n",
    "Jac_1"
   ]
  },
  {
   "cell_type": "code",
   "execution_count": null,
   "metadata": {},
   "outputs": [],
   "source": [
    "#Caculating the Jacobian for each of the equilibrium values. \n",
    "for i in eq_list: \n",
    "    Jac = simplify(Jacobian.subs({x(t) : i[0], y(t) : i[1]}))\n",
    "    display(Jac)\n",
    "    "
   ]
  },
  {
   "cell_type": "code",
   "execution_count": 3,
   "metadata": {},
   "outputs": [
    {
     "ename": "NameError",
     "evalue": "name 'y2' is not defined",
     "output_type": "error",
     "traceback": [
      "\u001b[1;31m---------------------------------------------------------------------------\u001b[0m",
      "\u001b[1;31mNameError\u001b[0m                                 Traceback (most recent call last)",
      "\u001b[1;32m<ipython-input-3-9c0232ebcfc6>\u001b[0m in \u001b[0;36m<module>\u001b[1;34m\u001b[0m\n\u001b[0;32m      9\u001b[0m \u001b[0my1\u001b[0m \u001b[1;33m=\u001b[0m \u001b[0mnp\u001b[0m\u001b[1;33m.\u001b[0m\u001b[0mlinspace\u001b[0m\u001b[1;33m(\u001b[0m\u001b[1;33m-\u001b[0m\u001b[1;36m3.0\u001b[0m\u001b[1;33m,\u001b[0m \u001b[1;36m3.0\u001b[0m\u001b[1;33m,\u001b[0m \u001b[1;36m50\u001b[0m\u001b[1;33m)\u001b[0m\u001b[1;33m\u001b[0m\u001b[1;33m\u001b[0m\u001b[0m\n\u001b[0;32m     10\u001b[0m \u001b[1;33m\u001b[0m\u001b[0m\n\u001b[1;32m---> 11\u001b[1;33m \u001b[0mY1\u001b[0m\u001b[1;33m,\u001b[0m \u001b[0mY2\u001b[0m \u001b[1;33m=\u001b[0m \u001b[0mnp\u001b[0m\u001b[1;33m.\u001b[0m\u001b[0mmeshgrid\u001b[0m\u001b[1;33m(\u001b[0m\u001b[0my1\u001b[0m\u001b[1;33m,\u001b[0m \u001b[0my2\u001b[0m\u001b[1;33m)\u001b[0m\u001b[1;33m\u001b[0m\u001b[1;33m\u001b[0m\u001b[0m\n\u001b[0m\u001b[0;32m     12\u001b[0m \u001b[1;33m\u001b[0m\u001b[0m\n\u001b[0;32m     13\u001b[0m \u001b[0mt\u001b[0m \u001b[1;33m=\u001b[0m \u001b[1;36m0\u001b[0m\u001b[1;33m\u001b[0m\u001b[1;33m\u001b[0m\u001b[0m\n",
      "\u001b[1;31mNameError\u001b[0m: name 'y2' is not defined"
     ]
    }
   ],
   "source": [
    "#Phase Plane Portraits \n",
    "\n",
    "\n",
    "def f(Y, t):\n",
    "    x, y = Y\n",
    "    return [((x/3) - 1) * (1 - x) * x + 0.4* (y-x), ((y/0.5) - 1) * (1 - y) * y + 0.5 * (x-y)]\n",
    "\n",
    "x1 = np.linspace(-3.0, 3.0, 50)\n",
    "y1 = np.linspace(-3.0, 3.0, 50)\n",
    "\n",
    "Y1, Y2 = np.meshgrid(x1, y1)\n",
    "\n",
    "t = 0\n",
    "\n",
    "u, v = np.zeros(Y1.shape), np.zeros(Y2.shape)\n",
    "\n",
    "NI, NJ = Y1.shape\n",
    "\n",
    "for i in range(NI):\n",
    "    for j in range(NJ):\n",
    "        x = Y1[i, j]\n",
    "        y = Y2[i, j]\n",
    "        yprime = f([x, y], t)\n",
    "        u[i,j] = yprime[0]\n",
    "        v[i,j] = yprime[1]\n",
    "     \n",
    "\n",
    "Q = plt.quiver(Y1, Y2, u, v, color='r')\n",
    "\n",
    "plt.xlabel('$n1(t)$')\n",
    "plt.ylabel('$n2(t)$')\n",
    "plt.title('Phase Plane for a1=0.5 and m=0.5')\n",
    "\n",
    "\n",
    "from scipy.integrate import odeint\n",
    "l = [-2.0,-1.5,-1.0,-0.5,0,0.5, 1, 1.5, 2.0]\n",
    "for y20 in l:\n",
    "    for y10 in l:\n",
    "        tspan = np.linspace(0, 50, 200)\n",
    "        y0 = [y10, y20]\n",
    "        ys = odeint(f, y0, tspan)\n",
    "        plt.plot(ys[:,0], ys[:,1], 'b-') # path\n",
    "    # plt.plot([ys[0,0]], [ys[0,1]], 'o') # start\n",
    "    # plt.plot([ys[-1,0]], [ys[-1,1]], 's') # end\n",
    "    \n",
    "\n",
    "plt.xlim([-2, 2])\n",
    "plt.ylim([-2,2])\n",
    "\n",
    "plt.show()"
   ]
  },
  {
   "cell_type": "code",
   "execution_count": null,
   "metadata": {},
   "outputs": [],
   "source": [
    "# Nullclines\n",
    "#Nullclines are when there is no change in the system over time. \n",
    "# Intersections of nullclines can show you the fixed points/stability of your system\n",
    "\n",
    "import matplotlib.pyplot as plt\n",
    "import matplotlib.cm as cm\n",
    "from matplotlib.lines import Line2D\n",
    "from matplotlib.colors import ListedColormap\n",
    "import numpy as np\n",
    "\n",
    "\n",
    "r = int(input('Growth Factor [new individuals/Day] (must be positive)?'))\n",
    "a1 = int(input('Measure of Allee Effect in the first population, (a1<k)?'))\n",
    "a2 = int(input('Measure of Allee Effect in the second population (a2<k)?'))\n",
    "k = int(input('Carrying Capacity (k> a1,a2)?'))\n",
    "m12 = float(input('Migration rate from Patch 1 to Patch 2 (proportion))?'))\n",
    "\n",
    "def f1(x):\n",
    "    return -r * ((x/a1) - 1) * ((1 - (x/k)) * x) - (m12 * x)\n",
    "\n",
    "x1 = np.linspace(0, 100, 100)\n",
    "y1 = f1(x)\n",
    "\n",
    "fig, ax = plt.subplots()\n",
    "ax.plot(x1, y1, label='Function')\n",
    "ax.set_title('Population 01 nullcline', size=14)\n",
    "plt.xlabel(\"N1(t)\")\n",
    "plt.ylabel(\"N2(t)\")\n",
    "\n",
    "#yay"
   ]
  },
  {
   "cell_type": "code",
   "execution_count": null,
   "metadata": {},
   "outputs": [],
   "source": [
    "#Nullclines (KEEPING IN MIND THIS IS FOR ONE MIGRATION RATE)\n",
    "\n",
    "fig= plt.figure(1, figsize=(7,7))\n",
    "\n",
    "delta= 0.025\n",
    "x,y = np.meshgrid(np.arange(-5,5,delta), np.arange(-5,5,delta))\n",
    "\n",
    "r = float(input('Growth Factor [new individuals/Day] (must be positive)?'))\n",
    "a1 = float(input('Measure of Allee Effect in the first population, (a1<k)?'))\n",
    "a2 = float(input('Measure of Allee Effect in the second population (a2<k)?'))\n",
    "k = float(input('Carrying Capacity (k> a1,a2)?'))\n",
    "m12 = float(input('Migration rate from Patch 1 to Patch 2 (proportion))?'))\n",
    "m21 = float(input('Migration rate from Patch 1 to Patch 2 (proportion))?'))\n",
    "\n",
    "\n",
    "f1 = r * ((x/a1) - 1) * (1 - (x/k)) * x - (m12 * x)+ (m21*y)\n",
    "f2 = r * ((y/a2) - 1) * (1 - (y/k)) * y + (m12 * x)- (m21*y)\n",
    "\n",
    "plt.contour(x,y,f1,[0])\n",
    "plt.contour(x,y, f2, [0])\n",
    "plt.title('Nullclines for the Two Patch Model System')\n",
    "plt.show\n"
   ]
  }
 ],
 "metadata": {
  "kernelspec": {
   "display_name": "Python 3",
   "language": "python",
   "name": "python3"
  },
  "language_info": {
   "codemirror_mode": {
    "name": "ipython",
    "version": 3
   },
   "file_extension": ".py",
   "mimetype": "text/x-python",
   "name": "python",
   "nbconvert_exporter": "python",
   "pygments_lexer": "ipython3",
   "version": "3.7.6"
  }
 },
 "nbformat": 4,
 "nbformat_minor": 4
}
