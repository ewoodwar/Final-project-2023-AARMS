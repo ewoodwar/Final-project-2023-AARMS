{
 "cells": [
  {
   "cell_type": "markdown",
   "metadata": {},
   "source": [
    "# Review\n",
    "\n",
    "# Differential Equations\n",
    "\n",
    "* A differential equation is an equation that involves the derivative of an unknown function.\n",
    "* The general form for a first order (involving the first-order derivative of the unknown function) is\n",
    "$$x'(t)=f(t, x(t))$$\n",
    "\n",
    "## Solving a DE using sympy\n",
    "\n",
    "* `dsolve(eq)` solve a differential equation `eq` that involves the derivative of an unknown function\n",
    "* An unknown function may be constructed using the constructor `Function(name)`\n",
    "\n",
    "## Initial condition\n",
    "To find a solution, we need a value of the solution at a given time $t=t_0$, namely, $x_0=x(t_0)$, this is called an **initial condition**.\n",
    "\n",
    "The initial condition is given as a python dict, to the **ics** argument. Let us assume that the population size at time $t=0$ is $N$, i.e., $x(0)=N$."
   ]
  },
  {
   "cell_type": "markdown",
   "metadata": {},
   "source": [
    "# Equilibrium\n",
    "\n",
    "An equilibrium of the differential equation is a constant solution. \n",
    "\n",
    "We have seen them in difference equations\n",
    "* Example: for the difference equation, $x_{t+1}=f(x_t)$, an equilibrium $x_t=x^*$ must satisfy $x^*=f(x^*)$\n",
    "\n",
    "For a differential equation $x'(t)=f(x(t))$, i.e., $x'=f(x)$, \n",
    "* note that here the right hand side does note explicitly depend on the time $t$.\n",
    "* An equilibrium, i.e., a constant solution $x(t)=x^*$, must satisfy\n",
    "$(x^*)'=0=f(x^*)$\n",
    "That is, $$f(x^*)=0$$\n",
    "is the sufficient and necessary condition that an equilibrium must satisfy.\n",
    "\n",
    "## Example: the logistic model revisited\n",
    "$$x'=rx\\left(1-\\frac{x}{K}\\right)$$\n",
    "The equilibria must satisfy\n",
    "$$rx\\left(1-\\frac{x}{K}\\right)=0$$\n",
    "We can solve them using the solve function:"
   ]
  },
  {
   "cell_type": "code",
   "execution_count": 2,
   "metadata": {},
   "outputs": [
    {
     "data": {
      "text/latex": [
       "$\\displaystyle \\frac{d}{d t} x{\\left(t \\right)} = r \\left(1 - \\frac{x{\\left(t \\right)}}{K}\\right) x{\\left(t \\right)}$"
      ],
      "text/plain": [
       "Eq(Derivative(x(t), t), r*(1 - x(t)/K)*x(t))"
      ]
     },
     "metadata": {},
     "output_type": "display_data"
    }
   ],
   "source": [
    "from sympy import *\n",
    "\n",
    "x = Function(\"x\")\n",
    "t, r, K = symbols(\"t, r, K\", positive=True)\n",
    "logistic = Eq(diff(x(t), t), r*(1-x(t)/K)*x(t))\n",
    "display(logistic)"
   ]
  },
  {
   "cell_type": "code",
   "execution_count": 3,
   "metadata": {},
   "outputs": [
    {
     "data": {
      "text/latex": [
       "$\\displaystyle r \\left(1 - \\frac{x{\\left(t \\right)}}{K}\\right) x{\\left(t \\right)}$"
      ],
      "text/plain": [
       "r*(1 - x(t)/K)*x(t)"
      ]
     },
     "metadata": {},
     "output_type": "display_data"
    },
    {
     "data": {
      "text/plain": [
       "[0, K]"
      ]
     },
     "execution_count": 3,
     "metadata": {},
     "output_type": "execute_result"
    }
   ],
   "source": [
    "# the right hand side fo the equation is in .args[1]\n",
    "RHS = logistic.args[1]\n",
    "display(RHS)\n",
    "\n",
    "solve(RHS, x(t))"
   ]
  },
  {
   "cell_type": "markdown",
   "metadata": {},
   "source": [
    "There are two equilibrium: $x(t)=0$, and $x(t)=K$."
   ]
  },
  {
   "cell_type": "markdown",
   "metadata": {},
   "source": [
    "# System of Differential Equations\n",
    "\n",
    "Sometimes, a system state must be described with multiple variables, each one is governed by a differential equation. That is, these systems are defined by a system of differential equationa.\n",
    "\n",
    "Let us consider the following system that gives a damped oscillation\n",
    "\\begin{align*}\n",
    "x'(t)&=-rx(t)+y(t)\\\\\n",
    "y'(t)&=x(t)-ry(t)\n",
    "\\end{align*}"
   ]
  },
  {
   "cell_type": "code",
   "execution_count": 13,
   "metadata": {},
   "outputs": [
    {
     "data": {
      "text/plain": [
       "[Eq(x(t), C1*exp(-r*t)*sin(t) + C2*exp(-r*t)*cos(t)),\n",
       " Eq(y(t), C1*exp(-r*t)*cos(t) - C2*exp(-r*t)*sin(t))]"
      ]
     },
     "execution_count": 13,
     "metadata": {},
     "output_type": "execute_result"
    }
   ],
   "source": [
    "y=Function(\"y\")\n",
    "dsolve([Eq(diff(x(t), t), -r*x(t)+y(t)), Eq(diff(y(t),t), -x(t)-r*y(t))], [x(t), y(t)])"
   ]
  },
  {
   "cell_type": "markdown",
   "metadata": {},
   "source": [
    "\n",
    "\n",
    "# Example: The SIRS model\n",
    "The following model is a modification to the SIR model, incorporating a temporary acquired immunity. Each recovered individual loses immunity at a rate $\\rho$ and becomes susceptible.\n",
    "\\begin{align*}\n",
    "S'&=-\\beta SI +\\rho R\\\\\n",
    "I'&=\\beta SI-\\gamma I\\\\\n",
    "R'&=\\gamma I-\\rho R\n",
    "\\end{align*}\n",
    "\n",
    "In fact, since $S+I+R=1$ is the total fraction, the $R$ equation can be derived from the $S$ and $I$ equations. So, we only need to consider the $S$ and $I$ equations with $R=1-S-I$.\n",
    "\\begin{align*}\n",
    "S'&=-\\beta SI +\\rho (1-S-I)\\\\\n",
    "I'&=\\beta SI-\\gamma I\\\\\n",
    "\\end{align*}\n",
    "\n",
    "Unfortunately, this system is not solvable, i.e., it has solutions, but there is no formula. We want to know if the system has a constant solution, i.e., an equiliubrium.\n"
   ]
  },
  {
   "cell_type": "code",
   "execution_count": 71,
   "metadata": {},
   "outputs": [
    {
     "data": {
      "text/latex": [
       "$\\displaystyle \\left\\{\\left( 1, \\  0\\right), \\left( - \\frac{- \\rho + \\frac{\\rho \\left(\\beta - \\gamma\\right)}{\\beta}}{\\rho}, \\  \\frac{\\rho \\left(\\beta - \\gamma\\right)}{\\beta \\left(\\gamma + \\rho\\right)}\\right)\\right\\}$"
      ],
      "text/plain": [
       "{(1, 0), (-(-rho + rho*(beta - gamma)/beta)/rho, rho*(beta - gamma)/(beta*(gamma + rho)))}"
      ]
     },
     "execution_count": 71,
     "metadata": {},
     "output_type": "execute_result"
    }
   ],
   "source": [
    "from sympy.abc import S, I\n",
    "beta, gamma, rho = symbols(\"beta, gamma, rho\", positive=True)\n",
    "\n",
    "dS = -beta*S*I+rho*(1-S-I)\n",
    "dI = beta*S*I-gamma*I\n",
    "\n",
    "eq=nonlinsolve([dS, dI], [S, I])\n",
    "eq"
   ]
  },
  {
   "cell_type": "code",
   "execution_count": 72,
   "metadata": {},
   "outputs": [
    {
     "data": {
      "text/latex": [
       "$\\displaystyle \\frac{\\gamma}{\\beta}$"
      ],
      "text/plain": [
       "gamma/beta"
      ]
     },
     "execution_count": 72,
     "metadata": {},
     "output_type": "execute_result"
    }
   ],
   "source": [
    "# is the second equilibrium biologically meaningful, i.e., nonnegative?\n",
    "# We can simplify the S component of the second equilibrium\n",
    "simplify(eq.args[1][0])"
   ]
  },
  {
   "cell_type": "markdown",
   "metadata": {},
   "source": [
    "# Numerical evaluation\n",
    "There are two approachs to evaluate an expression numerically\n",
    "* Use the `subs` method to substitute a float value to a symbol"
   ]
  },
  {
   "cell_type": "code",
   "execution_count": 73,
   "metadata": {},
   "outputs": [
    {
     "data": {
      "text/latex": [
       "$\\displaystyle 3.1$"
      ],
      "text/plain": [
       "3.10000000000000"
      ]
     },
     "execution_count": 73,
     "metadata": {},
     "output_type": "execute_result"
    }
   ],
   "source": [
    "e = S+I\n",
    "v=e.subs({S:1.1, I:2})\n",
    "v"
   ]
  },
  {
   "cell_type": "markdown",
   "metadata": {},
   "source": [
    "## Problem\n",
    "* The value 3.1 that we get is not a float point number that Python can use for numerical calculations. "
   ]
  },
  {
   "cell_type": "code",
   "execution_count": 74,
   "metadata": {},
   "outputs": [
    {
     "data": {
      "text/plain": [
       "sympy.core.numbers.Float"
      ]
     },
     "execution_count": 74,
     "metadata": {},
     "output_type": "execute_result"
    }
   ],
   "source": [
    "type(v)"
   ]
  },
  {
   "cell_type": "code",
   "execution_count": 75,
   "metadata": {},
   "outputs": [
    {
     "ename": "TypeError",
     "evalue": "loop of ufunc does not support argument 0 of type Float which has no callable cos method",
     "output_type": "error",
     "traceback": [
      "\u001b[0;31m---------------------------------------------------------------------------\u001b[0m",
      "\u001b[0;31mAttributeError\u001b[0m                            Traceback (most recent call last)",
      "\u001b[0;31mAttributeError\u001b[0m: 'Float' object has no attribute 'cos'",
      "\nThe above exception was the direct cause of the following exception:\n",
      "\u001b[0;31mTypeError\u001b[0m                                 Traceback (most recent call last)",
      "\u001b[0;32m/tmp/ipykernel_62/1847519335.py\u001b[0m in \u001b[0;36m<module>\u001b[0;34m\u001b[0m\n\u001b[1;32m      1\u001b[0m \u001b[0;32mfrom\u001b[0m \u001b[0mnumpy\u001b[0m \u001b[0;32mimport\u001b[0m \u001b[0mcos\u001b[0m \u001b[0;32mas\u001b[0m \u001b[0mCos\u001b[0m\u001b[0;34m\u001b[0m\u001b[0;34m\u001b[0m\u001b[0m\n\u001b[0;32m----> 2\u001b[0;31m \u001b[0mCos\u001b[0m\u001b[0;34m(\u001b[0m\u001b[0mv\u001b[0m\u001b[0;34m)\u001b[0m\u001b[0;34m\u001b[0m\u001b[0;34m\u001b[0m\u001b[0m\n\u001b[0m",
      "\u001b[0;31mTypeError\u001b[0m: loop of ufunc does not support argument 0 of type Float which has no callable cos method"
     ]
    }
   ],
   "source": [
    "from numpy import cos as Cos\n",
    "Cos(v)"
   ]
  },
  {
   "cell_type": "markdown",
   "metadata": {},
   "source": [
    "## Convert a sympy number to a real number\n",
    "We need to convert the sympy values to a float point value or an integer"
   ]
  },
  {
   "cell_type": "code",
   "execution_count": 76,
   "metadata": {},
   "outputs": [
    {
     "name": "stdout",
     "output_type": "stream",
     "text": [
      "v= 3.1 cos(v)= -0.9991351502732795\n"
     ]
    }
   ],
   "source": [
    "print(\"v=\", float(v), \"cos(v)=\", Cos(float(v)))"
   ]
  },
  {
   "cell_type": "markdown",
   "metadata": {},
   "source": [
    "# The lambdify function\n",
    "`lambdify(vars, e)` creates a lambda function from an expression\n",
    "* vars are the arugments, and e is the expression"
   ]
  },
  {
   "cell_type": "code",
   "execution_count": 77,
   "metadata": {},
   "outputs": [
    {
     "data": {
      "text/plain": [
       "4"
      ]
     },
     "execution_count": 77,
     "metadata": {},
     "output_type": "execute_result"
    }
   ],
   "source": [
    "f = lambdify([S, I], e)\n",
    "f(2, 2)"
   ]
  },
  {
   "cell_type": "markdown",
   "metadata": {},
   "source": [
    "## Example\n",
    "\n",
    "Assume that a recovered individual loses immunity after 90 days, i.e., $\\rho=1/90$, the mean infectious period is 5 days, i.e., $\\gamma=0.1$, how does the equilibrium value of $I$ change with $\\beta$ for $\\beta\\in[0.1, 0.4]$?\n"
   ]
  },
  {
   "cell_type": "code",
   "execution_count": 78,
   "metadata": {},
   "outputs": [
    {
     "data": {
      "text/latex": [
       "$\\displaystyle \\left( - \\frac{- \\rho + \\frac{\\rho \\left(\\beta - \\gamma\\right)}{\\beta}}{\\rho}, \\  \\frac{\\rho \\left(\\beta - \\gamma\\right)}{\\beta \\left(\\gamma + \\rho\\right)}\\right)$"
      ],
      "text/plain": [
       "(-(-rho + rho*(beta - gamma)/beta)/rho, rho*(beta - gamma)/(beta*(gamma + rho)))"
      ]
     },
     "metadata": {},
     "output_type": "display_data"
    },
    {
     "data": {
      "text/latex": [
       "$\\displaystyle \\frac{\\rho \\left(\\beta - \\gamma\\right)}{\\beta \\left(\\gamma + \\rho\\right)}$"
      ],
      "text/plain": [
       "rho*(beta - gamma)/(beta*(gamma + rho))"
      ]
     },
     "metadata": {},
     "output_type": "display_data"
    },
    {
     "data": {
      "text/plain": [
       "[<matplotlib.lines.Line2D at 0x7f25e26aae20>,\n",
       " <matplotlib.lines.Line2D at 0x7f25e26aaf40>]"
      ]
     },
     "execution_count": 78,
     "metadata": {},
     "output_type": "execute_result"
    },
    {
     "data": {
      "image/png": "[encoded data removed]",
      "text/plain": [
       "<Figure size 432x288 with 1 Axes>"
      ]
     },
     "metadata": {
      "needs_background": "light"
     },
     "output_type": "display_data"
    }
   ],
   "source": [
    "# Get the second equilibrium\n",
    "eq1 = eq.args[1]\n",
    "display(eq1)\n",
    "\n",
    "# get the I component\n",
    "eqI = eq1[1]\n",
    "display(eqI)\n",
    "\n",
    "# Make eqI an lambda function\n",
    "f=lambdify((beta, gamma, rho), eqI)\n",
    "\n",
    "from numpy import linspace, zeros\n",
    "b = linspace(0.1, 0.4, 100)\n",
    "\n",
    "rho = 1/90\n",
    "gamma = 0.2\n",
    "from matplotlib.pyplot import plot\n",
    "plot(b, f(b, gamma, rho), \"-r\", b, zeros(len(b)), \"--b\")"
   ]
  },
  {
   "cell_type": "markdown",
   "metadata": {},
   "source": [
    "# Stability\n",
    "\n",
    "Like the equilibrium of a difference equation, the stability of an equilibrium of a differential equation determines if the system remains close to the equilibrium after a small perturbation.\n",
    "* Stable: remains close\n",
    "* Asymptotically stable: stable, and the solution after a small perturbation eventually approaches the equilibrium\n",
    "* Unstable: the solution eventually moves away from the equilibrium\n",
    "\n",
    "## Theorem:\n",
    "Consider a system of differential equations $x'=f(x)$, $x(t)=x^*$ is an equilibrium, i.e., $f(x^*)=0$. Here $f(x)$ is continuously differentiable. $J=Df(x^*)$ is the Jacobian matrix of $f(x)$ evaluated at $x^*$, i.e.,\n",
    "$$\n",
    "J=\\left[\\begin{array}{cccc}\n",
    "\\frac{\\partial f_1}{\\partial x_1} & \\frac{\\partial f_1}{\\partial x_2} &\\cdots & \\frac{\\partial f_1}{\\partial x_n}\\\\\n",
    "\\frac{\\partial f_2}{\\partial x_1} & \\frac{\\partial f_2}{\\partial x_2} &\\cdots & \\frac{\\partial f_2}{\\partial x_n}\\\\\n",
    "\\vdots & \\vdots & \\ddots & \\vdots\\\\\n",
    "\\frac{\\partial f_n}{\\partial x_1} & \\frac{\\partial f_n}{\\partial x_2} &\\cdots & \\frac{\\partial f_n}{\\partial x_n}\n",
    "\\end{array}\n",
    "\\right]_{x=x^*}\n",
    "$$\n",
    "Then, \n",
    "* $x^*$ is asymptotically stable if all eigenvalues of $J$ have negative real parts.\n",
    "* $x^*$ is unstable if one eigenvalue of $J$ has a positive real part.\n",
    "\n",
    "## Example: the SIRS model revisited\n",
    "\n",
    "Note that we can use symbolic differentiation to calculate the Jacobian matrix\n",
    "\n",
    "### Matrix\n",
    "The **Matrix** class represents a matrix. Like the construction of a matrix in numpy using array, it takes an array of arrays (each is a row)."
   ]
  },
  {
   "cell_type": "code",
   "execution_count": 79,
   "metadata": {},
   "outputs": [
    {
     "data": {
      "text/latex": [
       "$\\displaystyle \\left[\\begin{matrix}- I \\beta - \\rho & - S \\beta - \\rho\\\\I \\beta & S \\beta - \\gamma\\end{matrix}\\right]$"
      ],
      "text/plain": [
       "Matrix([\n",
       "[-I*beta - rho,  -S*beta - rho],\n",
       "[       I*beta, S*beta - gamma]])"
      ]
     },
     "execution_count": 79,
     "metadata": {},
     "output_type": "execute_result"
    }
   ],
   "source": [
    "Df = Matrix([[diff(dS, S), diff(dS, I)], [diff(dI, S), diff(dI, I)]])\n",
    "Df"
   ]
  },
  {
   "cell_type": "code",
   "execution_count": 84,
   "metadata": {},
   "outputs": [
    {
     "data": {
      "text/latex": [
       "$\\displaystyle \\left[\\begin{matrix}- \\frac{\\rho \\left(\\beta + \\rho\\right)}{\\gamma + \\rho} & - \\gamma - \\rho\\\\\\frac{\\rho \\left(\\beta - \\gamma\\right)}{\\gamma + \\rho} & 0\\end{matrix}\\right]$"
      ],
      "text/plain": [
       "Matrix([\n",
       "[ -rho*(beta + rho)/(gamma + rho), -gamma - rho],\n",
       "[rho*(beta - gamma)/(gamma + rho),            0]])"
      ]
     },
     "execution_count": 84,
     "metadata": {},
     "output_type": "execute_result"
    }
   ],
   "source": [
    "# Evaluate at the equilibrium\n",
    "J=simplify(Df.subs({S:eq1[0], I:eq1[1]}))\n",
    "J"
   ]
  },
  {
   "cell_type": "markdown",
   "metadata": {},
   "source": [
    "## The eigenvalus\n",
    "\n",
    "The **.eigenvals** method of a Matrix object calculates the eigenvalues sympolically.\n",
    "* It takes a no arguments\n",
    "* It returns a dict of eigenvalues and their multiplicity"
   ]
  },
  {
   "cell_type": "code",
   "execution_count": 85,
   "metadata": {},
   "outputs": [
    {
     "data": {
      "text/plain": [
       "{-sqrt(rho)*sqrt(beta**2*rho - 4*beta*gamma**2 - 8*beta*gamma*rho - 2*beta*rho**2 + 4*gamma**3 + 8*gamma**2*rho + 4*gamma*rho**2 + rho**3)/(2*(gamma + rho)) - rho*(beta + rho)/(2*(gamma + rho)): 1,\n",
       " sqrt(rho)*sqrt(beta**2*rho - 4*beta*gamma**2 - 8*beta*gamma*rho - 2*beta*rho**2 + 4*gamma**3 + 8*gamma**2*rho + 4*gamma*rho**2 + rho**3)/(2*(gamma + rho)) - rho*(beta + rho)/(2*(gamma + rho)): 1}"
      ]
     },
     "execution_count": 85,
     "metadata": {},
     "output_type": "execute_result"
    }
   ],
   "source": [
    "E=J.eigenvals()\n",
    "E"
   ]
  },
  {
   "cell_type": "code",
   "execution_count": 86,
   "metadata": {},
   "outputs": [
    {
     "data": {
      "text/latex": [
       "$\\displaystyle - \\frac{\\sqrt{\\rho} \\sqrt{\\beta^{2} \\rho - 4 \\beta \\gamma^{2} - 8 \\beta \\gamma \\rho - 2 \\beta \\rho^{2} + 4 \\gamma^{3} + 8 \\gamma^{2} \\rho + 4 \\gamma \\rho^{2} + \\rho^{3}}}{2 \\left(\\gamma + \\rho\\right)} - \\frac{\\rho \\left(\\beta + \\rho\\right)}{2 \\left(\\gamma + \\rho\\right)}$"
      ],
      "text/plain": [
       "-sqrt(rho)*sqrt(beta**2*rho - 4*beta*gamma**2 - 8*beta*gamma*rho - 2*beta*rho**2 + 4*gamma**3 + 8*gamma**2*rho + 4*gamma*rho**2 + rho**3)/(2*(gamma + rho)) - rho*(beta + rho)/(2*(gamma + rho))"
      ]
     },
     "metadata": {},
     "output_type": "display_data"
    },
    {
     "data": {
      "text/latex": [
       "$\\displaystyle \\frac{\\sqrt{\\rho} \\sqrt{\\beta^{2} \\rho - 4 \\beta \\gamma^{2} - 8 \\beta \\gamma \\rho - 2 \\beta \\rho^{2} + 4 \\gamma^{3} + 8 \\gamma^{2} \\rho + 4 \\gamma \\rho^{2} + \\rho^{3}}}{2 \\left(\\gamma + \\rho\\right)} - \\frac{\\rho \\left(\\beta + \\rho\\right)}{2 \\left(\\gamma + \\rho\\right)}$"
      ],
      "text/plain": [
       "sqrt(rho)*sqrt(beta**2*rho - 4*beta*gamma**2 - 8*beta*gamma*rho - 2*beta*rho**2 + 4*gamma**3 + 8*gamma**2*rho + 4*gamma*rho**2 + rho**3)/(2*(gamma + rho)) - rho*(beta + rho)/(2*(gamma + rho))"
      ]
     },
     "metadata": {},
     "output_type": "display_data"
    }
   ],
   "source": [
    "es = list(E.keys())\n",
    "display(es[0], es[1])"
   ]
  },
  {
   "cell_type": "markdown",
   "metadata": {},
   "source": [
    "It is not straightforward to to determine the sign of the real parts. The following theorem may help.\n",
    "\n",
    "## Theorem\n",
    "All the eigenvalues of a $2\\times2$ matrix $J$ have negative real parts if and only if $trace(J)<0$ and $det(J)>0$."
   ]
  },
  {
   "cell_type": "code",
   "execution_count": 109,
   "metadata": {},
   "outputs": [
    {
     "data": {
      "text/latex": [
       "$\\displaystyle - \\frac{\\rho \\left(\\beta + \\rho\\right)}{\\gamma + \\rho}$"
      ],
      "text/plain": [
       "-rho*(beta + rho)/(gamma + rho)"
      ]
     },
     "execution_count": 109,
     "metadata": {},
     "output_type": "execute_result"
    }
   ],
   "source": [
    "J.trace()"
   ]
  },
  {
   "cell_type": "code",
   "execution_count": 111,
   "metadata": {},
   "outputs": [
    {
     "data": {
      "text/latex": [
       "$\\displaystyle \\rho \\left(\\beta - \\gamma\\right)$"
      ],
      "text/plain": [
       "rho*(beta - gamma)"
      ]
     },
     "execution_count": 111,
     "metadata": {},
     "output_type": "execute_result"
    }
   ],
   "source": [
    "simplify(J.det())"
   ]
  },
  {
   "cell_type": "markdown",
   "metadata": {},
   "source": [
    "Thus, the second equilibrium is asymptotically stable if and only if $\\beta>\\gamma$, which is the same condition as the equilibrim is positive."
   ]
  },
  {
   "cell_type": "code",
   "execution_count": null,
   "metadata": {},
   "outputs": [],
   "source": []
  }
 ],
 "metadata": {
  "kernelspec": {
   "display_name": "Python 3 (ipykernel)",
   "language": "python",
   "name": "python3"
  },
  "language_info": {
   "codemirror_mode": {
    "name": "ipython",
    "version": 3
   },
   "file_extension": ".py",
   "mimetype": "text/x-python",
   "name": "python",
   "nbconvert_exporter": "python",
   "pygments_lexer": "ipython3",
   "version": "3.9.7"
  }
 },
 "nbformat": 4,
 "nbformat_minor": 4
}
