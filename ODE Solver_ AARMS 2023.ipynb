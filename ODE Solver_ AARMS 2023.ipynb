{
 "cells": [
  {
   "cell_type": "code",
   "execution_count": 11,
   "metadata": {},
   "outputs": [
    {
     "ename": "NotImplementedError",
     "evalue": "",
     "output_type": "error",
     "traceback": [
      "\u001b[0;31m---------------------------------------------------------------------------\u001b[0m",
      "\u001b[0;31mNotImplementedError\u001b[0m                       Traceback (most recent call last)",
      "Cell \u001b[0;32mIn[11], line 12\u001b[0m\n\u001b[1;32m      7\u001b[0m Lake_1 \u001b[39m=\u001b[39m Eq(diff(x(t), t), r \u001b[39m*\u001b[39m ((x(t)\u001b[39m/\u001b[39ma1) \u001b[39m-\u001b[39m \u001b[39m1\u001b[39m) \u001b[39m*\u001b[39m ((\u001b[39m1\u001b[39m \u001b[39m-\u001b[39m (x(t)\u001b[39m/\u001b[39mk1)) \u001b[39m*\u001b[39m x(t)) \u001b[39m-\u001b[39m (q \u001b[39m*\u001b[39m x(t)) \u001b[39m-\u001b[39m (m12 \u001b[39m*\u001b[39m x(t)) \u001b[39m+\u001b[39m (m21 \u001b[39m*\u001b[39m x(t)))\n\u001b[1;32m      9\u001b[0m Lake_2 \u001b[39m=\u001b[39m Eq(diff(y(t), t), r \u001b[39m*\u001b[39m ((y(t)\u001b[39m/\u001b[39ma2) \u001b[39m-\u001b[39m \u001b[39m1\u001b[39m) \u001b[39m*\u001b[39m ((\u001b[39m1\u001b[39m \u001b[39m-\u001b[39m (y(t)\u001b[39m/\u001b[39mk2)) \u001b[39m*\u001b[39m y(t)) \u001b[39m-\u001b[39m (q \u001b[39m*\u001b[39m y(t)) \u001b[39m-\u001b[39m (m12 \u001b[39m*\u001b[39m y(t)) \u001b[39m+\u001b[39m (m21 \u001b[39m*\u001b[39m y(t)))\n\u001b[0;32m---> 12\u001b[0m dsolve([Lake_1, Lake_2], [x(t), y(t)])\n",
      "File \u001b[0;32m/opt/homebrew/lib/python3.10/site-packages/sympy/solvers/ode/ode.py:589\u001b[0m, in \u001b[0;36mdsolve\u001b[0;34m(eq, func, hint, simplify, ics, xi, eta, x0, n, **kwargs)\u001b[0m\n\u001b[1;32m    586\u001b[0m     \u001b[39mraise\u001b[39;00m \u001b[39mValueError\u001b[39;00m(\u001b[39m\"\u001b[39m\u001b[39mdsolve() and classify_sysode() work with \u001b[39m\u001b[39m\"\u001b[39m\n\u001b[1;32m    587\u001b[0m     \u001b[39m\"\u001b[39m\u001b[39mnumber of functions being equal to number of equations\u001b[39m\u001b[39m\"\u001b[39m)\n\u001b[1;32m    588\u001b[0m \u001b[39mif\u001b[39;00m match[\u001b[39m'\u001b[39m\u001b[39mtype_of_equation\u001b[39m\u001b[39m'\u001b[39m] \u001b[39mis\u001b[39;00m \u001b[39mNone\u001b[39;00m:\n\u001b[0;32m--> 589\u001b[0m     \u001b[39mraise\u001b[39;00m \u001b[39mNotImplementedError\u001b[39;00m\n\u001b[1;32m    590\u001b[0m \u001b[39melse\u001b[39;00m:\n\u001b[1;32m    591\u001b[0m     \u001b[39mif\u001b[39;00m match[\u001b[39m'\u001b[39m\u001b[39mis_linear\u001b[39m\u001b[39m'\u001b[39m] \u001b[39m==\u001b[39m \u001b[39mTrue\u001b[39;00m:\n",
      "\u001b[0;31mNotImplementedError\u001b[0m: "
     ]
    }
   ],
   "source": [
    "from sympy import *\n",
    "\n",
    "t, r, k1, k2, a1, a2, q, m12, m21,  = symbols(\"t, r, k1, k2, a1, a2, q, m12, m21\")\n",
    "x = Function(\"x\")\n",
    "y = Function(\"y\")\n",
    "\n",
    "Lake_1 = Eq(diff(x(t), t), r * ((x(t)/a1) - 1) * ((1 - (x(t)/k1)) * x(t)) - (q * x(t)) - (m12 * x(t)) + (m21 * x(t)))\n",
    "\n",
    "Lake_2 = Eq(diff(y(t), t), r * ((y(t)/a2) - 1) * ((1 - (y(t)/k2)) * y(t)) - (q * y(t)) - (m12 * y(t)) + (m21 * y(t)))\n",
    "\n",
    "\n",
    "dsolve([Lake_1, Lake_2], [x(t), y(t)])"
   ]
  },
  {
   "cell_type": "code",
   "execution_count": null,
   "metadata": {},
   "outputs": [],
   "source": []
  },
  {
   "cell_type": "code",
   "execution_count": null,
   "metadata": {},
   "outputs": [],
   "source": []
  }
 ],
 "metadata": {
  "kernelspec": {
   "display_name": "Python 3",
   "language": "python",
   "name": "python3"
  },
  "language_info": {
   "codemirror_mode": {
    "name": "ipython",
    "version": 3
   },
   "file_extension": ".py",
   "mimetype": "text/x-python",
   "name": "python",
   "nbconvert_exporter": "python",
   "pygments_lexer": "ipython3",
   "version": "3.10.9"
  }
 },
 "nbformat": 4,
 "nbformat_minor": 4
}
