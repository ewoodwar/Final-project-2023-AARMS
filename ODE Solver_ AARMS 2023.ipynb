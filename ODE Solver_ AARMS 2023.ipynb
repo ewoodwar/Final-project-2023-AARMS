{
 "cells": [
  {
   "cell_type": "code",
   "execution_count": 24,
   "metadata": {},
   "outputs": [
    {
     "data": {
      "text/plain": [
       "[Eq(x(t), Piecewise((C1*Piecewise((-m12/2 - m21/2 + sqrt(-4*m12*m21 + (-m12 - m21)**2)/2, Eq(m21, 0) & Eq(m12 + r, m12/2 - m21/2 + r - sqrt(-4*m12*m21 + (-m12 - m21)**2)/2)), (m21, True))*exp(t*(-m12/2 + m21/2 - r + sqrt(-4*m12*m21 + (-m12 - m21)**2)/2)) + C2*Piecewise((-m12/2 - m21/2 - sqrt(-4*m12*m21 + (-m12 - m21)**2)/2, Eq(m21, 0) & Eq(m12 + r, m12/2 - m21/2 + r + sqrt(-4*m12*m21 + (-m12 - m21)**2)/2)), (m21, True))*exp(t*(-m12/2 + m21/2 - r - sqrt(-4*m12*m21 + (-m12 - m21)**2)/2)), Ne(m12**2 - 2*m12*m21 + m21**2, 0)), (C1*exp(t*(-m12/2 + m21/2 - r + sqrt(-4*m12*m21 + (-m12 - m21)**2)/2)), Eq(m12, 0) & Eq(m21, 0) & Eq(m12 + r, -m21 + r)), ((C1*Piecewise((-m12/2 - m21/2 + sqrt(-4*m12*m21 + (-m12 - m21)**2)/2, Eq(m21, 0) & Eq(m12 + r, m12/2 - m21/2 + r - sqrt(-4*m12*m21 + (-m12 - m21)**2)/2)), (m21, True)) + C2*(t*Piecewise((-m12/2 - m21/2 + sqrt(-4*m12*m21 + (-m12 - m21)**2)/2, Eq(m21, 0) & Eq(m12 + r, m12/2 - m21/2 + r - sqrt(-4*m12*m21 + (-m12 - m21)**2)/2)), (m21, True)) + Piecewise((1, Eq(m21, 0) & Eq(m12 + r, m12/2 - m21/2 + r - sqrt(-4*m12*m21 + (-m12 - m21)**2)/2)), (0, Eq(m12 + r, m12/2 - m21/2 + r - sqrt(-4*m12*m21 + (-m12 - m21)**2)/2)), (m21/(-m12/2 - m21/2 - sqrt(-4*m12*m21 + (-m12 - m21)**2)/2), True))))*exp(t*(-m12/2 + m21/2 - r + sqrt(-4*m12*m21 + (-m12 - m21)**2)/2)), True))),\n",
       " Eq(y(t), Piecewise((C1*Piecewise((-m12, Eq(m21, 0) & Eq(m12 + r, m12/2 - m21/2 + r - sqrt(-4*m12*m21 + (-m12 - m21)**2)/2)), (m12/2 + m21/2 + sqrt(-4*m12*m21 + (-m12 - m21)**2)/2, True))*exp(t*(-m12/2 + m21/2 - r + sqrt(-4*m12*m21 + (-m12 - m21)**2)/2)) + C2*Piecewise((-m12, Eq(m21, 0) & Eq(m12 + r, m12/2 - m21/2 + r + sqrt(-4*m12*m21 + (-m12 - m21)**2)/2)), (m12/2 + m21/2 - sqrt(-4*m12*m21 + (-m12 - m21)**2)/2, True))*exp(t*(-m12/2 + m21/2 - r - sqrt(-4*m12*m21 + (-m12 - m21)**2)/2)), Ne(m12**2 - 2*m12*m21 + m21**2, 0)), (C2*exp(t*(-m12/2 + m21/2 - r + sqrt(-4*m12*m21 + (-m12 - m21)**2)/2)), Eq(m12, 0) & Eq(m21, 0) & Eq(m12 + r, -m21 + r)), ((C1*Piecewise((-m12, Eq(m21, 0) & Eq(m12 + r, m12/2 - m21/2 + r - sqrt(-4*m12*m21 + (-m12 - m21)**2)/2)), (m12/2 + m21/2 + sqrt(-4*m12*m21 + (-m12 - m21)**2)/2, True)) + C2*(t*Piecewise((-m12, Eq(m21, 0) & Eq(m12 + r, m12/2 - m21/2 + r - sqrt(-4*m12*m21 + (-m12 - m21)**2)/2)), (m12/2 + m21/2 + sqrt(-4*m12*m21 + (-m12 - m21)**2)/2, True)) + Piecewise((0, Eq(m21, 0) & Eq(m12 + r, m12/2 - m21/2 + r - sqrt(-4*m12*m21 + (-m12 - m21)**2)/2)), (1, Eq(m12 + r, m12/2 - m21/2 + r - sqrt(-4*m12*m21 + (-m12 - m21)**2)/2)), (0, True))))*exp(t*(-m12/2 + m21/2 - r + sqrt(-4*m12*m21 + (-m12 - m21)**2)/2)), True)))]"
      ]
     },
     "metadata": {},
     "output_type": "display_data"
    }
   ],
   "source": [
    "from sympy import *\n",
    "import numpy as np\n",
    "import matplotlib.pyplot as plt\n",
    "\n",
    "t, r, k1, k2, a1, a2, m12, m21,  = symbols(\"t, r, k1, k2, a1, a2, m12, m21\")\n",
    "x = Function(\"x\")\n",
    "y = Function(\"y\")\n",
    "\n",
    "#Differential Equation 01, including:\n",
    "# r = positive growth rate\n",
    "# k1, k2 = Carrying Capacity of Patch 1 and Patch 2 respectively \n",
    "# a1 = percentage decrease due to human induced Allee Effects in patch 1\n",
    "# a2 = percentage decrease due to environmental Allee Effects in patch 2\n",
    "# m12, m21 = Migration from Patch 1 to 2 and 2 to 1 respectively\n",
    "\n",
    "Patch_1 = Eq(diff(x(t), t), r * ((x(t)/a1) - 1) * ((1 - (x(t)/k1)) * x(t)) - (m12 * x(t)) + (m21 * y(t)))\n",
    "\n",
    "Patch_2 = Eq(diff(y(t), t), r * ((y(t)/a2) - 1) * (1 - (y(t)/k2)) * y(t) - (m12 * x(t)) + (m21 * y(t)))\n",
    "\n",
    "\n",
    "solution= dsolve([Patch_1, Patch_2], [x(t), y(t)])\n",
    "display(solution)\n",
    "\n"
   ]
  },
  {
   "cell_type": "code",
   "execution_count": 10,
   "metadata": {},
   "outputs": [
    {
     "data": {
      "text/latex": [
       "$\\displaystyle \\left\\{\\left( 0, \\  0\\right), \\left( 0, \\  \\frac{a_{2}}{2} + \\frac{k_{2}}{2} - \\frac{\\sqrt{r \\left(a_{2}^{2} r - 4 a_{2} k_{2} m_{12} + 4 a_{2} k_{2} m_{21} - 2 a_{2} k_{2} r + k_{2}^{2} r\\right)}}{2 r}\\right), \\left( 0, \\  \\frac{a_{2}}{2} + \\frac{k_{2}}{2} + \\frac{\\sqrt{r \\left(a_{2}^{2} r - 4 a_{2} k_{2} m_{12} + 4 a_{2} k_{2} m_{21} - 2 a_{2} k_{2} r + k_{2}^{2} r\\right)}}{2 r}\\right), \\left( \\frac{a_{1}}{2} + \\frac{k_{1}}{2} - \\frac{\\sqrt{r \\left(a_{1}^{2} r - 4 a_{1} k_{1} m_{12} + 4 a_{1} k_{1} m_{21} - 2 a_{1} k_{1} r + k_{1}^{2} r\\right)}}{2 r}, \\  0\\right), \\left( \\frac{a_{1}}{2} + \\frac{k_{1}}{2} - \\frac{\\sqrt{r \\left(a_{1}^{2} r - 4 a_{1} k_{1} m_{12} + 4 a_{1} k_{1} m_{21} - 2 a_{1} k_{1} r + k_{1}^{2} r\\right)}}{2 r}, \\  \\frac{a_{2}}{2} + \\frac{k_{2}}{2} - \\frac{\\sqrt{r \\left(a_{2}^{2} r - 4 a_{2} k_{2} m_{12} + 4 a_{2} k_{2} m_{21} - 2 a_{2} k_{2} r + k_{2}^{2} r\\right)}}{2 r}\\right), \\left( \\frac{a_{1}}{2} + \\frac{k_{1}}{2} - \\frac{\\sqrt{r \\left(a_{1}^{2} r - 4 a_{1} k_{1} m_{12} + 4 a_{1} k_{1} m_{21} - 2 a_{1} k_{1} r + k_{1}^{2} r\\right)}}{2 r}, \\  \\frac{a_{2}}{2} + \\frac{k_{2}}{2} + \\frac{\\sqrt{r \\left(a_{2}^{2} r - 4 a_{2} k_{2} m_{12} + 4 a_{2} k_{2} m_{21} - 2 a_{2} k_{2} r + k_{2}^{2} r\\right)}}{2 r}\\right), \\left( \\frac{a_{1}}{2} + \\frac{k_{1}}{2} + \\frac{\\sqrt{r \\left(a_{1}^{2} r - 4 a_{1} k_{1} m_{12} + 4 a_{1} k_{1} m_{21} - 2 a_{1} k_{1} r + k_{1}^{2} r\\right)}}{2 r}, \\  0\\right), \\left( \\frac{a_{1}}{2} + \\frac{k_{1}}{2} + \\frac{\\sqrt{r \\left(a_{1}^{2} r - 4 a_{1} k_{1} m_{12} + 4 a_{1} k_{1} m_{21} - 2 a_{1} k_{1} r + k_{1}^{2} r\\right)}}{2 r}, \\  \\frac{a_{2}}{2} + \\frac{k_{2}}{2} - \\frac{\\sqrt{r \\left(a_{2}^{2} r - 4 a_{2} k_{2} m_{12} + 4 a_{2} k_{2} m_{21} - 2 a_{2} k_{2} r + k_{2}^{2} r\\right)}}{2 r}\\right), \\left( \\frac{a_{1}}{2} + \\frac{k_{1}}{2} + \\frac{\\sqrt{r \\left(a_{1}^{2} r - 4 a_{1} k_{1} m_{12} + 4 a_{1} k_{1} m_{21} - 2 a_{1} k_{1} r + k_{1}^{2} r\\right)}}{2 r}, \\  \\frac{a_{2}}{2} + \\frac{k_{2}}{2} + \\frac{\\sqrt{r \\left(a_{2}^{2} r - 4 a_{2} k_{2} m_{12} + 4 a_{2} k_{2} m_{21} - 2 a_{2} k_{2} r + k_{2}^{2} r\\right)}}{2 r}\\right)\\right\\}$"
      ],
      "text/plain": [
       "FiniteSet((0, 0), (0, a2/2 + k2/2 - sqrt(r*(a2**2*r - 4*a2*k2*m12 + 4*a2*k2*m21 - 2*a2*k2*r + k2**2*r))/(2*r)), (0, a2/2 + k2/2 + sqrt(r*(a2**2*r - 4*a2*k2*m12 + 4*a2*k2*m21 - 2*a2*k2*r + k2**2*r))/(2*r)), (a1/2 + k1/2 - sqrt(r*(a1**2*r - 4*a1*k1*m12 + 4*a1*k1*m21 - 2*a1*k1*r + k1**2*r))/(2*r), 0), (a1/2 + k1/2 + sqrt(r*(a1**2*r - 4*a1*k1*m12 + 4*a1*k1*m21 - 2*a1*k1*r + k1**2*r))/(2*r), 0), (a1/2 + k1/2 - sqrt(r*(a1**2*r - 4*a1*k1*m12 + 4*a1*k1*m21 - 2*a1*k1*r + k1**2*r))/(2*r), a2/2 + k2/2 - sqrt(r*(a2**2*r - 4*a2*k2*m12 + 4*a2*k2*m21 - 2*a2*k2*r + k2**2*r))/(2*r)), (a1/2 + k1/2 - sqrt(r*(a1**2*r - 4*a1*k1*m12 + 4*a1*k1*m21 - 2*a1*k1*r + k1**2*r))/(2*r), a2/2 + k2/2 + sqrt(r*(a2**2*r - 4*a2*k2*m12 + 4*a2*k2*m21 - 2*a2*k2*r + k2**2*r))/(2*r)), (a1/2 + k1/2 + sqrt(r*(a1**2*r - 4*a1*k1*m12 + 4*a1*k1*m21 - 2*a1*k1*r + k1**2*r))/(2*r), a2/2 + k2/2 - sqrt(r*(a2**2*r - 4*a2*k2*m12 + 4*a2*k2*m21 - 2*a2*k2*r + k2**2*r))/(2*r)), (a1/2 + k1/2 + sqrt(r*(a1**2*r - 4*a1*k1*m12 + 4*a1*k1*m21 - 2*a1*k1*r + k1**2*r))/(2*r), a2/2 + k2/2 + sqrt(r*(a2**2*r - 4*a2*k2*m12 + 4*a2*k2*m21 - 2*a2*k2*r + k2**2*r))/(2*r)))"
      ]
     },
     "metadata": {},
     "output_type": "display_data"
    }
   ],
   "source": [
    "#Two Patch Coupled System of ODEs\n",
    "DS1 = r * ((x(t)/a1) - 1) * ((1 - (x(t)/k1)) * x(t)) - (m12 * x(t)) + (m21 * x(t))\n",
    "DS2 = r * ((y(t)/a2) - 1) * (1 - (y(t)/k2)) * y(t) - (m12 * y(t)) + (m21 * y(t))\n",
    "\n",
    "Equilibrium= nonlinsolve([DS1,DS2], [x(t), y(t)])\n",
    "display(Equilibrium)\n"
   ]
  },
  {
   "cell_type": "markdown",
   "metadata": {},
   "source": [
    "In the above solver, the equilibrium values were calculated for non specified intial conditions and parameters. "
   ]
  },
  {
   "cell_type": "code",
   "execution_count": 16,
   "metadata": {},
   "outputs": [],
   "source": [
    "\n",
    "\n"
   ]
  },
  {
   "cell_type": "code",
   "execution_count": 19,
   "metadata": {},
   "outputs": [
    {
     "data": {
      "text/plain": [
       "array([-m12*x(t) + m21*x(t) + r*(-1 + x(t)/a1)*(1 - x(t)/k1)*x(t),\n",
       "       -m12*y(t) + m21*y(t) + r*(-1 + y(t)/a2)*(1 - y(t)/k2)*y(t)],\n",
       "      dtype=object)"
      ]
     },
     "metadata": {},
     "output_type": "display_data"
    }
   ],
   "source": [
    "func1 = np.array([DS1,DS2])\n",
    "display(func1)"
   ]
  }
 ],
 "metadata": {
  "kernelspec": {
   "display_name": "Python 3",
   "language": "python",
   "name": "python3"
  },
  "language_info": {
   "codemirror_mode": {
    "name": "ipython",
    "version": 3
   },
   "file_extension": ".py",
   "mimetype": "text/x-python",
   "name": "python",
   "nbconvert_exporter": "python",
   "pygments_lexer": "ipython3",
   "version": "3.10.9"
  }
 },
 "nbformat": 4,
 "nbformat_minor": 4
}
