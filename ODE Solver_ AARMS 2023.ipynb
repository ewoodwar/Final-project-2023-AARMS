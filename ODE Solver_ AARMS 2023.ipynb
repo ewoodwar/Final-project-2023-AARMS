{
 "cells": [
  {
   "cell_type": "code",
   "execution_count": 7,
   "metadata": {},
   "outputs": [
    {
     "data": {
      "text/plain": [
       "[Eq(x(t), C1*exp(t*(-m12 + m21 - r))), Eq(y(t), C2*exp(t*(-m12 + m21 - r)))]"
      ]
     },
     "execution_count": 7,
     "metadata": {},
     "output_type": "execute_result"
    }
   ],
   "source": [
    "from sympy import *\n",
    "\n",
    "t, r, k1, k2, a1, a2, q, m12, m21,  = symbols(\"t, r, k1, k2, a1, a2, q, m12, m21\")\n",
    "x = Function(\"x\")\n",
    "y = Function(\"y\")\n",
    "\n",
    "Lake_1 = Eq(diff(x(t), t), r * ((x(t)/a1) - 1) * ((1 - (x(t)/k1)) * x(t)) - (m12 * x(t)) + (m21 * x(t)))\n",
    "\n",
    "Lake_2 = Eq(diff(y(t), t), r * ((y(t)/a2) - 1) * (1 - (y(t)/k2)) * y(t) - (m12 * y(t)) + (m21 * y(t)))\n",
    "\n",
    "\n",
    "dsolve([Lake_1, Lake_2], [x(t), y(t)])"
   ]
  },
  {
   "cell_type": "code",
   "execution_count": 9,
   "metadata": {},
   "outputs": [
    {
     "data": {
      "text/latex": [
       "$\\displaystyle \\left\\{\\left( 0, \\  0\\right), \\left( 0, \\  \\frac{a_{2}}{2} + \\frac{k_{2}}{2} - \\frac{\\sqrt{r \\left(a_{2}^{2} r - 4 a_{2} k_{2} m_{12} + 4 a_{2} k_{2} m_{21} - 2 a_{2} k_{2} r + k_{2}^{2} r\\right)}}{2 r}\\right), \\left( 0, \\  \\frac{a_{2}}{2} + \\frac{k_{2}}{2} + \\frac{\\sqrt{r \\left(a_{2}^{2} r - 4 a_{2} k_{2} m_{12} + 4 a_{2} k_{2} m_{21} - 2 a_{2} k_{2} r + k_{2}^{2} r\\right)}}{2 r}\\right), \\left( \\frac{a_{1}}{2} + \\frac{k_{1}}{2} - \\frac{\\sqrt{r \\left(a_{1}^{2} r - 4 a_{1} k_{1} m_{12} + 4 a_{1} k_{1} m_{21} - 2 a_{1} k_{1} r + k_{1}^{2} r\\right)}}{2 r}, \\  0\\right), \\left( \\frac{a_{1}}{2} + \\frac{k_{1}}{2} - \\frac{\\sqrt{r \\left(a_{1}^{2} r - 4 a_{1} k_{1} m_{12} + 4 a_{1} k_{1} m_{21} - 2 a_{1} k_{1} r + k_{1}^{2} r\\right)}}{2 r}, \\  \\frac{a_{2}}{2} + \\frac{k_{2}}{2} - \\frac{\\sqrt{r \\left(a_{2}^{2} r - 4 a_{2} k_{2} m_{12} + 4 a_{2} k_{2} m_{21} - 2 a_{2} k_{2} r + k_{2}^{2} r\\right)}}{2 r}\\right), \\left( \\frac{a_{1}}{2} + \\frac{k_{1}}{2} - \\frac{\\sqrt{r \\left(a_{1}^{2} r - 4 a_{1} k_{1} m_{12} + 4 a_{1} k_{1} m_{21} - 2 a_{1} k_{1} r + k_{1}^{2} r\\right)}}{2 r}, \\  \\frac{a_{2}}{2} + \\frac{k_{2}}{2} + \\frac{\\sqrt{r \\left(a_{2}^{2} r - 4 a_{2} k_{2} m_{12} + 4 a_{2} k_{2} m_{21} - 2 a_{2} k_{2} r + k_{2}^{2} r\\right)}}{2 r}\\right), \\left( \\frac{a_{1}}{2} + \\frac{k_{1}}{2} + \\frac{\\sqrt{r \\left(a_{1}^{2} r - 4 a_{1} k_{1} m_{12} + 4 a_{1} k_{1} m_{21} - 2 a_{1} k_{1} r + k_{1}^{2} r\\right)}}{2 r}, \\  0\\right), \\left( \\frac{a_{1}}{2} + \\frac{k_{1}}{2} + \\frac{\\sqrt{r \\left(a_{1}^{2} r - 4 a_{1} k_{1} m_{12} + 4 a_{1} k_{1} m_{21} - 2 a_{1} k_{1} r + k_{1}^{2} r\\right)}}{2 r}, \\  \\frac{a_{2}}{2} + \\frac{k_{2}}{2} - \\frac{\\sqrt{r \\left(a_{2}^{2} r - 4 a_{2} k_{2} m_{12} + 4 a_{2} k_{2} m_{21} - 2 a_{2} k_{2} r + k_{2}^{2} r\\right)}}{2 r}\\right), \\left( \\frac{a_{1}}{2} + \\frac{k_{1}}{2} + \\frac{\\sqrt{r \\left(a_{1}^{2} r - 4 a_{1} k_{1} m_{12} + 4 a_{1} k_{1} m_{21} - 2 a_{1} k_{1} r + k_{1}^{2} r\\right)}}{2 r}, \\  \\frac{a_{2}}{2} + \\frac{k_{2}}{2} + \\frac{\\sqrt{r \\left(a_{2}^{2} r - 4 a_{2} k_{2} m_{12} + 4 a_{2} k_{2} m_{21} - 2 a_{2} k_{2} r + k_{2}^{2} r\\right)}}{2 r}\\right)\\right\\}$"
      ],
      "text/plain": [
       "FiniteSet((0, 0), (0, a2/2 + k2/2 - sqrt(r*(a2**2*r - 4*a2*k2*m12 + 4*a2*k2*m21 - 2*a2*k2*r + k2**2*r))/(2*r)), (0, a2/2 + k2/2 + sqrt(r*(a2**2*r - 4*a2*k2*m12 + 4*a2*k2*m21 - 2*a2*k2*r + k2**2*r))/(2*r)), (a1/2 + k1/2 - sqrt(r*(a1**2*r - 4*a1*k1*m12 + 4*a1*k1*m21 - 2*a1*k1*r + k1**2*r))/(2*r), 0), (a1/2 + k1/2 + sqrt(r*(a1**2*r - 4*a1*k1*m12 + 4*a1*k1*m21 - 2*a1*k1*r + k1**2*r))/(2*r), 0), (a1/2 + k1/2 - sqrt(r*(a1**2*r - 4*a1*k1*m12 + 4*a1*k1*m21 - 2*a1*k1*r + k1**2*r))/(2*r), a2/2 + k2/2 - sqrt(r*(a2**2*r - 4*a2*k2*m12 + 4*a2*k2*m21 - 2*a2*k2*r + k2**2*r))/(2*r)), (a1/2 + k1/2 - sqrt(r*(a1**2*r - 4*a1*k1*m12 + 4*a1*k1*m21 - 2*a1*k1*r + k1**2*r))/(2*r), a2/2 + k2/2 + sqrt(r*(a2**2*r - 4*a2*k2*m12 + 4*a2*k2*m21 - 2*a2*k2*r + k2**2*r))/(2*r)), (a1/2 + k1/2 + sqrt(r*(a1**2*r - 4*a1*k1*m12 + 4*a1*k1*m21 - 2*a1*k1*r + k1**2*r))/(2*r), a2/2 + k2/2 - sqrt(r*(a2**2*r - 4*a2*k2*m12 + 4*a2*k2*m21 - 2*a2*k2*r + k2**2*r))/(2*r)), (a1/2 + k1/2 + sqrt(r*(a1**2*r - 4*a1*k1*m12 + 4*a1*k1*m21 - 2*a1*k1*r + k1**2*r))/(2*r), a2/2 + k2/2 + sqrt(r*(a2**2*r - 4*a2*k2*m12 + 4*a2*k2*m21 - 2*a2*k2*r + k2**2*r))/(2*r)))"
      ]
     },
     "execution_count": 9,
     "metadata": {},
     "output_type": "execute_result"
    }
   ],
   "source": [
    "DS1 = r * ((x(t)/a1) - 1) * ((1 - (x(t)/k1)) * x(t)) - (m12 * x(t)) + (m21 * x(t))\n",
    "DS2 = r * ((y(t)/a2) - 1) * (1 - (y(t)/k2)) * y(t) - (m12 * y(t)) + (m21 * y(t))\n",
    "\n",
    "nonlinsolve([DS1,DS2], [x(t), y(t)])"
   ]
  },
  {
   "cell_type": "code",
   "execution_count": null,
   "metadata": {},
   "outputs": [],
   "source": []
  }
 ],
 "metadata": {
  "kernelspec": {
   "display_name": "Python 3",
   "language": "python",
   "name": "python3"
  },
  "language_info": {
   "codemirror_mode": {
    "name": "ipython",
    "version": 3
   },
   "file_extension": ".py",
   "mimetype": "text/x-python",
   "name": "python",
   "nbconvert_exporter": "python",
   "pygments_lexer": "ipython3",
   "version": "3.10.9"
  }
 },
 "nbformat": 4,
 "nbformat_minor": 4
}
