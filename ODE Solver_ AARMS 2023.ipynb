{
 "cells": [
  {
   "cell_type": "code",
   "execution_count": 52,
   "metadata": {},
   "outputs": [
    {
     "data": {
      "text/plain": [
       "[Eq(x(t), Piecewise((C1*Piecewise((-m12/2 - m21/2 + sqrt(-4*m12*m21 + (-m12 - m21)**2)/2, Eq(m21, 0) & Eq(m12 + r, m12/2 - m21/2 + r - sqrt(-4*m12*m21 + (-m12 - m21)**2)/2)), (m21, True))*exp(t*(-m12/2 + m21/2 - r + sqrt(-4*m12*m21 + (-m12 - m21)**2)/2)) + C2*Piecewise((-m12/2 - m21/2 - sqrt(-4*m12*m21 + (-m12 - m21)**2)/2, Eq(m21, 0) & Eq(m12 + r, m12/2 - m21/2 + r + sqrt(-4*m12*m21 + (-m12 - m21)**2)/2)), (m21, True))*exp(t*(-m12/2 + m21/2 - r - sqrt(-4*m12*m21 + (-m12 - m21)**2)/2)), Ne(m12**2 - 2*m12*m21 + m21**2, 0)), (C1*exp(t*(-m12/2 + m21/2 - r + sqrt(-4*m12*m21 + (-m12 - m21)**2)/2)), Eq(m12, 0) & Eq(m21, 0) & Eq(m12 + r, -m21 + r)), ((C1*Piecewise((-m12/2 - m21/2 + sqrt(-4*m12*m21 + (-m12 - m21)**2)/2, Eq(m21, 0) & Eq(m12 + r, m12/2 - m21/2 + r - sqrt(-4*m12*m21 + (-m12 - m21)**2)/2)), (m21, True)) + C2*(t*Piecewise((-m12/2 - m21/2 + sqrt(-4*m12*m21 + (-m12 - m21)**2)/2, Eq(m21, 0) & Eq(m12 + r, m12/2 - m21/2 + r - sqrt(-4*m12*m21 + (-m12 - m21)**2)/2)), (m21, True)) + Piecewise((1, Eq(m21, 0) & Eq(m12 + r, m12/2 - m21/2 + r - sqrt(-4*m12*m21 + (-m12 - m21)**2)/2)), (0, Eq(m12 + r, m12/2 - m21/2 + r - sqrt(-4*m12*m21 + (-m12 - m21)**2)/2)), (m21/(-m12/2 - m21/2 - sqrt(-4*m12*m21 + (-m12 - m21)**2)/2), True))))*exp(t*(-m12/2 + m21/2 - r + sqrt(-4*m12*m21 + (-m12 - m21)**2)/2)), True))),\n",
       " Eq(y(t), Piecewise((C1*Piecewise((-m12, Eq(m21, 0) & Eq(m12 + r, m12/2 - m21/2 + r - sqrt(-4*m12*m21 + (-m12 - m21)**2)/2)), (m12/2 + m21/2 + sqrt(-4*m12*m21 + (-m12 - m21)**2)/2, True))*exp(t*(-m12/2 + m21/2 - r + sqrt(-4*m12*m21 + (-m12 - m21)**2)/2)) + C2*Piecewise((-m12, Eq(m21, 0) & Eq(m12 + r, m12/2 - m21/2 + r + sqrt(-4*m12*m21 + (-m12 - m21)**2)/2)), (m12/2 + m21/2 - sqrt(-4*m12*m21 + (-m12 - m21)**2)/2, True))*exp(t*(-m12/2 + m21/2 - r - sqrt(-4*m12*m21 + (-m12 - m21)**2)/2)), Ne(m12**2 - 2*m12*m21 + m21**2, 0)), (C2*exp(t*(-m12/2 + m21/2 - r + sqrt(-4*m12*m21 + (-m12 - m21)**2)/2)), Eq(m12, 0) & Eq(m21, 0) & Eq(m12 + r, -m21 + r)), ((C1*Piecewise((-m12, Eq(m21, 0) & Eq(m12 + r, m12/2 - m21/2 + r - sqrt(-4*m12*m21 + (-m12 - m21)**2)/2)), (m12/2 + m21/2 + sqrt(-4*m12*m21 + (-m12 - m21)**2)/2, True)) + C2*(t*Piecewise((-m12, Eq(m21, 0) & Eq(m12 + r, m12/2 - m21/2 + r - sqrt(-4*m12*m21 + (-m12 - m21)**2)/2)), (m12/2 + m21/2 + sqrt(-4*m12*m21 + (-m12 - m21)**2)/2, True)) + Piecewise((0, Eq(m21, 0) & Eq(m12 + r, m12/2 - m21/2 + r - sqrt(-4*m12*m21 + (-m12 - m21)**2)/2)), (1, Eq(m12 + r, m12/2 - m21/2 + r - sqrt(-4*m12*m21 + (-m12 - m21)**2)/2)), (0, True))))*exp(t*(-m12/2 + m21/2 - r + sqrt(-4*m12*m21 + (-m12 - m21)**2)/2)), True)))]"
      ]
     },
     "metadata": {},
     "output_type": "display_data"
    }
   ],
   "source": [
    "from sympy import *\n",
    "import numpy as np\n",
    "import matplotlib.pyplot as plt\n",
    "\n",
    "t, r, k, a1, a2, m12, m21,  = symbols(\"t, r, k, a1, a2, m12, m21\")\n",
    "x = Function(\"x\")\n",
    "y = Function(\"y\")\n",
    "\n",
    "#Differential Equation 01, including:\n",
    "# r = positive growth rate\n",
    "# k1, k2 = Carrying Capacity of Patch 1 and Patch 2 respectively \n",
    "# a1 = percentage decrease due to human induced Allee Effects in patch 1\n",
    "# a2 = percentage decrease due to environmental Allee Effects in patch 2\n",
    "# m12, m21 = Migration from Patch 1 to 2 and 2 to 1 respectively\n",
    "\n",
    "Patch_1 = Eq(diff(x(t), t), r * ((x(t)/a1) - 1) * ((1 - (x(t)/k)) * x(t)) - (m12 * x(t)) + (m21 * y(t)))\n",
    "\n",
    "Patch_2 = Eq(diff(y(t), t), r * ((y(t)/a2) - 1) * (1 - (y(t)/k)) * y(t) - (m12 * x(t)) + (m21 * y(t)))\n",
    "\n",
    "\n",
    "solution= dsolve([Patch_1, Patch_2], [x(t), y(t)])\n",
    "display(solution)\n",
    "\n"
   ]
  },
  {
   "cell_type": "code",
   "execution_count": 53,
   "metadata": {},
   "outputs": [
    {
     "data": {
      "text/latex": [
       "$\\displaystyle \\left\\{\\left( 0, \\  0\\right), \\left( 0, \\  \\frac{a_{2}}{2} + \\frac{k}{2} - \\frac{\\sqrt{r \\left(a_{2}^{2} r - 4 a_{2} k m_{12} + 4 a_{2} k m_{21} - 2 a_{2} k r + k^{2} r\\right)}}{2 r}\\right), \\left( 0, \\  \\frac{a_{2}}{2} + \\frac{k}{2} + \\frac{\\sqrt{r \\left(a_{2}^{2} r - 4 a_{2} k m_{12} + 4 a_{2} k m_{21} - 2 a_{2} k r + k^{2} r\\right)}}{2 r}\\right), \\left( \\frac{a_{1}}{2} + \\frac{k}{2} - \\frac{\\sqrt{r \\left(a_{1}^{2} r - 4 a_{1} k m_{12} + 4 a_{1} k m_{21} - 2 a_{1} k r + k^{2} r\\right)}}{2 r}, \\  0\\right), \\left( \\frac{a_{1}}{2} + \\frac{k}{2} - \\frac{\\sqrt{r \\left(a_{1}^{2} r - 4 a_{1} k m_{12} + 4 a_{1} k m_{21} - 2 a_{1} k r + k^{2} r\\right)}}{2 r}, \\  \\frac{a_{2}}{2} + \\frac{k}{2} - \\frac{\\sqrt{r \\left(a_{2}^{2} r - 4 a_{2} k m_{12} + 4 a_{2} k m_{21} - 2 a_{2} k r + k^{2} r\\right)}}{2 r}\\right), \\left( \\frac{a_{1}}{2} + \\frac{k}{2} - \\frac{\\sqrt{r \\left(a_{1}^{2} r - 4 a_{1} k m_{12} + 4 a_{1} k m_{21} - 2 a_{1} k r + k^{2} r\\right)}}{2 r}, \\  \\frac{a_{2}}{2} + \\frac{k}{2} + \\frac{\\sqrt{r \\left(a_{2}^{2} r - 4 a_{2} k m_{12} + 4 a_{2} k m_{21} - 2 a_{2} k r + k^{2} r\\right)}}{2 r}\\right), \\left( \\frac{a_{1}}{2} + \\frac{k}{2} + \\frac{\\sqrt{r \\left(a_{1}^{2} r - 4 a_{1} k m_{12} + 4 a_{1} k m_{21} - 2 a_{1} k r + k^{2} r\\right)}}{2 r}, \\  0\\right), \\left( \\frac{a_{1}}{2} + \\frac{k}{2} + \\frac{\\sqrt{r \\left(a_{1}^{2} r - 4 a_{1} k m_{12} + 4 a_{1} k m_{21} - 2 a_{1} k r + k^{2} r\\right)}}{2 r}, \\  \\frac{a_{2}}{2} + \\frac{k}{2} - \\frac{\\sqrt{r \\left(a_{2}^{2} r - 4 a_{2} k m_{12} + 4 a_{2} k m_{21} - 2 a_{2} k r + k^{2} r\\right)}}{2 r}\\right), \\left( \\frac{a_{1}}{2} + \\frac{k}{2} + \\frac{\\sqrt{r \\left(a_{1}^{2} r - 4 a_{1} k m_{12} + 4 a_{1} k m_{21} - 2 a_{1} k r + k^{2} r\\right)}}{2 r}, \\  \\frac{a_{2}}{2} + \\frac{k}{2} + \\frac{\\sqrt{r \\left(a_{2}^{2} r - 4 a_{2} k m_{12} + 4 a_{2} k m_{21} - 2 a_{2} k r + k^{2} r\\right)}}{2 r}\\right)\\right\\}$"
      ],
      "text/plain": [
       "FiniteSet((0, 0), (0, a2/2 + k/2 - sqrt(r*(a2**2*r - 4*a2*k*m12 + 4*a2*k*m21 - 2*a2*k*r + k**2*r))/(2*r)), (0, a2/2 + k/2 + sqrt(r*(a2**2*r - 4*a2*k*m12 + 4*a2*k*m21 - 2*a2*k*r + k**2*r))/(2*r)), (a1/2 + k/2 - sqrt(r*(a1**2*r - 4*a1*k*m12 + 4*a1*k*m21 - 2*a1*k*r + k**2*r))/(2*r), 0), (a1/2 + k/2 + sqrt(r*(a1**2*r - 4*a1*k*m12 + 4*a1*k*m21 - 2*a1*k*r + k**2*r))/(2*r), 0), (a1/2 + k/2 - sqrt(r*(a1**2*r - 4*a1*k*m12 + 4*a1*k*m21 - 2*a1*k*r + k**2*r))/(2*r), a2/2 + k/2 - sqrt(r*(a2**2*r - 4*a2*k*m12 + 4*a2*k*m21 - 2*a2*k*r + k**2*r))/(2*r)), (a1/2 + k/2 - sqrt(r*(a1**2*r - 4*a1*k*m12 + 4*a1*k*m21 - 2*a1*k*r + k**2*r))/(2*r), a2/2 + k/2 + sqrt(r*(a2**2*r - 4*a2*k*m12 + 4*a2*k*m21 - 2*a2*k*r + k**2*r))/(2*r)), (a1/2 + k/2 + sqrt(r*(a1**2*r - 4*a1*k*m12 + 4*a1*k*m21 - 2*a1*k*r + k**2*r))/(2*r), a2/2 + k/2 - sqrt(r*(a2**2*r - 4*a2*k*m12 + 4*a2*k*m21 - 2*a2*k*r + k**2*r))/(2*r)), (a1/2 + k/2 + sqrt(r*(a1**2*r - 4*a1*k*m12 + 4*a1*k*m21 - 2*a1*k*r + k**2*r))/(2*r), a2/2 + k/2 + sqrt(r*(a2**2*r - 4*a2*k*m12 + 4*a2*k*m21 - 2*a2*k*r + k**2*r))/(2*r)))"
      ]
     },
     "metadata": {},
     "output_type": "display_data"
    }
   ],
   "source": [
    "#Two Patch Coupled System of ODEs\n",
    "DS1 = r * ((x(t)/a1) - 1) * ((1 - (x(t)/k)) * x(t)) - (m12 * x(t)) + (m21 * x(t))\n",
    "DS2 = r * ((y(t)/a2) - 1) * (1 - (y(t)/k)) * y(t) - (m12 * y(t)) + (m21 * y(t))\n",
    "\n",
    "#Finding the Equilibrium Values\n",
    "Equilibrium= nonlinsolve([DS1,DS2], [x(t), y(t)])\n",
    "display(Equilibrium)\n",
    "\n",
    "eq_list = list(Equilibrium)"
   ]
  },
  {
   "cell_type": "code",
   "execution_count": 55,
   "metadata": {},
   "outputs": [
    {
     "name": "stdout",
     "output_type": "stream",
     "text": [
      "(0, 0)\n"
     ]
    }
   ],
   "source": [
    "Eq1 = eq_list[0]\n",
    "print(Eq1)\n",
    "\n"
   ]
  },
  {
   "attachments": {},
   "cell_type": "markdown",
   "metadata": {},
   "source": [
    "'''\n",
    "#Example case for equilibrium values with \"random\" parameters\n",
    "k=1\n",
    "r=1\n",
    "a1=10\n",
    "a2=10\n",
    "m12=0.6\n",
    "m21=0.02\n",
    "\n",
    "DS_1 = r * ((x(t)/a1) - 1) * ((1 - (x(t)/k)) * x(t)) - (m12 * x(t)) + (m21 * x(t))\n",
    "DS_2 = r * ((y(t)/a2) - 1) * (1 - (y(t)/k)) * y(t) - (m12 * y(t)) + (m21 * y(t))\n",
    "\n",
    "\n",
    "Equilibrium= nonlinsolve([DS_1,DS_2], [x(t), y(t)])\n",
    "\n",
    "Equilibrium_Values=list(Equilibrium)\n",
    "#print(Equilibrium_Values)\n",
    "#type(Equilibrium_Values)\n",
    "\n",
    "x_val = (list(zip(*Equilibrium_Values))[0])\n",
    "y_val = (list(zip(*Equilibrium_Values))[1])\n",
    "\n",
    "scatter(x_val, y_val)\n",
    "\n"
   ]
  },
  {
   "cell_type": "code",
   "execution_count": 58,
   "metadata": {},
   "outputs": [
    {
     "data": {
      "text/latex": [
       "$\\displaystyle \\left[\\begin{matrix}- m_{12} + m_{21} + r \\left(-1 + \\frac{x{\\left(t \\right)}}{a_{1}}\\right) \\left(1 - \\frac{x{\\left(t \\right)}}{k}\\right) - \\frac{r \\left(-1 + \\frac{x{\\left(t \\right)}}{a_{1}}\\right) x{\\left(t \\right)}}{k} + \\frac{r \\left(1 - \\frac{x{\\left(t \\right)}}{k}\\right) x{\\left(t \\right)}}{a_{1}} & 0\\\\0 & - m_{12} + m_{21} + r \\left(-1 + \\frac{y{\\left(t \\right)}}{a_{2}}\\right) \\left(1 - \\frac{y{\\left(t \\right)}}{k}\\right) - \\frac{r \\left(-1 + \\frac{y{\\left(t \\right)}}{a_{2}}\\right) y{\\left(t \\right)}}{k} + \\frac{r \\left(1 - \\frac{y{\\left(t \\right)}}{k}\\right) y{\\left(t \\right)}}{a_{2}}\\end{matrix}\\right]$"
      ],
      "text/plain": [
       "Matrix([\n",
       "[-m12 + m21 + r*(-1 + x(t)/a1)*(1 - x(t)/k) - r*(-1 + x(t)/a1)*x(t)/k + r*(1 - x(t)/k)*x(t)/a1,                                                                                             0],\n",
       "[                                                                                            0, -m12 + m21 + r*(-1 + y(t)/a2)*(1 - y(t)/k) - r*(-1 + y(t)/a2)*y(t)/k + r*(1 - y(t)/k)*y(t)/a2]])"
      ]
     },
     "execution_count": 58,
     "metadata": {},
     "output_type": "execute_result"
    }
   ],
   "source": [
    "#Finding the Jacobian \n",
    "Jacobian = Matrix(\n",
    "    [\n",
    "    [diff(DS1, x(t)), diff(DS1, y(t))], \n",
    "    [diff(DS2, x(t)), diff(DS2, y(t))]\n",
    "    ])\n",
    "Jacobian\n"
   ]
  },
  {
   "cell_type": "code",
   "execution_count": 59,
   "metadata": {},
   "outputs": [
    {
     "data": {
      "text/latex": [
       "$\\displaystyle \\left[\\begin{matrix}- m_{12} + m_{21} - r & 0\\\\0 & - m_{12} + m_{21} - r\\end{matrix}\\right]$"
      ],
      "text/plain": [
       "Matrix([\n",
       "[-m12 + m21 - r,              0],\n",
       "[             0, -m12 + m21 - r]])"
      ]
     },
     "execution_count": 59,
     "metadata": {},
     "output_type": "execute_result"
    }
   ],
   "source": [
    "#Jacobian matrix with (0,0) substituted in\n",
    "Jac_1 = simplify(Jacobian.subs({x(t) : eq_list[0][0], y(t) : eq_list[0][1]}))\n",
    "Jac_1"
   ]
  },
  {
   "cell_type": "code",
   "execution_count": 60,
   "metadata": {},
   "outputs": [
    {
     "data": {
      "text/latex": [
       "$\\displaystyle \\left[\\begin{matrix}- m_{12} + m_{21} - r & 0\\\\0 & - m_{12} + m_{21} - r\\end{matrix}\\right]$"
      ],
      "text/plain": [
       "Matrix([\n",
       "[-m12 + m21 - r,              0],\n",
       "[             0, -m12 + m21 - r]])"
      ]
     },
     "metadata": {},
     "output_type": "display_data"
    },
    {
     "data": {
      "text/latex": [
       "$\\displaystyle \\left[\\begin{matrix}- m_{12} + m_{21} - r & 0\\\\0 & \\frac{- a_{2}^{2} r + 4 a_{2} k m_{12} - 4 a_{2} k m_{21} + 2 a_{2} k r + a_{2} \\sqrt{r \\left(a_{2}^{2} r - 4 a_{2} k m_{12} + 4 a_{2} k m_{21} - 2 a_{2} k r + k^{2} r\\right)} - k^{2} r + k \\sqrt{r \\left(a_{2}^{2} r - 4 a_{2} k m_{12} + 4 a_{2} k m_{21} - 2 a_{2} k r + k^{2} r\\right)}}{2 a_{2} k}\\end{matrix}\\right]$"
      ],
      "text/plain": [
       "Matrix([\n",
       "[-m12 + m21 - r,                                                                                                                                                                                                          0],\n",
       "[             0, (-a2**2*r + 4*a2*k*m12 - 4*a2*k*m21 + 2*a2*k*r + a2*sqrt(r*(a2**2*r - 4*a2*k*m12 + 4*a2*k*m21 - 2*a2*k*r + k**2*r)) - k**2*r + k*sqrt(r*(a2**2*r - 4*a2*k*m12 + 4*a2*k*m21 - 2*a2*k*r + k**2*r)))/(2*a2*k)]])"
      ]
     },
     "metadata": {},
     "output_type": "display_data"
    },
    {
     "data": {
      "text/latex": [
       "$\\displaystyle \\left[\\begin{matrix}- m_{12} + m_{21} - r & 0\\\\0 & - \\frac{a_{2}^{2} r - 4 a_{2} k m_{12} + 4 a_{2} k m_{21} - 2 a_{2} k r + a_{2} \\sqrt{r \\left(a_{2}^{2} r - 4 a_{2} k m_{12} + 4 a_{2} k m_{21} - 2 a_{2} k r + k^{2} r\\right)} + k^{2} r + k \\sqrt{r \\left(a_{2}^{2} r - 4 a_{2} k m_{12} + 4 a_{2} k m_{21} - 2 a_{2} k r + k^{2} r\\right)}}{2 a_{2} k}\\end{matrix}\\right]$"
      ],
      "text/plain": [
       "Matrix([\n",
       "[-m12 + m21 - r,                                                                                                                                                                                                          0],\n",
       "[             0, -(a2**2*r - 4*a2*k*m12 + 4*a2*k*m21 - 2*a2*k*r + a2*sqrt(r*(a2**2*r - 4*a2*k*m12 + 4*a2*k*m21 - 2*a2*k*r + k**2*r)) + k**2*r + k*sqrt(r*(a2**2*r - 4*a2*k*m12 + 4*a2*k*m21 - 2*a2*k*r + k**2*r)))/(2*a2*k)]])"
      ]
     },
     "metadata": {},
     "output_type": "display_data"
    },
    {
     "data": {
      "text/latex": [
       "$\\displaystyle \\left[\\begin{matrix}\\frac{- a_{1}^{2} r + 4 a_{1} k m_{12} - 4 a_{1} k m_{21} + 2 a_{1} k r + a_{1} \\sqrt{r \\left(a_{1}^{2} r - 4 a_{1} k m_{12} + 4 a_{1} k m_{21} - 2 a_{1} k r + k^{2} r\\right)} - k^{2} r + k \\sqrt{r \\left(a_{1}^{2} r - 4 a_{1} k m_{12} + 4 a_{1} k m_{21} - 2 a_{1} k r + k^{2} r\\right)}}{2 a_{1} k} & 0\\\\0 & - m_{12} + m_{21} - r\\end{matrix}\\right]$"
      ],
      "text/plain": [
       "Matrix([\n",
       "[(-a1**2*r + 4*a1*k*m12 - 4*a1*k*m21 + 2*a1*k*r + a1*sqrt(r*(a1**2*r - 4*a1*k*m12 + 4*a1*k*m21 - 2*a1*k*r + k**2*r)) - k**2*r + k*sqrt(r*(a1**2*r - 4*a1*k*m12 + 4*a1*k*m21 - 2*a1*k*r + k**2*r)))/(2*a1*k),              0],\n",
       "[                                                                                                                                                                                                         0, -m12 + m21 - r]])"
      ]
     },
     "metadata": {},
     "output_type": "display_data"
    },
    {
     "data": {
      "text/latex": [
       "$\\displaystyle \\left[\\begin{matrix}- \\frac{a_{1}^{2} r - 4 a_{1} k m_{12} + 4 a_{1} k m_{21} - 2 a_{1} k r + a_{1} \\sqrt{r \\left(a_{1}^{2} r - 4 a_{1} k m_{12} + 4 a_{1} k m_{21} - 2 a_{1} k r + k^{2} r\\right)} + k^{2} r + k \\sqrt{r \\left(a_{1}^{2} r - 4 a_{1} k m_{12} + 4 a_{1} k m_{21} - 2 a_{1} k r + k^{2} r\\right)}}{2 a_{1} k} & 0\\\\0 & - m_{12} + m_{21} - r\\end{matrix}\\right]$"
      ],
      "text/plain": [
       "Matrix([\n",
       "[-(a1**2*r - 4*a1*k*m12 + 4*a1*k*m21 - 2*a1*k*r + a1*sqrt(r*(a1**2*r - 4*a1*k*m12 + 4*a1*k*m21 - 2*a1*k*r + k**2*r)) + k**2*r + k*sqrt(r*(a1**2*r - 4*a1*k*m12 + 4*a1*k*m21 - 2*a1*k*r + k**2*r)))/(2*a1*k),              0],\n",
       "[                                                                                                                                                                                                         0, -m12 + m21 - r]])"
      ]
     },
     "metadata": {},
     "output_type": "display_data"
    },
    {
     "data": {
      "text/latex": [
       "$\\displaystyle \\left[\\begin{matrix}\\frac{- a_{1}^{2} r + 4 a_{1} k m_{12} - 4 a_{1} k m_{21} + 2 a_{1} k r + a_{1} \\sqrt{r \\left(a_{1}^{2} r - 4 a_{1} k m_{12} + 4 a_{1} k m_{21} - 2 a_{1} k r + k^{2} r\\right)} - k^{2} r + k \\sqrt{r \\left(a_{1}^{2} r - 4 a_{1} k m_{12} + 4 a_{1} k m_{21} - 2 a_{1} k r + k^{2} r\\right)}}{2 a_{1} k} & 0\\\\0 & \\frac{- a_{2}^{2} r + 4 a_{2} k m_{12} - 4 a_{2} k m_{21} + 2 a_{2} k r + a_{2} \\sqrt{r \\left(a_{2}^{2} r - 4 a_{2} k m_{12} + 4 a_{2} k m_{21} - 2 a_{2} k r + k^{2} r\\right)} - k^{2} r + k \\sqrt{r \\left(a_{2}^{2} r - 4 a_{2} k m_{12} + 4 a_{2} k m_{21} - 2 a_{2} k r + k^{2} r\\right)}}{2 a_{2} k}\\end{matrix}\\right]$"
      ],
      "text/plain": [
       "Matrix([\n",
       "[(-a1**2*r + 4*a1*k*m12 - 4*a1*k*m21 + 2*a1*k*r + a1*sqrt(r*(a1**2*r - 4*a1*k*m12 + 4*a1*k*m21 - 2*a1*k*r + k**2*r)) - k**2*r + k*sqrt(r*(a1**2*r - 4*a1*k*m12 + 4*a1*k*m21 - 2*a1*k*r + k**2*r)))/(2*a1*k),                                                                                                                                                                                                          0],\n",
       "[                                                                                                                                                                                                         0, (-a2**2*r + 4*a2*k*m12 - 4*a2*k*m21 + 2*a2*k*r + a2*sqrt(r*(a2**2*r - 4*a2*k*m12 + 4*a2*k*m21 - 2*a2*k*r + k**2*r)) - k**2*r + k*sqrt(r*(a2**2*r - 4*a2*k*m12 + 4*a2*k*m21 - 2*a2*k*r + k**2*r)))/(2*a2*k)]])"
      ]
     },
     "metadata": {},
     "output_type": "display_data"
    },
    {
     "data": {
      "text/latex": [
       "$\\displaystyle \\left[\\begin{matrix}\\frac{- a_{1}^{2} r + 4 a_{1} k m_{12} - 4 a_{1} k m_{21} + 2 a_{1} k r + a_{1} \\sqrt{r \\left(a_{1}^{2} r - 4 a_{1} k m_{12} + 4 a_{1} k m_{21} - 2 a_{1} k r + k^{2} r\\right)} - k^{2} r + k \\sqrt{r \\left(a_{1}^{2} r - 4 a_{1} k m_{12} + 4 a_{1} k m_{21} - 2 a_{1} k r + k^{2} r\\right)}}{2 a_{1} k} & 0\\\\0 & - \\frac{a_{2}^{2} r - 4 a_{2} k m_{12} + 4 a_{2} k m_{21} - 2 a_{2} k r + a_{2} \\sqrt{r \\left(a_{2}^{2} r - 4 a_{2} k m_{12} + 4 a_{2} k m_{21} - 2 a_{2} k r + k^{2} r\\right)} + k^{2} r + k \\sqrt{r \\left(a_{2}^{2} r - 4 a_{2} k m_{12} + 4 a_{2} k m_{21} - 2 a_{2} k r + k^{2} r\\right)}}{2 a_{2} k}\\end{matrix}\\right]$"
      ],
      "text/plain": [
       "Matrix([\n",
       "[(-a1**2*r + 4*a1*k*m12 - 4*a1*k*m21 + 2*a1*k*r + a1*sqrt(r*(a1**2*r - 4*a1*k*m12 + 4*a1*k*m21 - 2*a1*k*r + k**2*r)) - k**2*r + k*sqrt(r*(a1**2*r - 4*a1*k*m12 + 4*a1*k*m21 - 2*a1*k*r + k**2*r)))/(2*a1*k),                                                                                                                                                                                                          0],\n",
       "[                                                                                                                                                                                                         0, -(a2**2*r - 4*a2*k*m12 + 4*a2*k*m21 - 2*a2*k*r + a2*sqrt(r*(a2**2*r - 4*a2*k*m12 + 4*a2*k*m21 - 2*a2*k*r + k**2*r)) + k**2*r + k*sqrt(r*(a2**2*r - 4*a2*k*m12 + 4*a2*k*m21 - 2*a2*k*r + k**2*r)))/(2*a2*k)]])"
      ]
     },
     "metadata": {},
     "output_type": "display_data"
    },
    {
     "data": {
      "text/latex": [
       "$\\displaystyle \\left[\\begin{matrix}- \\frac{a_{1}^{2} r - 4 a_{1} k m_{12} + 4 a_{1} k m_{21} - 2 a_{1} k r + a_{1} \\sqrt{r \\left(a_{1}^{2} r - 4 a_{1} k m_{12} + 4 a_{1} k m_{21} - 2 a_{1} k r + k^{2} r\\right)} + k^{2} r + k \\sqrt{r \\left(a_{1}^{2} r - 4 a_{1} k m_{12} + 4 a_{1} k m_{21} - 2 a_{1} k r + k^{2} r\\right)}}{2 a_{1} k} & 0\\\\0 & \\frac{- a_{2}^{2} r + 4 a_{2} k m_{12} - 4 a_{2} k m_{21} + 2 a_{2} k r + a_{2} \\sqrt{r \\left(a_{2}^{2} r - 4 a_{2} k m_{12} + 4 a_{2} k m_{21} - 2 a_{2} k r + k^{2} r\\right)} - k^{2} r + k \\sqrt{r \\left(a_{2}^{2} r - 4 a_{2} k m_{12} + 4 a_{2} k m_{21} - 2 a_{2} k r + k^{2} r\\right)}}{2 a_{2} k}\\end{matrix}\\right]$"
      ],
      "text/plain": [
       "Matrix([\n",
       "[-(a1**2*r - 4*a1*k*m12 + 4*a1*k*m21 - 2*a1*k*r + a1*sqrt(r*(a1**2*r - 4*a1*k*m12 + 4*a1*k*m21 - 2*a1*k*r + k**2*r)) + k**2*r + k*sqrt(r*(a1**2*r - 4*a1*k*m12 + 4*a1*k*m21 - 2*a1*k*r + k**2*r)))/(2*a1*k),                                                                                                                                                                                                          0],\n",
       "[                                                                                                                                                                                                         0, (-a2**2*r + 4*a2*k*m12 - 4*a2*k*m21 + 2*a2*k*r + a2*sqrt(r*(a2**2*r - 4*a2*k*m12 + 4*a2*k*m21 - 2*a2*k*r + k**2*r)) - k**2*r + k*sqrt(r*(a2**2*r - 4*a2*k*m12 + 4*a2*k*m21 - 2*a2*k*r + k**2*r)))/(2*a2*k)]])"
      ]
     },
     "metadata": {},
     "output_type": "display_data"
    },
    {
     "data": {
      "text/latex": [
       "$\\displaystyle \\left[\\begin{matrix}- \\frac{a_{1}^{2} r - 4 a_{1} k m_{12} + 4 a_{1} k m_{21} - 2 a_{1} k r + a_{1} \\sqrt{r \\left(a_{1}^{2} r - 4 a_{1} k m_{12} + 4 a_{1} k m_{21} - 2 a_{1} k r + k^{2} r\\right)} + k^{2} r + k \\sqrt{r \\left(a_{1}^{2} r - 4 a_{1} k m_{12} + 4 a_{1} k m_{21} - 2 a_{1} k r + k^{2} r\\right)}}{2 a_{1} k} & 0\\\\0 & - \\frac{a_{2}^{2} r - 4 a_{2} k m_{12} + 4 a_{2} k m_{21} - 2 a_{2} k r + a_{2} \\sqrt{r \\left(a_{2}^{2} r - 4 a_{2} k m_{12} + 4 a_{2} k m_{21} - 2 a_{2} k r + k^{2} r\\right)} + k^{2} r + k \\sqrt{r \\left(a_{2}^{2} r - 4 a_{2} k m_{12} + 4 a_{2} k m_{21} - 2 a_{2} k r + k^{2} r\\right)}}{2 a_{2} k}\\end{matrix}\\right]$"
      ],
      "text/plain": [
       "Matrix([\n",
       "[-(a1**2*r - 4*a1*k*m12 + 4*a1*k*m21 - 2*a1*k*r + a1*sqrt(r*(a1**2*r - 4*a1*k*m12 + 4*a1*k*m21 - 2*a1*k*r + k**2*r)) + k**2*r + k*sqrt(r*(a1**2*r - 4*a1*k*m12 + 4*a1*k*m21 - 2*a1*k*r + k**2*r)))/(2*a1*k),                                                                                                                                                                                                          0],\n",
       "[                                                                                                                                                                                                         0, -(a2**2*r - 4*a2*k*m12 + 4*a2*k*m21 - 2*a2*k*r + a2*sqrt(r*(a2**2*r - 4*a2*k*m12 + 4*a2*k*m21 - 2*a2*k*r + k**2*r)) + k**2*r + k*sqrt(r*(a2**2*r - 4*a2*k*m12 + 4*a2*k*m21 - 2*a2*k*r + k**2*r)))/(2*a2*k)]])"
      ]
     },
     "metadata": {},
     "output_type": "display_data"
    }
   ],
   "source": [
    "#Caculating the Jacobian for each of the equilibrium values. \n",
    "for i in eq_list: \n",
    "    Jac = simplify(Jacobian.subs({x(t) : i[0], y(t) : i[1]}))\n",
    "    display(Jac)\n",
    "    "
   ]
  },
  {
   "cell_type": "code",
   "execution_count": 62,
   "metadata": {},
   "outputs": [
    {
     "ename": "SyntaxError",
     "evalue": "can't assign to literal (<ipython-input-62-0bfc8f64e66e>, line 2)",
     "output_type": "error",
     "traceback": [
      "\u001b[1;36m  File \u001b[1;32m\"<ipython-input-62-0bfc8f64e66e>\"\u001b[1;36m, line \u001b[1;32m2\u001b[0m\n\u001b[1;33m    0 = r * ((x(t)/a1) - 1) * ((1 - (x(t)/k1)) * x(t)) - (m12 * x(t)) + (m21 * x(t))\u001b[0m\n\u001b[1;37m                                                                                    ^\u001b[0m\n\u001b[1;31mSyntaxError\u001b[0m\u001b[1;31m:\u001b[0m can't assign to literal\n"
     ]
    }
   ],
   "source": [
    "\n",
    "#Finding and plotting nullclines (or trying to!)\n",
    "0 = r * ((x(t)/a1) - 1) * ((1 - (x(t)/k1)) * x(t)) - (m12 * x(t)) + (m21 * x(t))\n",
    "0 = r * ((y(t)/a2) - 1) * (1 - (y(t)/k2)) * y(t) - (m12 * y(t)) + (m21 * y(t))\n",
    "\n",
    "plt.plot(x(t),y(t))"
   ]
  }
 ],
 "metadata": {
  "kernelspec": {
   "display_name": "Python 3",
   "language": "python",
   "name": "python3"
  },
  "language_info": {
   "codemirror_mode": {
    "name": "ipython",
    "version": 3
   },
   "file_extension": ".py",
   "mimetype": "text/x-python",
   "name": "python",
   "nbconvert_exporter": "python",
   "pygments_lexer": "ipython3",
   "version": "3.10.9"
  }
 },
 "nbformat": 4,
 "nbformat_minor": 4
}
