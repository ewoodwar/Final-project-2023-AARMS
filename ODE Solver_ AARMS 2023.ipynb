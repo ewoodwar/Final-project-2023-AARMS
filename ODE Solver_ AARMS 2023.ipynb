{
 "cells": [
  {
   "cell_type": "code",
   "execution_count": 64,
   "metadata": {},
   "outputs": [
    {
     "data": {
      "text/plain": [
       "[Eq(x(t), Piecewise((C1*Piecewise((-m12/2 - m21/2 + sqrt(-4*m12*m21 + (-m12 - m21)**2)/2, Eq(m21, 0) & Eq(m12 + r, m12/2 - m21/2 + r - sqrt(-4*m12*m21 + (-m12 - m21)**2)/2)), (m21, True))*exp(t*(-m12/2 + m21/2 - r + sqrt(-4*m12*m21 + (-m12 - m21)**2)/2)) + C2*Piecewise((-m12/2 - m21/2 - sqrt(-4*m12*m21 + (-m12 - m21)**2)/2, Eq(m21, 0) & Eq(m12 + r, m12/2 - m21/2 + r + sqrt(-4*m12*m21 + (-m12 - m21)**2)/2)), (m21, True))*exp(t*(-m12/2 + m21/2 - r - sqrt(-4*m12*m21 + (-m12 - m21)**2)/2)), Ne(m12**2 - 2*m12*m21 + m21**2, 0)), (C1*exp(t*(-m12/2 + m21/2 - r + sqrt(-4*m12*m21 + (-m12 - m21)**2)/2)), Eq(m12, 0) & Eq(m21, 0) & Eq(m12 + r, -m21 + r)), ((C1*Piecewise((-m12/2 - m21/2 + sqrt(-4*m12*m21 + (-m12 - m21)**2)/2, Eq(m21, 0) & Eq(m12 + r, m12/2 - m21/2 + r - sqrt(-4*m12*m21 + (-m12 - m21)**2)/2)), (m21, True)) + C2*(t*Piecewise((-m12/2 - m21/2 + sqrt(-4*m12*m21 + (-m12 - m21)**2)/2, Eq(m21, 0) & Eq(m12 + r, m12/2 - m21/2 + r - sqrt(-4*m12*m21 + (-m12 - m21)**2)/2)), (m21, True)) + Piecewise((1, Eq(m21, 0) & Eq(m12 + r, m12/2 - m21/2 + r - sqrt(-4*m12*m21 + (-m12 - m21)**2)/2)), (0, Eq(m12 + r, m12/2 - m21/2 + r - sqrt(-4*m12*m21 + (-m12 - m21)**2)/2)), (m21/(-m12/2 - m21/2 - sqrt(-4*m12*m21 + (-m12 - m21)**2)/2), True))))*exp(t*(-m12/2 + m21/2 - r + sqrt(-4*m12*m21 + (-m12 - m21)**2)/2)), True))),\n",
       " Eq(y(t), Piecewise((C1*Piecewise((-m12, Eq(m21, 0) & Eq(m12 + r, m12/2 - m21/2 + r - sqrt(-4*m12*m21 + (-m12 - m21)**2)/2)), (m12/2 + m21/2 + sqrt(-4*m12*m21 + (-m12 - m21)**2)/2, True))*exp(t*(-m12/2 + m21/2 - r + sqrt(-4*m12*m21 + (-m12 - m21)**2)/2)) + C2*Piecewise((-m12, Eq(m21, 0) & Eq(m12 + r, m12/2 - m21/2 + r + sqrt(-4*m12*m21 + (-m12 - m21)**2)/2)), (m12/2 + m21/2 - sqrt(-4*m12*m21 + (-m12 - m21)**2)/2, True))*exp(t*(-m12/2 + m21/2 - r - sqrt(-4*m12*m21 + (-m12 - m21)**2)/2)), Ne(m12**2 - 2*m12*m21 + m21**2, 0)), (C2*exp(t*(-m12/2 + m21/2 - r + sqrt(-4*m12*m21 + (-m12 - m21)**2)/2)), Eq(m12, 0) & Eq(m21, 0) & Eq(m12 + r, -m21 + r)), ((C1*Piecewise((-m12, Eq(m21, 0) & Eq(m12 + r, m12/2 - m21/2 + r - sqrt(-4*m12*m21 + (-m12 - m21)**2)/2)), (m12/2 + m21/2 + sqrt(-4*m12*m21 + (-m12 - m21)**2)/2, True)) + C2*(t*Piecewise((-m12, Eq(m21, 0) & Eq(m12 + r, m12/2 - m21/2 + r - sqrt(-4*m12*m21 + (-m12 - m21)**2)/2)), (m12/2 + m21/2 + sqrt(-4*m12*m21 + (-m12 - m21)**2)/2, True)) + Piecewise((0, Eq(m21, 0) & Eq(m12 + r, m12/2 - m21/2 + r - sqrt(-4*m12*m21 + (-m12 - m21)**2)/2)), (1, Eq(m12 + r, m12/2 - m21/2 + r - sqrt(-4*m12*m21 + (-m12 - m21)**2)/2)), (0, True))))*exp(t*(-m12/2 + m21/2 - r + sqrt(-4*m12*m21 + (-m12 - m21)**2)/2)), True)))]"
      ]
     },
     "metadata": {},
     "output_type": "display_data"
    }
   ],
   "source": [
    "from sympy import *\n",
    "import numpy as np\n",
    "import matplotlib.pyplot as plt\n",
    "\n",
    "t, r, k, a1, a2, m12, m21,  = symbols(\"t, r, k, a1, a2, m12, m21\")\n",
    "x = Function(\"x\")\n",
    "y = Function(\"y\")\n",
    "\n",
    "#Differential Equation 01, including:\n",
    "# r = positive growth rate\n",
    "# k1, k2 = Carrying Capacity of Patch 1 and Patch 2 respectively \n",
    "# a1 = percentage decrease due to human induced Allee Effects in patch 1\n",
    "# a2 = percentage decrease due to environmental Allee Effects in patch 2\n",
    "# m12, m21 = Migration from Patch 1 to 2 and 2 to 1 respectively\n",
    "\n",
    "Patch_1 = Eq(diff(x(t), t), r * ((x(t)/a1) - 1) * ((1 - (x(t)/k)) * x(t)) - (m12 * x(t)) + (m21 * y(t)))\n",
    "\n",
    "Patch_2 = Eq(diff(y(t), t), r * ((y(t)/a2) - 1) * (1 - (y(t)/k)) * y(t) - (m12 * x(t)) + (m21 * y(t)))\n",
    "\n",
    "\n",
    "solution= dsolve([Patch_1, Patch_2], [x(t), y(t)])\n",
    "display(solution)\n",
    "\n"
   ]
  },
  {
   "cell_type": "code",
   "execution_count": 65,
   "metadata": {},
   "outputs": [
    {
     "data": {
      "text/latex": [
       "$\\displaystyle \\left\\{\\left( 0, \\  0\\right), \\left( 0, \\  \\frac{a_{2}}{2} + \\frac{k}{2} - \\frac{\\sqrt{r \\left(a_{2}^{2} r - 4 a_{2} k m_{12} + 4 a_{2} k m_{21} - 2 a_{2} k r + k^{2} r\\right)}}{2 r}\\right), \\left( 0, \\  \\frac{a_{2}}{2} + \\frac{k}{2} + \\frac{\\sqrt{r \\left(a_{2}^{2} r - 4 a_{2} k m_{12} + 4 a_{2} k m_{21} - 2 a_{2} k r + k^{2} r\\right)}}{2 r}\\right), \\left( \\frac{a_{1}}{2} + \\frac{k}{2} - \\frac{\\sqrt{r \\left(a_{1}^{2} r - 4 a_{1} k m_{12} + 4 a_{1} k m_{21} - 2 a_{1} k r + k^{2} r\\right)}}{2 r}, \\  0\\right), \\left( \\frac{a_{1}}{2} + \\frac{k}{2} - \\frac{\\sqrt{r \\left(a_{1}^{2} r - 4 a_{1} k m_{12} + 4 a_{1} k m_{21} - 2 a_{1} k r + k^{2} r\\right)}}{2 r}, \\  \\frac{a_{2}}{2} + \\frac{k}{2} - \\frac{\\sqrt{r \\left(a_{2}^{2} r - 4 a_{2} k m_{12} + 4 a_{2} k m_{21} - 2 a_{2} k r + k^{2} r\\right)}}{2 r}\\right), \\left( \\frac{a_{1}}{2} + \\frac{k}{2} - \\frac{\\sqrt{r \\left(a_{1}^{2} r - 4 a_{1} k m_{12} + 4 a_{1} k m_{21} - 2 a_{1} k r + k^{2} r\\right)}}{2 r}, \\  \\frac{a_{2}}{2} + \\frac{k}{2} + \\frac{\\sqrt{r \\left(a_{2}^{2} r - 4 a_{2} k m_{12} + 4 a_{2} k m_{21} - 2 a_{2} k r + k^{2} r\\right)}}{2 r}\\right), \\left( \\frac{a_{1}}{2} + \\frac{k}{2} + \\frac{\\sqrt{r \\left(a_{1}^{2} r - 4 a_{1} k m_{12} + 4 a_{1} k m_{21} - 2 a_{1} k r + k^{2} r\\right)}}{2 r}, \\  0\\right), \\left( \\frac{a_{1}}{2} + \\frac{k}{2} + \\frac{\\sqrt{r \\left(a_{1}^{2} r - 4 a_{1} k m_{12} + 4 a_{1} k m_{21} - 2 a_{1} k r + k^{2} r\\right)}}{2 r}, \\  \\frac{a_{2}}{2} + \\frac{k}{2} - \\frac{\\sqrt{r \\left(a_{2}^{2} r - 4 a_{2} k m_{12} + 4 a_{2} k m_{21} - 2 a_{2} k r + k^{2} r\\right)}}{2 r}\\right), \\left( \\frac{a_{1}}{2} + \\frac{k}{2} + \\frac{\\sqrt{r \\left(a_{1}^{2} r - 4 a_{1} k m_{12} + 4 a_{1} k m_{21} - 2 a_{1} k r + k^{2} r\\right)}}{2 r}, \\  \\frac{a_{2}}{2} + \\frac{k}{2} + \\frac{\\sqrt{r \\left(a_{2}^{2} r - 4 a_{2} k m_{12} + 4 a_{2} k m_{21} - 2 a_{2} k r + k^{2} r\\right)}}{2 r}\\right)\\right\\}$"
      ],
      "text/plain": [
       "FiniteSet((0, 0), (0, a2/2 + k/2 - sqrt(r*(a2**2*r - 4*a2*k*m12 + 4*a2*k*m21 - 2*a2*k*r + k**2*r))/(2*r)), (0, a2/2 + k/2 + sqrt(r*(a2**2*r - 4*a2*k*m12 + 4*a2*k*m21 - 2*a2*k*r + k**2*r))/(2*r)), (a1/2 + k/2 - sqrt(r*(a1**2*r - 4*a1*k*m12 + 4*a1*k*m21 - 2*a1*k*r + k**2*r))/(2*r), 0), (a1/2 + k/2 + sqrt(r*(a1**2*r - 4*a1*k*m12 + 4*a1*k*m21 - 2*a1*k*r + k**2*r))/(2*r), 0), (a1/2 + k/2 - sqrt(r*(a1**2*r - 4*a1*k*m12 + 4*a1*k*m21 - 2*a1*k*r + k**2*r))/(2*r), a2/2 + k/2 - sqrt(r*(a2**2*r - 4*a2*k*m12 + 4*a2*k*m21 - 2*a2*k*r + k**2*r))/(2*r)), (a1/2 + k/2 - sqrt(r*(a1**2*r - 4*a1*k*m12 + 4*a1*k*m21 - 2*a1*k*r + k**2*r))/(2*r), a2/2 + k/2 + sqrt(r*(a2**2*r - 4*a2*k*m12 + 4*a2*k*m21 - 2*a2*k*r + k**2*r))/(2*r)), (a1/2 + k/2 + sqrt(r*(a1**2*r - 4*a1*k*m12 + 4*a1*k*m21 - 2*a1*k*r + k**2*r))/(2*r), a2/2 + k/2 - sqrt(r*(a2**2*r - 4*a2*k*m12 + 4*a2*k*m21 - 2*a2*k*r + k**2*r))/(2*r)), (a1/2 + k/2 + sqrt(r*(a1**2*r - 4*a1*k*m12 + 4*a1*k*m21 - 2*a1*k*r + k**2*r))/(2*r), a2/2 + k/2 + sqrt(r*(a2**2*r - 4*a2*k*m12 + 4*a2*k*m21 - 2*a2*k*r + k**2*r))/(2*r)))"
      ]
     },
     "metadata": {},
     "output_type": "display_data"
    }
   ],
   "source": [
    "#Two Patch Coupled System of ODEs\n",
    "DS1 = r * ((x(t)/a1) - 1) * ((1 - (x(t)/k)) * x(t)) - (m12 * x(t)) + (m21 * x(t))\n",
    "DS2 = r * ((y(t)/a2) - 1) * (1 - (y(t)/k)) * y(t) - (m12 * y(t)) + (m21 * y(t))\n",
    "\n",
    "#Finding the Equilibrium Values\n",
    "Equilibrium= nonlinsolve([DS1,DS2], [x(t), y(t)])\n",
    "display(Equilibrium)\n",
    "\n",
    "eq_list = list(Equilibrium)"
   ]
  },
  {
   "cell_type": "code",
   "execution_count": 55,
   "metadata": {},
   "outputs": [
    {
     "name": "stdout",
     "output_type": "stream",
     "text": [
      "(0, 0)\n"
     ]
    }
   ],
   "source": [
    "Eq1 = eq_list[0]\n",
    "print(Eq1)\n",
    "\n"
   ]
  },
  {
   "attachments": {},
   "cell_type": "markdown",
   "metadata": {},
   "source": [
    "'''\n",
    "#Example case for equilibrium values with \"random\" parameters\n",
    "k=1\n",
    "r=1\n",
    "a1=10\n",
    "a2=10\n",
    "m12=0.6\n",
    "m21=0.02\n",
    "\n",
    "DS_1 = r * ((x(t)/a1) - 1) * ((1 - (x(t)/k)) * x(t)) - (m12 * x(t)) + (m21 * x(t))\n",
    "DS_2 = r * ((y(t)/a2) - 1) * (1 - (y(t)/k)) * y(t) - (m12 * y(t)) + (m21 * y(t))\n",
    "\n",
    "\n",
    "Equilibrium= nonlinsolve([DS_1,DS_2], [x(t), y(t)])\n",
    "\n",
    "Equilibrium_Values=list(Equilibrium)\n",
    "#print(Equilibrium_Values)\n",
    "#type(Equilibrium_Values)\n",
    "\n",
    "x_val = (list(zip(*Equilibrium_Values))[0])\n",
    "y_val = (list(zip(*Equilibrium_Values))[1])\n",
    "\n",
    "scatter(x_val, y_val)\n",
    "\n"
   ]
  },
  {
   "cell_type": "code",
   "execution_count": 58,
   "metadata": {},
   "outputs": [
    {
     "data": {
      "text/latex": [
       "$\\displaystyle \\left[\\begin{matrix}- m_{12} + m_{21} + r \\left(-1 + \\frac{x{\\left(t \\right)}}{a_{1}}\\right) \\left(1 - \\frac{x{\\left(t \\right)}}{k}\\right) - \\frac{r \\left(-1 + \\frac{x{\\left(t \\right)}}{a_{1}}\\right) x{\\left(t \\right)}}{k} + \\frac{r \\left(1 - \\frac{x{\\left(t \\right)}}{k}\\right) x{\\left(t \\right)}}{a_{1}} & 0\\\\0 & - m_{12} + m_{21} + r \\left(-1 + \\frac{y{\\left(t \\right)}}{a_{2}}\\right) \\left(1 - \\frac{y{\\left(t \\right)}}{k}\\right) - \\frac{r \\left(-1 + \\frac{y{\\left(t \\right)}}{a_{2}}\\right) y{\\left(t \\right)}}{k} + \\frac{r \\left(1 - \\frac{y{\\left(t \\right)}}{k}\\right) y{\\left(t \\right)}}{a_{2}}\\end{matrix}\\right]$"
      ],
      "text/plain": [
       "Matrix([\n",
       "[-m12 + m21 + r*(-1 + x(t)/a1)*(1 - x(t)/k) - r*(-1 + x(t)/a1)*x(t)/k + r*(1 - x(t)/k)*x(t)/a1,                                                                                             0],\n",
       "[                                                                                            0, -m12 + m21 + r*(-1 + y(t)/a2)*(1 - y(t)/k) - r*(-1 + y(t)/a2)*y(t)/k + r*(1 - y(t)/k)*y(t)/a2]])"
      ]
     },
     "execution_count": 58,
     "metadata": {},
     "output_type": "execute_result"
    }
   ],
   "source": [
    "#Finding the Jacobian \n",
    "Jacobian = Matrix(\n",
    "    [\n",
    "    [diff(DS1, x(t)), diff(DS1, y(t))], \n",
    "    [diff(DS2, x(t)), diff(DS2, y(t))]\n",
    "    ])\n",
    "Jacobian\n"
   ]
  },
  {
   "cell_type": "code",
   "execution_count": 59,
   "metadata": {},
   "outputs": [
    {
     "data": {
      "text/latex": [
       "$\\displaystyle \\left[\\begin{matrix}- m_{12} + m_{21} - r & 0\\\\0 & - m_{12} + m_{21} - r\\end{matrix}\\right]$"
      ],
      "text/plain": [
       "Matrix([\n",
       "[-m12 + m21 - r,              0],\n",
       "[             0, -m12 + m21 - r]])"
      ]
     },
     "execution_count": 59,
     "metadata": {},
     "output_type": "execute_result"
    }
   ],
   "source": [
    "#Jacobian matrix with (0,0) substituted in\n",
    "Jac_1 = simplify(Jacobian.subs({x(t) : eq_list[0][0], y(t) : eq_list[0][1]}))\n",
    "Jac_1"
   ]
  },
  {
   "cell_type": "code",
   "execution_count": 60,
   "metadata": {},
   "outputs": [
    {
     "data": {
      "text/latex": [
       "$\\displaystyle \\left[\\begin{matrix}- m_{12} + m_{21} - r & 0\\\\0 & - m_{12} + m_{21} - r\\end{matrix}\\right]$"
      ],
      "text/plain": [
       "Matrix([\n",
       "[-m12 + m21 - r,              0],\n",
       "[             0, -m12 + m21 - r]])"
      ]
     },
     "metadata": {},
     "output_type": "display_data"
    },
    {
     "data": {
      "text/latex": [
       "$\\displaystyle \\left[\\begin{matrix}- m_{12} + m_{21} - r & 0\\\\0 & \\frac{- a_{2}^{2} r + 4 a_{2} k m_{12} - 4 a_{2} k m_{21} + 2 a_{2} k r + a_{2} \\sqrt{r \\left(a_{2}^{2} r - 4 a_{2} k m_{12} + 4 a_{2} k m_{21} - 2 a_{2} k r + k^{2} r\\right)} - k^{2} r + k \\sqrt{r \\left(a_{2}^{2} r - 4 a_{2} k m_{12} + 4 a_{2} k m_{21} - 2 a_{2} k r + k^{2} r\\right)}}{2 a_{2} k}\\end{matrix}\\right]$"
      ],
      "text/plain": [
       "Matrix([\n",
       "[-m12 + m21 - r,                                                                                                                                                                                                          0],\n",
       "[             0, (-a2**2*r + 4*a2*k*m12 - 4*a2*k*m21 + 2*a2*k*r + a2*sqrt(r*(a2**2*r - 4*a2*k*m12 + 4*a2*k*m21 - 2*a2*k*r + k**2*r)) - k**2*r + k*sqrt(r*(a2**2*r - 4*a2*k*m12 + 4*a2*k*m21 - 2*a2*k*r + k**2*r)))/(2*a2*k)]])"
      ]
     },
     "metadata": {},
     "output_type": "display_data"
    },
    {
     "data": {
      "text/latex": [
       "$\\displaystyle \\left[\\begin{matrix}- m_{12} + m_{21} - r & 0\\\\0 & - \\frac{a_{2}^{2} r - 4 a_{2} k m_{12} + 4 a_{2} k m_{21} - 2 a_{2} k r + a_{2} \\sqrt{r \\left(a_{2}^{2} r - 4 a_{2} k m_{12} + 4 a_{2} k m_{21} - 2 a_{2} k r + k^{2} r\\right)} + k^{2} r + k \\sqrt{r \\left(a_{2}^{2} r - 4 a_{2} k m_{12} + 4 a_{2} k m_{21} - 2 a_{2} k r + k^{2} r\\right)}}{2 a_{2} k}\\end{matrix}\\right]$"
      ],
      "text/plain": [
       "Matrix([\n",
       "[-m12 + m21 - r,                                                                                                                                                                                                          0],\n",
       "[             0, -(a2**2*r - 4*a2*k*m12 + 4*a2*k*m21 - 2*a2*k*r + a2*sqrt(r*(a2**2*r - 4*a2*k*m12 + 4*a2*k*m21 - 2*a2*k*r + k**2*r)) + k**2*r + k*sqrt(r*(a2**2*r - 4*a2*k*m12 + 4*a2*k*m21 - 2*a2*k*r + k**2*r)))/(2*a2*k)]])"
      ]
     },
     "metadata": {},
     "output_type": "display_data"
    },
    {
     "data": {
      "text/latex": [
       "$\\displaystyle \\left[\\begin{matrix}\\frac{- a_{1}^{2} r + 4 a_{1} k m_{12} - 4 a_{1} k m_{21} + 2 a_{1} k r + a_{1} \\sqrt{r \\left(a_{1}^{2} r - 4 a_{1} k m_{12} + 4 a_{1} k m_{21} - 2 a_{1} k r + k^{2} r\\right)} - k^{2} r + k \\sqrt{r \\left(a_{1}^{2} r - 4 a_{1} k m_{12} + 4 a_{1} k m_{21} - 2 a_{1} k r + k^{2} r\\right)}}{2 a_{1} k} & 0\\\\0 & - m_{12} + m_{21} - r\\end{matrix}\\right]$"
      ],
      "text/plain": [
       "Matrix([\n",
       "[(-a1**2*r + 4*a1*k*m12 - 4*a1*k*m21 + 2*a1*k*r + a1*sqrt(r*(a1**2*r - 4*a1*k*m12 + 4*a1*k*m21 - 2*a1*k*r + k**2*r)) - k**2*r + k*sqrt(r*(a1**2*r - 4*a1*k*m12 + 4*a1*k*m21 - 2*a1*k*r + k**2*r)))/(2*a1*k),              0],\n",
       "[                                                                                                                                                                                                         0, -m12 + m21 - r]])"
      ]
     },
     "metadata": {},
     "output_type": "display_data"
    },
    {
     "data": {
      "text/latex": [
       "$\\displaystyle \\left[\\begin{matrix}- \\frac{a_{1}^{2} r - 4 a_{1} k m_{12} + 4 a_{1} k m_{21} - 2 a_{1} k r + a_{1} \\sqrt{r \\left(a_{1}^{2} r - 4 a_{1} k m_{12} + 4 a_{1} k m_{21} - 2 a_{1} k r + k^{2} r\\right)} + k^{2} r + k \\sqrt{r \\left(a_{1}^{2} r - 4 a_{1} k m_{12} + 4 a_{1} k m_{21} - 2 a_{1} k r + k^{2} r\\right)}}{2 a_{1} k} & 0\\\\0 & - m_{12} + m_{21} - r\\end{matrix}\\right]$"
      ],
      "text/plain": [
       "Matrix([\n",
       "[-(a1**2*r - 4*a1*k*m12 + 4*a1*k*m21 - 2*a1*k*r + a1*sqrt(r*(a1**2*r - 4*a1*k*m12 + 4*a1*k*m21 - 2*a1*k*r + k**2*r)) + k**2*r + k*sqrt(r*(a1**2*r - 4*a1*k*m12 + 4*a1*k*m21 - 2*a1*k*r + k**2*r)))/(2*a1*k),              0],\n",
       "[                                                                                                                                                                                                         0, -m12 + m21 - r]])"
      ]
     },
     "metadata": {},
     "output_type": "display_data"
    },
    {
     "data": {
      "text/latex": [
       "$\\displaystyle \\left[\\begin{matrix}\\frac{- a_{1}^{2} r + 4 a_{1} k m_{12} - 4 a_{1} k m_{21} + 2 a_{1} k r + a_{1} \\sqrt{r \\left(a_{1}^{2} r - 4 a_{1} k m_{12} + 4 a_{1} k m_{21} - 2 a_{1} k r + k^{2} r\\right)} - k^{2} r + k \\sqrt{r \\left(a_{1}^{2} r - 4 a_{1} k m_{12} + 4 a_{1} k m_{21} - 2 a_{1} k r + k^{2} r\\right)}}{2 a_{1} k} & 0\\\\0 & \\frac{- a_{2}^{2} r + 4 a_{2} k m_{12} - 4 a_{2} k m_{21} + 2 a_{2} k r + a_{2} \\sqrt{r \\left(a_{2}^{2} r - 4 a_{2} k m_{12} + 4 a_{2} k m_{21} - 2 a_{2} k r + k^{2} r\\right)} - k^{2} r + k \\sqrt{r \\left(a_{2}^{2} r - 4 a_{2} k m_{12} + 4 a_{2} k m_{21} - 2 a_{2} k r + k^{2} r\\right)}}{2 a_{2} k}\\end{matrix}\\right]$"
      ],
      "text/plain": [
       "Matrix([\n",
       "[(-a1**2*r + 4*a1*k*m12 - 4*a1*k*m21 + 2*a1*k*r + a1*sqrt(r*(a1**2*r - 4*a1*k*m12 + 4*a1*k*m21 - 2*a1*k*r + k**2*r)) - k**2*r + k*sqrt(r*(a1**2*r - 4*a1*k*m12 + 4*a1*k*m21 - 2*a1*k*r + k**2*r)))/(2*a1*k),                                                                                                                                                                                                          0],\n",
       "[                                                                                                                                                                                                         0, (-a2**2*r + 4*a2*k*m12 - 4*a2*k*m21 + 2*a2*k*r + a2*sqrt(r*(a2**2*r - 4*a2*k*m12 + 4*a2*k*m21 - 2*a2*k*r + k**2*r)) - k**2*r + k*sqrt(r*(a2**2*r - 4*a2*k*m12 + 4*a2*k*m21 - 2*a2*k*r + k**2*r)))/(2*a2*k)]])"
      ]
     },
     "metadata": {},
     "output_type": "display_data"
    },
    {
     "data": {
      "text/latex": [
       "$\\displaystyle \\left[\\begin{matrix}\\frac{- a_{1}^{2} r + 4 a_{1} k m_{12} - 4 a_{1} k m_{21} + 2 a_{1} k r + a_{1} \\sqrt{r \\left(a_{1}^{2} r - 4 a_{1} k m_{12} + 4 a_{1} k m_{21} - 2 a_{1} k r + k^{2} r\\right)} - k^{2} r + k \\sqrt{r \\left(a_{1}^{2} r - 4 a_{1} k m_{12} + 4 a_{1} k m_{21} - 2 a_{1} k r + k^{2} r\\right)}}{2 a_{1} k} & 0\\\\0 & - \\frac{a_{2}^{2} r - 4 a_{2} k m_{12} + 4 a_{2} k m_{21} - 2 a_{2} k r + a_{2} \\sqrt{r \\left(a_{2}^{2} r - 4 a_{2} k m_{12} + 4 a_{2} k m_{21} - 2 a_{2} k r + k^{2} r\\right)} + k^{2} r + k \\sqrt{r \\left(a_{2}^{2} r - 4 a_{2} k m_{12} + 4 a_{2} k m_{21} - 2 a_{2} k r + k^{2} r\\right)}}{2 a_{2} k}\\end{matrix}\\right]$"
      ],
      "text/plain": [
       "Matrix([\n",
       "[(-a1**2*r + 4*a1*k*m12 - 4*a1*k*m21 + 2*a1*k*r + a1*sqrt(r*(a1**2*r - 4*a1*k*m12 + 4*a1*k*m21 - 2*a1*k*r + k**2*r)) - k**2*r + k*sqrt(r*(a1**2*r - 4*a1*k*m12 + 4*a1*k*m21 - 2*a1*k*r + k**2*r)))/(2*a1*k),                                                                                                                                                                                                          0],\n",
       "[                                                                                                                                                                                                         0, -(a2**2*r - 4*a2*k*m12 + 4*a2*k*m21 - 2*a2*k*r + a2*sqrt(r*(a2**2*r - 4*a2*k*m12 + 4*a2*k*m21 - 2*a2*k*r + k**2*r)) + k**2*r + k*sqrt(r*(a2**2*r - 4*a2*k*m12 + 4*a2*k*m21 - 2*a2*k*r + k**2*r)))/(2*a2*k)]])"
      ]
     },
     "metadata": {},
     "output_type": "display_data"
    },
    {
     "data": {
      "text/latex": [
       "$\\displaystyle \\left[\\begin{matrix}- \\frac{a_{1}^{2} r - 4 a_{1} k m_{12} + 4 a_{1} k m_{21} - 2 a_{1} k r + a_{1} \\sqrt{r \\left(a_{1}^{2} r - 4 a_{1} k m_{12} + 4 a_{1} k m_{21} - 2 a_{1} k r + k^{2} r\\right)} + k^{2} r + k \\sqrt{r \\left(a_{1}^{2} r - 4 a_{1} k m_{12} + 4 a_{1} k m_{21} - 2 a_{1} k r + k^{2} r\\right)}}{2 a_{1} k} & 0\\\\0 & \\frac{- a_{2}^{2} r + 4 a_{2} k m_{12} - 4 a_{2} k m_{21} + 2 a_{2} k r + a_{2} \\sqrt{r \\left(a_{2}^{2} r - 4 a_{2} k m_{12} + 4 a_{2} k m_{21} - 2 a_{2} k r + k^{2} r\\right)} - k^{2} r + k \\sqrt{r \\left(a_{2}^{2} r - 4 a_{2} k m_{12} + 4 a_{2} k m_{21} - 2 a_{2} k r + k^{2} r\\right)}}{2 a_{2} k}\\end{matrix}\\right]$"
      ],
      "text/plain": [
       "Matrix([\n",
       "[-(a1**2*r - 4*a1*k*m12 + 4*a1*k*m21 - 2*a1*k*r + a1*sqrt(r*(a1**2*r - 4*a1*k*m12 + 4*a1*k*m21 - 2*a1*k*r + k**2*r)) + k**2*r + k*sqrt(r*(a1**2*r - 4*a1*k*m12 + 4*a1*k*m21 - 2*a1*k*r + k**2*r)))/(2*a1*k),                                                                                                                                                                                                          0],\n",
       "[                                                                                                                                                                                                         0, (-a2**2*r + 4*a2*k*m12 - 4*a2*k*m21 + 2*a2*k*r + a2*sqrt(r*(a2**2*r - 4*a2*k*m12 + 4*a2*k*m21 - 2*a2*k*r + k**2*r)) - k**2*r + k*sqrt(r*(a2**2*r - 4*a2*k*m12 + 4*a2*k*m21 - 2*a2*k*r + k**2*r)))/(2*a2*k)]])"
      ]
     },
     "metadata": {},
     "output_type": "display_data"
    },
    {
     "data": {
      "text/latex": [
       "$\\displaystyle \\left[\\begin{matrix}- \\frac{a_{1}^{2} r - 4 a_{1} k m_{12} + 4 a_{1} k m_{21} - 2 a_{1} k r + a_{1} \\sqrt{r \\left(a_{1}^{2} r - 4 a_{1} k m_{12} + 4 a_{1} k m_{21} - 2 a_{1} k r + k^{2} r\\right)} + k^{2} r + k \\sqrt{r \\left(a_{1}^{2} r - 4 a_{1} k m_{12} + 4 a_{1} k m_{21} - 2 a_{1} k r + k^{2} r\\right)}}{2 a_{1} k} & 0\\\\0 & - \\frac{a_{2}^{2} r - 4 a_{2} k m_{12} + 4 a_{2} k m_{21} - 2 a_{2} k r + a_{2} \\sqrt{r \\left(a_{2}^{2} r - 4 a_{2} k m_{12} + 4 a_{2} k m_{21} - 2 a_{2} k r + k^{2} r\\right)} + k^{2} r + k \\sqrt{r \\left(a_{2}^{2} r - 4 a_{2} k m_{12} + 4 a_{2} k m_{21} - 2 a_{2} k r + k^{2} r\\right)}}{2 a_{2} k}\\end{matrix}\\right]$"
      ],
      "text/plain": [
       "Matrix([\n",
       "[-(a1**2*r - 4*a1*k*m12 + 4*a1*k*m21 - 2*a1*k*r + a1*sqrt(r*(a1**2*r - 4*a1*k*m12 + 4*a1*k*m21 - 2*a1*k*r + k**2*r)) + k**2*r + k*sqrt(r*(a1**2*r - 4*a1*k*m12 + 4*a1*k*m21 - 2*a1*k*r + k**2*r)))/(2*a1*k),                                                                                                                                                                                                          0],\n",
       "[                                                                                                                                                                                                         0, -(a2**2*r - 4*a2*k*m12 + 4*a2*k*m21 - 2*a2*k*r + a2*sqrt(r*(a2**2*r - 4*a2*k*m12 + 4*a2*k*m21 - 2*a2*k*r + k**2*r)) + k**2*r + k*sqrt(r*(a2**2*r - 4*a2*k*m12 + 4*a2*k*m21 - 2*a2*k*r + k**2*r)))/(2*a2*k)]])"
      ]
     },
     "metadata": {},
     "output_type": "display_data"
    }
   ],
   "source": [
    "#Caculating the Jacobian for each of the equilibrium values. \n",
    "for i in eq_list: \n",
    "    Jac = simplify(Jacobian.subs({x(t) : i[0], y(t) : i[1]}))\n",
    "    display(Jac)\n",
    "    "
   ]
  },
  {
   "cell_type": "code",
   "execution_count": 70,
   "metadata": {},
   "outputs": [
    {
     "name": "stdout",
     "output_type": "stream",
     "text": [
      "-m12*x(t) + m21*x(t) + r*(-1 + x(t)/a1)*(1 - x(t)/k)*x(t)\n",
      "-m12*y(t) + m21*y(t) + r*(-1 + y(t)/a2)*(1 - y(t)/k2)*y(t)\n"
     ]
    },
    {
     "ename": "TypeError",
     "evalue": "can't convert expression to float",
     "output_type": "error",
     "traceback": [
      "\u001b[1;31m---------------------------------------------------------------------------\u001b[0m",
      "\u001b[1;31mTypeError\u001b[0m                                 Traceback (most recent call last)",
      "\u001b[1;32m<ipython-input-70-f7aa17533b21>\u001b[0m in \u001b[0;36m<module>\u001b[1;34m\u001b[0m\n\u001b[0;32m     14\u001b[0m \u001b[0mm12\u001b[0m\u001b[1;33m=\u001b[0m\u001b[1;36m1\u001b[0m\u001b[1;33m\u001b[0m\u001b[1;33m\u001b[0m\u001b[0m\n\u001b[0;32m     15\u001b[0m \u001b[0mm21\u001b[0m\u001b[1;33m=\u001b[0m\u001b[1;36m1\u001b[0m\u001b[1;33m\u001b[0m\u001b[1;33m\u001b[0m\u001b[0m\n\u001b[1;32m---> 16\u001b[1;33m \u001b[0mplt\u001b[0m\u001b[1;33m.\u001b[0m\u001b[0mplot\u001b[0m\u001b[1;33m(\u001b[0m\u001b[0mnull_1\u001b[0m\u001b[1;33m,\u001b[0m\u001b[0mnull_2\u001b[0m\u001b[1;33m)\u001b[0m\u001b[1;33m\u001b[0m\u001b[1;33m\u001b[0m\u001b[0m\n\u001b[0m",
      "\u001b[1;32mc:\\Users\\Elise\\anaconda3\\lib\\site-packages\\matplotlib\\pyplot.py\u001b[0m in \u001b[0;36mplot\u001b[1;34m(scalex, scaley, data, *args, **kwargs)\u001b[0m\n\u001b[0;32m   2794\u001b[0m     return gca().plot(\n\u001b[0;32m   2795\u001b[0m         *args, scalex=scalex, scaley=scaley, **({\"data\": data} if data\n\u001b[1;32m-> 2796\u001b[1;33m         is not None else {}), **kwargs)\n\u001b[0m\u001b[0;32m   2797\u001b[0m \u001b[1;33m\u001b[0m\u001b[0m\n\u001b[0;32m   2798\u001b[0m \u001b[1;33m\u001b[0m\u001b[0m\n",
      "\u001b[1;32mc:\\Users\\Elise\\anaconda3\\lib\\site-packages\\matplotlib\\axes\\_axes.py\u001b[0m in \u001b[0;36mplot\u001b[1;34m(self, scalex, scaley, data, *args, **kwargs)\u001b[0m\n\u001b[0;32m   1665\u001b[0m         \u001b[0mlines\u001b[0m \u001b[1;33m=\u001b[0m \u001b[1;33m[\u001b[0m\u001b[1;33m*\u001b[0m\u001b[0mself\u001b[0m\u001b[1;33m.\u001b[0m\u001b[0m_get_lines\u001b[0m\u001b[1;33m(\u001b[0m\u001b[1;33m*\u001b[0m\u001b[0margs\u001b[0m\u001b[1;33m,\u001b[0m \u001b[0mdata\u001b[0m\u001b[1;33m=\u001b[0m\u001b[0mdata\u001b[0m\u001b[1;33m,\u001b[0m \u001b[1;33m**\u001b[0m\u001b[0mkwargs\u001b[0m\u001b[1;33m)\u001b[0m\u001b[1;33m]\u001b[0m\u001b[1;33m\u001b[0m\u001b[1;33m\u001b[0m\u001b[0m\n\u001b[0;32m   1666\u001b[0m         \u001b[1;32mfor\u001b[0m \u001b[0mline\u001b[0m \u001b[1;32min\u001b[0m \u001b[0mlines\u001b[0m\u001b[1;33m:\u001b[0m\u001b[1;33m\u001b[0m\u001b[1;33m\u001b[0m\u001b[0m\n\u001b[1;32m-> 1667\u001b[1;33m             \u001b[0mself\u001b[0m\u001b[1;33m.\u001b[0m\u001b[0madd_line\u001b[0m\u001b[1;33m(\u001b[0m\u001b[0mline\u001b[0m\u001b[1;33m)\u001b[0m\u001b[1;33m\u001b[0m\u001b[1;33m\u001b[0m\u001b[0m\n\u001b[0m\u001b[0;32m   1668\u001b[0m         \u001b[0mself\u001b[0m\u001b[1;33m.\u001b[0m\u001b[0mautoscale_view\u001b[0m\u001b[1;33m(\u001b[0m\u001b[0mscalex\u001b[0m\u001b[1;33m=\u001b[0m\u001b[0mscalex\u001b[0m\u001b[1;33m,\u001b[0m \u001b[0mscaley\u001b[0m\u001b[1;33m=\u001b[0m\u001b[0mscaley\u001b[0m\u001b[1;33m)\u001b[0m\u001b[1;33m\u001b[0m\u001b[1;33m\u001b[0m\u001b[0m\n\u001b[0;32m   1669\u001b[0m         \u001b[1;32mreturn\u001b[0m \u001b[0mlines\u001b[0m\u001b[1;33m\u001b[0m\u001b[1;33m\u001b[0m\u001b[0m\n",
      "\u001b[1;32mc:\\Users\\Elise\\anaconda3\\lib\\site-packages\\matplotlib\\axes\\_base.py\u001b[0m in \u001b[0;36madd_line\u001b[1;34m(self, line)\u001b[0m\n\u001b[0;32m   1900\u001b[0m             \u001b[0mline\u001b[0m\u001b[1;33m.\u001b[0m\u001b[0mset_clip_path\u001b[0m\u001b[1;33m(\u001b[0m\u001b[0mself\u001b[0m\u001b[1;33m.\u001b[0m\u001b[0mpatch\u001b[0m\u001b[1;33m)\u001b[0m\u001b[1;33m\u001b[0m\u001b[1;33m\u001b[0m\u001b[0m\n\u001b[0;32m   1901\u001b[0m \u001b[1;33m\u001b[0m\u001b[0m\n\u001b[1;32m-> 1902\u001b[1;33m         \u001b[0mself\u001b[0m\u001b[1;33m.\u001b[0m\u001b[0m_update_line_limits\u001b[0m\u001b[1;33m(\u001b[0m\u001b[0mline\u001b[0m\u001b[1;33m)\u001b[0m\u001b[1;33m\u001b[0m\u001b[1;33m\u001b[0m\u001b[0m\n\u001b[0m\u001b[0;32m   1903\u001b[0m         \u001b[1;32mif\u001b[0m \u001b[1;32mnot\u001b[0m \u001b[0mline\u001b[0m\u001b[1;33m.\u001b[0m\u001b[0mget_label\u001b[0m\u001b[1;33m(\u001b[0m\u001b[1;33m)\u001b[0m\u001b[1;33m:\u001b[0m\u001b[1;33m\u001b[0m\u001b[1;33m\u001b[0m\u001b[0m\n\u001b[0;32m   1904\u001b[0m             \u001b[0mline\u001b[0m\u001b[1;33m.\u001b[0m\u001b[0mset_label\u001b[0m\u001b[1;33m(\u001b[0m\u001b[1;34m'_line%d'\u001b[0m \u001b[1;33m%\u001b[0m \u001b[0mlen\u001b[0m\u001b[1;33m(\u001b[0m\u001b[0mself\u001b[0m\u001b[1;33m.\u001b[0m\u001b[0mlines\u001b[0m\u001b[1;33m)\u001b[0m\u001b[1;33m)\u001b[0m\u001b[1;33m\u001b[0m\u001b[1;33m\u001b[0m\u001b[0m\n",
      "\u001b[1;32mc:\\Users\\Elise\\anaconda3\\lib\\site-packages\\matplotlib\\axes\\_base.py\u001b[0m in \u001b[0;36m_update_line_limits\u001b[1;34m(self, line)\u001b[0m\n\u001b[0;32m   1922\u001b[0m         \u001b[0mFigures\u001b[0m \u001b[0mout\u001b[0m \u001b[0mthe\u001b[0m \u001b[0mdata\u001b[0m \u001b[0mlimit\u001b[0m \u001b[0mof\u001b[0m \u001b[0mthe\u001b[0m \u001b[0mgiven\u001b[0m \u001b[0mline\u001b[0m\u001b[1;33m,\u001b[0m \u001b[0mupdating\u001b[0m \u001b[0mself\u001b[0m\u001b[1;33m.\u001b[0m\u001b[0mdataLim\u001b[0m\u001b[1;33m.\u001b[0m\u001b[1;33m\u001b[0m\u001b[1;33m\u001b[0m\u001b[0m\n\u001b[0;32m   1923\u001b[0m         \"\"\"\n\u001b[1;32m-> 1924\u001b[1;33m         \u001b[0mpath\u001b[0m \u001b[1;33m=\u001b[0m \u001b[0mline\u001b[0m\u001b[1;33m.\u001b[0m\u001b[0mget_path\u001b[0m\u001b[1;33m(\u001b[0m\u001b[1;33m)\u001b[0m\u001b[1;33m\u001b[0m\u001b[1;33m\u001b[0m\u001b[0m\n\u001b[0m\u001b[0;32m   1925\u001b[0m         \u001b[1;32mif\u001b[0m \u001b[0mpath\u001b[0m\u001b[1;33m.\u001b[0m\u001b[0mvertices\u001b[0m\u001b[1;33m.\u001b[0m\u001b[0msize\u001b[0m \u001b[1;33m==\u001b[0m \u001b[1;36m0\u001b[0m\u001b[1;33m:\u001b[0m\u001b[1;33m\u001b[0m\u001b[1;33m\u001b[0m\u001b[0m\n\u001b[0;32m   1926\u001b[0m             \u001b[1;32mreturn\u001b[0m\u001b[1;33m\u001b[0m\u001b[1;33m\u001b[0m\u001b[0m\n",
      "\u001b[1;32mc:\\Users\\Elise\\anaconda3\\lib\\site-packages\\matplotlib\\lines.py\u001b[0m in \u001b[0;36mget_path\u001b[1;34m(self)\u001b[0m\n\u001b[0;32m   1025\u001b[0m         \"\"\"\n\u001b[0;32m   1026\u001b[0m         \u001b[1;32mif\u001b[0m \u001b[0mself\u001b[0m\u001b[1;33m.\u001b[0m\u001b[0m_invalidy\u001b[0m \u001b[1;32mor\u001b[0m \u001b[0mself\u001b[0m\u001b[1;33m.\u001b[0m\u001b[0m_invalidx\u001b[0m\u001b[1;33m:\u001b[0m\u001b[1;33m\u001b[0m\u001b[1;33m\u001b[0m\u001b[0m\n\u001b[1;32m-> 1027\u001b[1;33m             \u001b[0mself\u001b[0m\u001b[1;33m.\u001b[0m\u001b[0mrecache\u001b[0m\u001b[1;33m(\u001b[0m\u001b[1;33m)\u001b[0m\u001b[1;33m\u001b[0m\u001b[1;33m\u001b[0m\u001b[0m\n\u001b[0m\u001b[0;32m   1028\u001b[0m         \u001b[1;32mreturn\u001b[0m \u001b[0mself\u001b[0m\u001b[1;33m.\u001b[0m\u001b[0m_path\u001b[0m\u001b[1;33m\u001b[0m\u001b[1;33m\u001b[0m\u001b[0m\n\u001b[0;32m   1029\u001b[0m \u001b[1;33m\u001b[0m\u001b[0m\n",
      "\u001b[1;32mc:\\Users\\Elise\\anaconda3\\lib\\site-packages\\matplotlib\\lines.py\u001b[0m in \u001b[0;36mrecache\u001b[1;34m(self, always)\u001b[0m\n\u001b[0;32m    668\u001b[0m         \u001b[1;32mif\u001b[0m \u001b[0malways\u001b[0m \u001b[1;32mor\u001b[0m \u001b[0mself\u001b[0m\u001b[1;33m.\u001b[0m\u001b[0m_invalidx\u001b[0m\u001b[1;33m:\u001b[0m\u001b[1;33m\u001b[0m\u001b[1;33m\u001b[0m\u001b[0m\n\u001b[0;32m    669\u001b[0m             \u001b[0mxconv\u001b[0m \u001b[1;33m=\u001b[0m \u001b[0mself\u001b[0m\u001b[1;33m.\u001b[0m\u001b[0mconvert_xunits\u001b[0m\u001b[1;33m(\u001b[0m\u001b[0mself\u001b[0m\u001b[1;33m.\u001b[0m\u001b[0m_xorig\u001b[0m\u001b[1;33m)\u001b[0m\u001b[1;33m\u001b[0m\u001b[1;33m\u001b[0m\u001b[0m\n\u001b[1;32m--> 670\u001b[1;33m             \u001b[0mx\u001b[0m \u001b[1;33m=\u001b[0m \u001b[0m_to_unmasked_float_array\u001b[0m\u001b[1;33m(\u001b[0m\u001b[0mxconv\u001b[0m\u001b[1;33m)\u001b[0m\u001b[1;33m.\u001b[0m\u001b[0mravel\u001b[0m\u001b[1;33m(\u001b[0m\u001b[1;33m)\u001b[0m\u001b[1;33m\u001b[0m\u001b[1;33m\u001b[0m\u001b[0m\n\u001b[0m\u001b[0;32m    671\u001b[0m         \u001b[1;32melse\u001b[0m\u001b[1;33m:\u001b[0m\u001b[1;33m\u001b[0m\u001b[1;33m\u001b[0m\u001b[0m\n\u001b[0;32m    672\u001b[0m             \u001b[0mx\u001b[0m \u001b[1;33m=\u001b[0m \u001b[0mself\u001b[0m\u001b[1;33m.\u001b[0m\u001b[0m_x\u001b[0m\u001b[1;33m\u001b[0m\u001b[1;33m\u001b[0m\u001b[0m\n",
      "\u001b[1;32mc:\\Users\\Elise\\anaconda3\\lib\\site-packages\\matplotlib\\cbook\\__init__.py\u001b[0m in \u001b[0;36m_to_unmasked_float_array\u001b[1;34m(x)\u001b[0m\n\u001b[0;32m   1388\u001b[0m         \u001b[1;32mreturn\u001b[0m \u001b[0mnp\u001b[0m\u001b[1;33m.\u001b[0m\u001b[0mma\u001b[0m\u001b[1;33m.\u001b[0m\u001b[0masarray\u001b[0m\u001b[1;33m(\u001b[0m\u001b[0mx\u001b[0m\u001b[1;33m,\u001b[0m \u001b[0mfloat\u001b[0m\u001b[1;33m)\u001b[0m\u001b[1;33m.\u001b[0m\u001b[0mfilled\u001b[0m\u001b[1;33m(\u001b[0m\u001b[0mnp\u001b[0m\u001b[1;33m.\u001b[0m\u001b[0mnan\u001b[0m\u001b[1;33m)\u001b[0m\u001b[1;33m\u001b[0m\u001b[1;33m\u001b[0m\u001b[0m\n\u001b[0;32m   1389\u001b[0m     \u001b[1;32melse\u001b[0m\u001b[1;33m:\u001b[0m\u001b[1;33m\u001b[0m\u001b[1;33m\u001b[0m\u001b[0m\n\u001b[1;32m-> 1390\u001b[1;33m         \u001b[1;32mreturn\u001b[0m \u001b[0mnp\u001b[0m\u001b[1;33m.\u001b[0m\u001b[0masarray\u001b[0m\u001b[1;33m(\u001b[0m\u001b[0mx\u001b[0m\u001b[1;33m,\u001b[0m \u001b[0mfloat\u001b[0m\u001b[1;33m)\u001b[0m\u001b[1;33m\u001b[0m\u001b[1;33m\u001b[0m\u001b[0m\n\u001b[0m\u001b[0;32m   1391\u001b[0m \u001b[1;33m\u001b[0m\u001b[0m\n\u001b[0;32m   1392\u001b[0m \u001b[1;33m\u001b[0m\u001b[0m\n",
      "\u001b[1;32mc:\\Users\\Elise\\anaconda3\\lib\\site-packages\\numpy\\core\\_asarray.py\u001b[0m in \u001b[0;36masarray\u001b[1;34m(a, dtype, order)\u001b[0m\n\u001b[0;32m     83\u001b[0m \u001b[1;33m\u001b[0m\u001b[0m\n\u001b[0;32m     84\u001b[0m     \"\"\"\n\u001b[1;32m---> 85\u001b[1;33m     \u001b[1;32mreturn\u001b[0m \u001b[0marray\u001b[0m\u001b[1;33m(\u001b[0m\u001b[0ma\u001b[0m\u001b[1;33m,\u001b[0m \u001b[0mdtype\u001b[0m\u001b[1;33m,\u001b[0m \u001b[0mcopy\u001b[0m\u001b[1;33m=\u001b[0m\u001b[1;32mFalse\u001b[0m\u001b[1;33m,\u001b[0m \u001b[0morder\u001b[0m\u001b[1;33m=\u001b[0m\u001b[0morder\u001b[0m\u001b[1;33m)\u001b[0m\u001b[1;33m\u001b[0m\u001b[1;33m\u001b[0m\u001b[0m\n\u001b[0m\u001b[0;32m     86\u001b[0m \u001b[1;33m\u001b[0m\u001b[0m\n\u001b[0;32m     87\u001b[0m \u001b[1;33m\u001b[0m\u001b[0m\n",
      "\u001b[1;32mc:\\Users\\Elise\\anaconda3\\lib\\site-packages\\sympy\\core\\expr.py\u001b[0m in \u001b[0;36m__float__\u001b[1;34m(self)\u001b[0m\n\u001b[0;32m    323\u001b[0m         \u001b[1;32mif\u001b[0m \u001b[0mresult\u001b[0m\u001b[1;33m.\u001b[0m\u001b[0mis_number\u001b[0m \u001b[1;32mand\u001b[0m \u001b[0mresult\u001b[0m\u001b[1;33m.\u001b[0m\u001b[0mas_real_imag\u001b[0m\u001b[1;33m(\u001b[0m\u001b[1;33m)\u001b[0m\u001b[1;33m[\u001b[0m\u001b[1;36m1\u001b[0m\u001b[1;33m]\u001b[0m\u001b[1;33m:\u001b[0m\u001b[1;33m\u001b[0m\u001b[1;33m\u001b[0m\u001b[0m\n\u001b[0;32m    324\u001b[0m             \u001b[1;32mraise\u001b[0m \u001b[0mTypeError\u001b[0m\u001b[1;33m(\u001b[0m\u001b[1;34m\"can't convert complex to float\"\u001b[0m\u001b[1;33m)\u001b[0m\u001b[1;33m\u001b[0m\u001b[1;33m\u001b[0m\u001b[0m\n\u001b[1;32m--> 325\u001b[1;33m         \u001b[1;32mraise\u001b[0m \u001b[0mTypeError\u001b[0m\u001b[1;33m(\u001b[0m\u001b[1;34m\"can't convert expression to float\"\u001b[0m\u001b[1;33m)\u001b[0m\u001b[1;33m\u001b[0m\u001b[1;33m\u001b[0m\u001b[0m\n\u001b[0m\u001b[0;32m    326\u001b[0m \u001b[1;33m\u001b[0m\u001b[0m\n\u001b[0;32m    327\u001b[0m     \u001b[1;32mdef\u001b[0m \u001b[0m__complex__\u001b[0m\u001b[1;33m(\u001b[0m\u001b[0mself\u001b[0m\u001b[1;33m)\u001b[0m\u001b[1;33m:\u001b[0m\u001b[1;33m\u001b[0m\u001b[1;33m\u001b[0m\u001b[0m\n",
      "\u001b[1;31mTypeError\u001b[0m: can't convert expression to float"
     ]
    },
    {
     "data": {
      "image/png": "[encoded data removed]",
      "text/plain": [
       "<Figure size 432x288 with 1 Axes>"
      ]
     },
     "metadata": {
      "needs_background": "light"
     },
     "output_type": "display_data"
    }
   ],
   "source": [
    "#Finding and plotting nullclines (or trying to!)\n",
    "null_1 = r * ((x(t)/a1) - 1) * ((1 - (x(t)/k1)) * x(t)) - (m12 * x(t)) + (m21 * x(t))\n",
    "null_2 = r * ((y(t)/a2) - 1) * (1 - (y(t)/k2)) * y(t) - (m12 * y(t)) + (m21 * y(t))\n",
    "\n",
    "solve(null_1)\n",
    "print(null_1)\n",
    "solve(null_2)\n",
    "print(null_2)\n",
    "\n",
    "k=1\n",
    "r=1\n",
    "a1=1\n",
    "a2=1\n",
    "m12=1\n",
    "m21=1\n",
    "plt.plot(null_1,null_2)\n"
   ]
  },
  {
   "cell_type": "code",
   "execution_count": null,
   "metadata": {},
   "outputs": [],
   "source": []
  }
 ],
 "metadata": {
  "kernelspec": {
   "display_name": "Python 3",
   "language": "python",
   "name": "python3"
  },
  "language_info": {
   "codemirror_mode": {
    "name": "ipython",
    "version": 3
   },
   "file_extension": ".py",
   "mimetype": "text/x-python",
   "name": "python",
   "nbconvert_exporter": "python",
   "pygments_lexer": "ipython3",
   "version": "3.10.9"
  }
 },
 "nbformat": 4,
 "nbformat_minor": 4
}
