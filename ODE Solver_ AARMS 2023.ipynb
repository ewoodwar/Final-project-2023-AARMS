{
 "cells": [
  {
   "cell_type": "code",
   "execution_count": 28,
   "metadata": {},
   "outputs": [
    {
     "data": {
      "text/plain": [
       "[Eq(x(t), Piecewise((C1*Piecewise((-m12/2 + m21/2 + sqrt(4*m12*m21 + (-m12 + m21)**2)/2, Eq(m21, 0) & Eq(m12 + r, m12/2 + m21/2 + r - sqrt(4*m12*m21 + (-m12 + m21)**2)/2)), (m21, True))*exp(t*(-m12/2 - m21/2 - r + sqrt(4*m12*m21 + (-m12 + m21)**2)/2)) + C2*Piecewise((-m12/2 + m21/2 - sqrt(4*m12*m21 + (-m12 + m21)**2)/2, Eq(m21, 0) & Eq(m12 + r, m12/2 + m21/2 + r + sqrt(4*m12*m21 + (-m12 + m21)**2)/2)), (m21, True))*exp(t*(-m12/2 - m21/2 - r - sqrt(4*m12*m21 + (-m12 + m21)**2)/2)), Ne(m12**2 + 2*m12*m21 + m21**2, 0)), (C1*exp(t*(-m12/2 - m21/2 - r + sqrt(4*m12*m21 + (-m12 + m21)**2)/2)), Eq(m12, 0) & Eq(m21, 0) & Eq(m12 + r, m21 + r)), ((C1*Piecewise((-m12/2 + m21/2 + sqrt(4*m12*m21 + (-m12 + m21)**2)/2, Eq(m21, 0) & Eq(m12 + r, m12/2 + m21/2 + r - sqrt(4*m12*m21 + (-m12 + m21)**2)/2)), (m21, True)) + C2*(t*Piecewise((-m12/2 + m21/2 + sqrt(4*m12*m21 + (-m12 + m21)**2)/2, Eq(m21, 0) & Eq(m12 + r, m12/2 + m21/2 + r - sqrt(4*m12*m21 + (-m12 + m21)**2)/2)), (m21, True)) + Piecewise((1, Eq(m21, 0) & Eq(m12 + r, m12/2 + m21/2 + r - sqrt(4*m12*m21 + (-m12 + m21)**2)/2)), (0, Eq(m12 + r, m12/2 + m21/2 + r - sqrt(4*m12*m21 + (-m12 + m21)**2)/2)), (m21/(-m12/2 + m21/2 - sqrt(4*m12*m21 + (-m12 + m21)**2)/2), True))))*exp(t*(-m12/2 - m21/2 - r + sqrt(4*m12*m21 + (-m12 + m21)**2)/2)), True))),\n",
       " Eq(y(t), Piecewise((C1*Piecewise((m12, Eq(m21, 0) & Eq(m12 + r, m12/2 + m21/2 + r - sqrt(4*m12*m21 + (-m12 + m21)**2)/2)), (m12/2 - m21/2 + sqrt(4*m12*m21 + (-m12 + m21)**2)/2, True))*exp(t*(-m12/2 - m21/2 - r + sqrt(4*m12*m21 + (-m12 + m21)**2)/2)) + C2*Piecewise((m12, Eq(m21, 0) & Eq(m12 + r, m12/2 + m21/2 + r + sqrt(4*m12*m21 + (-m12 + m21)**2)/2)), (m12/2 - m21/2 - sqrt(4*m12*m21 + (-m12 + m21)**2)/2, True))*exp(t*(-m12/2 - m21/2 - r - sqrt(4*m12*m21 + (-m12 + m21)**2)/2)), Ne(m12**2 + 2*m12*m21 + m21**2, 0)), (C2*exp(t*(-m12/2 - m21/2 - r + sqrt(4*m12*m21 + (-m12 + m21)**2)/2)), Eq(m12, 0) & Eq(m21, 0) & Eq(m12 + r, m21 + r)), ((C1*Piecewise((m12, Eq(m21, 0) & Eq(m12 + r, m12/2 + m21/2 + r - sqrt(4*m12*m21 + (-m12 + m21)**2)/2)), (m12/2 - m21/2 + sqrt(4*m12*m21 + (-m12 + m21)**2)/2, True)) + C2*(t*Piecewise((m12, Eq(m21, 0) & Eq(m12 + r, m12/2 + m21/2 + r - sqrt(4*m12*m21 + (-m12 + m21)**2)/2)), (m12/2 - m21/2 + sqrt(4*m12*m21 + (-m12 + m21)**2)/2, True)) + Piecewise((0, Eq(m21, 0) & Eq(m12 + r, m12/2 + m21/2 + r - sqrt(4*m12*m21 + (-m12 + m21)**2)/2)), (1, Eq(m12 + r, m12/2 + m21/2 + r - sqrt(4*m12*m21 + (-m12 + m21)**2)/2)), (0, True))))*exp(t*(-m12/2 - m21/2 - r + sqrt(4*m12*m21 + (-m12 + m21)**2)/2)), True)))]"
      ]
     },
     "metadata": {},
     "output_type": "display_data"
    }
   ],
   "source": [
    "from sympy import *\n",
    "import numpy as np\n",
    "import matplotlib.pyplot as plt\n",
    "\n",
    "t, r, k, a1, a2, m12, m21,  = symbols(\"t, r, k, a1, a2, m12, m21\")\n",
    "x = Function(\"x\")\n",
    "y = Function(\"y\")\n",
    "\n",
    "#Differential Equation 01, including:\n",
    "# r = positive growth rate\n",
    "# k1, k2 = Carrying Capacity of Patch 1 and Patch 2 respectively \n",
    "# a1 = percentage decrease due to human induced Allee Effects in patch 1\n",
    "# a2 = percentage decrease due to environmental Allee Effects in patch 2\n",
    "# m12, m21 = Migration from Patch 1 to 2 and 2 to 1 respectively\n",
    "\n",
    "Patch_1 = Eq(diff(x(t), t), r * ((x(t)/a1) - 1) * ((1 - (x(t)/k)) * x(t)) - (m12 * x(t)) + (m21 * y(t)))\n",
    "\n",
    "Patch_2 = Eq(diff(y(t), t), r * ((y(t)/a2) - 1) * (1 - (y(t)/k)) * y(t) + (m12 * x(t)) - (m21 * y(t)))\n",
    "\n",
    "\n",
    "solution= dsolve([Patch_1, Patch_2], [x(t), y(t)])\n",
    "display(solution)"
   ]
  },
  {
   "cell_type": "code",
   "execution_count": 40,
   "metadata": {},
   "outputs": [
    {
     "data": {
      "text/latex": [
       "$\\displaystyle \\left\\{\\left( 0, \\  0\\right)\\right\\}$"
      ],
      "text/plain": [
       "FiniteSet((0, 0))"
      ]
     },
     "metadata": {},
     "output_type": "display_data"
    },
    {
     "name": "stdout",
     "output_type": "stream",
     "text": [
      "[(0, 0)]\n"
     ]
    }
   ],
   "source": [
    "#Two Patch Coupled System of ODEs\n",
    "DS1 = r * ((x(t)/a1) - 1) * ((1 - (x(t)/k)) * x(t)) - (m12 * x(t)) + (m21 * y(t))\n",
    "DS2 = r * ((y(t)/a2) - 1) * ((1 - (y(t)/k)) * y(t)) + (m12 * x(t)) - (m21 * y(t))\n",
    "\n",
    "#Finding the Equilibrium Values\n",
    "Equilibrium= nonlinsolve([DS1,DS2], [x(t), y(t)])\n",
    "display(Equilibrium)\n",
    "\n",
    "eq_list = list(Equilibrium)\n",
    "print(eq_list)"
   ]
  },
  {
   "cell_type": "code",
   "execution_count": 35,
   "metadata": {},
   "outputs": [
    {
     "data": {
      "text/latex": [
       "$\\displaystyle \\left[\\begin{matrix}- m_{12} + r \\left(-1 + \\frac{x{\\left(t \\right)}}{a_{1}}\\right) \\left(1 - \\frac{x{\\left(t \\right)}}{k}\\right) - \\frac{r \\left(-1 + \\frac{x{\\left(t \\right)}}{a_{1}}\\right) x{\\left(t \\right)}}{k} + \\frac{r \\left(1 - \\frac{x{\\left(t \\right)}}{k}\\right) x{\\left(t \\right)}}{a_{1}} & m_{21}\\\\m_{12} & - m_{21} + r \\left(-1 + \\frac{y{\\left(t \\right)}}{a_{2}}\\right) \\left(1 - \\frac{y{\\left(t \\right)}}{k}\\right) - \\frac{r \\left(-1 + \\frac{y{\\left(t \\right)}}{a_{2}}\\right) y{\\left(t \\right)}}{k} + \\frac{r \\left(1 - \\frac{y{\\left(t \\right)}}{k}\\right) y{\\left(t \\right)}}{a_{2}}\\end{matrix}\\right]$"
      ],
      "text/plain": [
       "Matrix([\n",
       "[-m12 + r*(-1 + x(t)/a1)*(1 - x(t)/k) - r*(-1 + x(t)/a1)*x(t)/k + r*(1 - x(t)/k)*x(t)/a1,                                                                                     m21],\n",
       "[                                                                                    m12, -m21 + r*(-1 + y(t)/a2)*(1 - y(t)/k) - r*(-1 + y(t)/a2)*y(t)/k + r*(1 - y(t)/k)*y(t)/a2]])"
      ]
     },
     "execution_count": 35,
     "metadata": {},
     "output_type": "execute_result"
    }
   ],
   "source": [
    "#Finding the Jacobian \n",
    "Jacobian = Matrix(\n",
    "    [\n",
    "    [diff(DS1, x(t)), diff(DS1, y(t))], \n",
    "    [diff(DS2, x(t)), diff(DS2, y(t))]\n",
    "    ])\n",
    "Jacobian\n"
   ]
  },
  {
   "cell_type": "code",
   "execution_count": 36,
   "metadata": {},
   "outputs": [
    {
     "data": {
      "text/latex": [
       "$\\displaystyle \\left[\\begin{matrix}- m_{12} - r & m_{21}\\\\m_{12} & - m_{21} - r\\end{matrix}\\right]$"
      ],
      "text/plain": [
       "Matrix([\n",
       "[-m12 - r,      m21],\n",
       "[     m12, -m21 - r]])"
      ]
     },
     "execution_count": 36,
     "metadata": {},
     "output_type": "execute_result"
    }
   ],
   "source": [
    "#Jacobian matrix with (0,0) substituted in\n",
    "Jac_1 = simplify(Jacobian.subs({x(t) : eq_list[0][0], y(t) : eq_list[0][1]}))\n",
    "Jac_1"
   ]
  },
  {
   "cell_type": "code",
   "execution_count": 37,
   "metadata": {},
   "outputs": [
    {
     "data": {
      "text/latex": [
       "$\\displaystyle \\left[\\begin{matrix}- m_{12} - r & m_{21}\\\\m_{12} & - m_{21} - r\\end{matrix}\\right]$"
      ],
      "text/plain": [
       "Matrix([\n",
       "[-m12 - r,      m21],\n",
       "[     m12, -m21 - r]])"
      ]
     },
     "metadata": {},
     "output_type": "display_data"
    }
   ],
   "source": [
    "#Caculating the Jacobian for each of the equilibrium values. \n",
    "for i in eq_list: \n",
    "    Jac = simplify(Jacobian.subs({x(t) : i[0], y(t) : i[1]}))\n",
    "    display(Jac)\n",
    "    "
   ]
  },
  {
   "cell_type": "code",
   "execution_count": null,
   "metadata": {},
   "outputs": [],
   "source": [
    "plt.plot()"
   ]
  }
 ],
 "metadata": {
  "kernelspec": {
   "display_name": "Python 3",
   "language": "python",
   "name": "python3"
  },
  "language_info": {
   "codemirror_mode": {
    "name": "ipython",
    "version": 3
   },
   "file_extension": ".py",
   "mimetype": "text/x-python",
   "name": "python",
   "nbconvert_exporter": "python",
   "pygments_lexer": "ipython3",
   "version": "3.10.9"
  }
 },
 "nbformat": 4,
 "nbformat_minor": 4
}
