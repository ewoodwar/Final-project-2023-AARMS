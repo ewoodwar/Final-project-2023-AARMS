{
 "cells": [
  {
   "cell_type": "code",
   "execution_count": 5,
   "metadata": {},
   "outputs": [
    {
     "ename": "TypeError",
     "evalue": "unsupported operand type(s) for /: 'UndefinedFunction' and 'Symbol'",
     "output_type": "error",
     "traceback": [
      "\u001b[0;31m---------------------------------------------------------------------------\u001b[0m",
      "\u001b[0;31mTypeError\u001b[0m                                 Traceback (most recent call last)",
      "Cell \u001b[0;32mIn[5], line 8\u001b[0m\n\u001b[1;32m      4\u001b[0m N2 \u001b[39m=\u001b[39m Function(\u001b[39m\"\u001b[39m\u001b[39mN2\u001b[39m\u001b[39m\"\u001b[39m)\n\u001b[1;32m      6\u001b[0m t, r, k1, k2, A1, A2, q, m12, m21,  \u001b[39m=\u001b[39m symbols(\u001b[39m\"\u001b[39m\u001b[39mt, r, k_1, k_2, A_1, A_2, q, m_12, m_21\u001b[39m\u001b[39m\"\u001b[39m)\n\u001b[0;32m----> 8\u001b[0m dsolve([Eq(diff(N1(t), t), r \u001b[39m*\u001b[39m ((N1(t)\u001b[39m/\u001b[39mA1) \u001b[39m-\u001b[39m \u001b[39m1\u001b[39m) \u001b[39m*\u001b[39m (\u001b[39m1\u001b[39m \u001b[39m-\u001b[39m N1\u001b[39m/\u001b[39;49mk1) \u001b[39m*\u001b[39m N1(t) \u001b[39m-\u001b[39m q \u001b[39m*\u001b[39m N1(t) \u001b[39m-\u001b[39m m12 \u001b[39m*\u001b[39m N1(t) \u001b[39m+\u001b[39m m21 \u001b[39m*\u001b[39m N1(t)), Eq(diff(N(t), t), (N2(t), t), r \u001b[39m*\u001b[39m ((N2(t)\u001b[39m/\u001b[39mA2) \u001b[39m-\u001b[39m \u001b[39m1\u001b[39m) \u001b[39m*\u001b[39m (\u001b[39m1\u001b[39m \u001b[39m-\u001b[39m N2\u001b[39m/\u001b[39mk2) \u001b[39m*\u001b[39m N2(t) \u001b[39m-\u001b[39m q \u001b[39m*\u001b[39m N2(t) \u001b[39m-\u001b[39m m12 \u001b[39m*\u001b[39m N2(t) \u001b[39m+\u001b[39m m21 \u001b[39m*\u001b[39m N2(t))], [N1(t), N2(t)])\n",
      "\u001b[0;31mTypeError\u001b[0m: unsupported operand type(s) for /: 'UndefinedFunction' and 'Symbol'"
     ]
    }
   ],
   "source": [
    "from sympy import *\n",
    "\n",
    "N1 = Function(\"N1\")\n",
    "N2 = Function(\"N2\")\n",
    "\n",
    "t, r, k1, k2, A1, A2, q, m12, m21,  = symbols(\"t, r, k_1, k_2, A_1, A_2, q, m_12, m_21\")\n",
    "\n",
    "dsolve([Eq(diff(N1(t), t), r * ((N1(t)/A1) - 1) * (1 - N1/k1) * N1(t) - q * N1(t) - m12 * N1(t) + m21 * N1(t)), Eq(diff(N(t), t), (N2(t), t), r * ((N2(t)/A2) - 1) * (1 - N2/k2) * N2(t) - q * N2(t) - m12 * N2(t) + m21 * N2(t))], [N1(t), N2(t)])"
   ]
  },
  {
   "cell_type": "code",
   "execution_count": null,
   "metadata": {},
   "outputs": [],
   "source": [
    "from sympy.abc import r, t, q, N, M\n",
    "\n"
   ]
  },
  {
   "cell_type": "code",
   "execution_count": null,
   "metadata": {},
   "outputs": [],
   "source": []
  }
 ],
 "metadata": {
  "kernelspec": {
   "display_name": "Python 3",
   "language": "python",
   "name": "python3"
  },
  "language_info": {
   "codemirror_mode": {
    "name": "ipython",
    "version": 3
   },
   "file_extension": ".py",
   "mimetype": "text/x-python",
   "name": "python",
   "nbconvert_exporter": "python",
   "pygments_lexer": "ipython3",
   "version": "3.10.9"
  }
 },
 "nbformat": 4,
 "nbformat_minor": 4
}
