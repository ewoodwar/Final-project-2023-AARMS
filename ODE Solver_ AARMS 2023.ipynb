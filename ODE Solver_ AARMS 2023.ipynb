{
 "cells": [
  {
   "cell_type": "code",
   "execution_count": 21,
   "metadata": {},
   "outputs": [
    {
     "ename": "NotImplementedError",
     "evalue": "",
     "output_type": "error",
     "traceback": [
      "\u001b[0;31m---------------------------------------------------------------------------\u001b[0m",
      "\u001b[0;31mNotImplementedError\u001b[0m                       Traceback (most recent call last)",
      "Cell \u001b[0;32mIn[21], line 21\u001b[0m\n\u001b[1;32m     16\u001b[0m Patch_1 \u001b[39m=\u001b[39m Eq(diff(x(t), t), r \u001b[39m*\u001b[39m ((x(t)\u001b[39m/\u001b[39ma1) \u001b[39m-\u001b[39m \u001b[39m1\u001b[39m) \u001b[39m*\u001b[39m ((\u001b[39m1\u001b[39m \u001b[39m-\u001b[39m (x(t)\u001b[39m/\u001b[39mk)) \u001b[39m*\u001b[39m x(t)) \u001b[39m-\u001b[39m (m12 \u001b[39m*\u001b[39m x(t)) \u001b[39m+\u001b[39m (m21 \u001b[39m*\u001b[39m y(t)))\n\u001b[1;32m     18\u001b[0m Patch_2 \u001b[39m=\u001b[39m Eq(diff(y(t), t), r \u001b[39m*\u001b[39m ((y(t)\u001b[39m/\u001b[39ma2) \u001b[39m-\u001b[39m \u001b[39m1\u001b[39m) \u001b[39m*\u001b[39m (\u001b[39m1\u001b[39m \u001b[39m-\u001b[39m (y(t)\u001b[39m/\u001b[39mk)) \u001b[39m*\u001b[39m y(t) \u001b[39m-\u001b[39m (m12 \u001b[39m*\u001b[39m x(t)) \u001b[39m+\u001b[39m (m21 \u001b[39m*\u001b[39m y(t)))\n\u001b[0;32m---> 21\u001b[0m solution\u001b[39m=\u001b[39m dsolve([Patch_1, Patch_2], [x(t), y(t)])\n\u001b[1;32m     22\u001b[0m display(solution)\n",
      "File \u001b[0;32m/opt/homebrew/lib/python3.10/site-packages/sympy/solvers/ode/ode.py:589\u001b[0m, in \u001b[0;36mdsolve\u001b[0;34m(eq, func, hint, simplify, ics, xi, eta, x0, n, **kwargs)\u001b[0m\n\u001b[1;32m    586\u001b[0m     \u001b[39mraise\u001b[39;00m \u001b[39mValueError\u001b[39;00m(\u001b[39m\"\u001b[39m\u001b[39mdsolve() and classify_sysode() work with \u001b[39m\u001b[39m\"\u001b[39m\n\u001b[1;32m    587\u001b[0m     \u001b[39m\"\u001b[39m\u001b[39mnumber of functions being equal to number of equations\u001b[39m\u001b[39m\"\u001b[39m)\n\u001b[1;32m    588\u001b[0m \u001b[39mif\u001b[39;00m match[\u001b[39m'\u001b[39m\u001b[39mtype_of_equation\u001b[39m\u001b[39m'\u001b[39m] \u001b[39mis\u001b[39;00m \u001b[39mNone\u001b[39;00m:\n\u001b[0;32m--> 589\u001b[0m     \u001b[39mraise\u001b[39;00m \u001b[39mNotImplementedError\u001b[39;00m\n\u001b[1;32m    590\u001b[0m \u001b[39melse\u001b[39;00m:\n\u001b[1;32m    591\u001b[0m     \u001b[39mif\u001b[39;00m match[\u001b[39m'\u001b[39m\u001b[39mis_linear\u001b[39m\u001b[39m'\u001b[39m] \u001b[39m==\u001b[39m \u001b[39mTrue\u001b[39;00m:\n",
      "\u001b[0;31mNotImplementedError\u001b[0m: "
     ]
    }
   ],
   "source": [
    "from sympy import *\n",
    "import numpy as np\n",
    "import matplotlib.pyplot as plt\n",
    "\n",
    "t, r, k, a1, a2, m12, m21,  = symbols(\"t, r, k, a1, a2, m12, m21\")\n",
    "x = Function(\"x\")\n",
    "y = Function(\"y\")\n",
    "\n",
    "#Differential Equation 01, including:\n",
    "# r = positive growth rate\n",
    "# k1, k2 = Carrying Capacity of Patch 1 and Patch 2 respectively \n",
    "# a1 = percentage decrease due to human induced Allee Effects in patch 1\n",
    "# a2 = percentage decrease due to environmental Allee Effects in patch 2\n",
    "# m12, m21 = Migration from Patch 1 to 2 and 2 to 1 respectively\n",
    "\n",
    "Patch_1 = Eq(diff(x(t), t), r * ((x(t)/a1) - 1) * ((1 - (x(t)/k)) * x(t)) - (m12 * x(t)) + (m21 * y(t)))\n",
    "\n",
    "Patch_2 = Eq(diff(y(t), t), r * ((y(t)/a2) - 1) * (1 - (y(t)/k)) * y(t) - (m12 * x(t)) + (m21 * y(t)))\n",
    "\n",
    "\n",
    "solution= dsolve([Patch_1, Patch_2], [x(t), y(t)])\n",
    "display(solution)\n",
    "\n"
   ]
  },
  {
   "cell_type": "code",
   "execution_count": 22,
   "metadata": {},
   "outputs": [
    {
     "data": {
      "text/latex": [
       "$\\displaystyle \\left\\{\\left( 0, \\  0\\right), \\left( 0, \\  \\frac{a_{2}}{2} + \\frac{k}{2} - \\frac{\\sqrt{r \\left(a_{2}^{2} r - 4 a_{2} k m_{12} + 4 a_{2} k m_{21} - 2 a_{2} k r + k^{2} r\\right)}}{2 r}\\right), \\left( 0, \\  \\frac{a_{2}}{2} + \\frac{k}{2} + \\frac{\\sqrt{r \\left(a_{2}^{2} r - 4 a_{2} k m_{12} + 4 a_{2} k m_{21} - 2 a_{2} k r + k^{2} r\\right)}}{2 r}\\right), \\left( \\frac{a_{1}}{2} + \\frac{k}{2} - \\frac{\\sqrt{r \\left(a_{1}^{2} r - 4 a_{1} k m_{12} + 4 a_{1} k m_{21} - 2 a_{1} k r + k^{2} r\\right)}}{2 r}, \\  0\\right), \\left( \\frac{a_{1}}{2} + \\frac{k}{2} - \\frac{\\sqrt{r \\left(a_{1}^{2} r - 4 a_{1} k m_{12} + 4 a_{1} k m_{21} - 2 a_{1} k r + k^{2} r\\right)}}{2 r}, \\  \\frac{a_{2}}{2} + \\frac{k}{2} - \\frac{\\sqrt{r \\left(a_{2}^{2} r - 4 a_{2} k m_{12} + 4 a_{2} k m_{21} - 2 a_{2} k r + k^{2} r\\right)}}{2 r}\\right), \\left( \\frac{a_{1}}{2} + \\frac{k}{2} - \\frac{\\sqrt{r \\left(a_{1}^{2} r - 4 a_{1} k m_{12} + 4 a_{1} k m_{21} - 2 a_{1} k r + k^{2} r\\right)}}{2 r}, \\  \\frac{a_{2}}{2} + \\frac{k}{2} + \\frac{\\sqrt{r \\left(a_{2}^{2} r - 4 a_{2} k m_{12} + 4 a_{2} k m_{21} - 2 a_{2} k r + k^{2} r\\right)}}{2 r}\\right), \\left( \\frac{a_{1}}{2} + \\frac{k}{2} + \\frac{\\sqrt{r \\left(a_{1}^{2} r - 4 a_{1} k m_{12} + 4 a_{1} k m_{21} - 2 a_{1} k r + k^{2} r\\right)}}{2 r}, \\  0\\right), \\left( \\frac{a_{1}}{2} + \\frac{k}{2} + \\frac{\\sqrt{r \\left(a_{1}^{2} r - 4 a_{1} k m_{12} + 4 a_{1} k m_{21} - 2 a_{1} k r + k^{2} r\\right)}}{2 r}, \\  \\frac{a_{2}}{2} + \\frac{k}{2} - \\frac{\\sqrt{r \\left(a_{2}^{2} r - 4 a_{2} k m_{12} + 4 a_{2} k m_{21} - 2 a_{2} k r + k^{2} r\\right)}}{2 r}\\right), \\left( \\frac{a_{1}}{2} + \\frac{k}{2} + \\frac{\\sqrt{r \\left(a_{1}^{2} r - 4 a_{1} k m_{12} + 4 a_{1} k m_{21} - 2 a_{1} k r + k^{2} r\\right)}}{2 r}, \\  \\frac{a_{2}}{2} + \\frac{k}{2} + \\frac{\\sqrt{r \\left(a_{2}^{2} r - 4 a_{2} k m_{12} + 4 a_{2} k m_{21} - 2 a_{2} k r + k^{2} r\\right)}}{2 r}\\right)\\right\\}$"
      ],
      "text/plain": [
       "{(0, 0), (0, a2/2 + k/2 - sqrt(r*(a2**2*r - 4*a2*k*m12 + 4*a2*k*m21 - 2*a2*k*r + k**2*r))/(2*r)), (0, a2/2 + k/2 + sqrt(r*(a2**2*r - 4*a2*k*m12 + 4*a2*k*m21 - 2*a2*k*r + k**2*r))/(2*r)), (a1/2 + k/2 - sqrt(r*(a1**2*r - 4*a1*k*m12 + 4*a1*k*m21 - 2*a1*k*r + k**2*r))/(2*r), 0), (a1/2 + k/2 - sqrt(r*(a1**2*r - 4*a1*k*m12 + 4*a1*k*m21 - 2*a1*k*r + k**2*r))/(2*r), a2/2 + k/2 - sqrt(r*(a2**2*r - 4*a2*k*m12 + 4*a2*k*m21 - 2*a2*k*r + k**2*r))/(2*r)), (a1/2 + k/2 - sqrt(r*(a1**2*r - 4*a1*k*m12 + 4*a1*k*m21 - 2*a1*k*r + k**2*r))/(2*r), a2/2 + k/2 + sqrt(r*(a2**2*r - 4*a2*k*m12 + 4*a2*k*m21 - 2*a2*k*r + k**2*r))/(2*r)), (a1/2 + k/2 + sqrt(r*(a1**2*r - 4*a1*k*m12 + 4*a1*k*m21 - 2*a1*k*r + k**2*r))/(2*r), 0), (a1/2 + k/2 + sqrt(r*(a1**2*r - 4*a1*k*m12 + 4*a1*k*m21 - 2*a1*k*r + k**2*r))/(2*r), a2/2 + k/2 - sqrt(r*(a2**2*r - 4*a2*k*m12 + 4*a2*k*m21 - 2*a2*k*r + k**2*r))/(2*r)), (a1/2 + k/2 + sqrt(r*(a1**2*r - 4*a1*k*m12 + 4*a1*k*m21 - 2*a1*k*r + k**2*r))/(2*r), a2/2 + k/2 + sqrt(r*(a2**2*r - 4*a2*k*m12 + 4*a2*k*m21 - 2*a2*k*r + k**2*r))/(2*r))}"
      ]
     },
     "metadata": {},
     "output_type": "display_data"
    }
   ],
   "source": [
    "#Two Patch Coupled System of ODEs\n",
    "DS1 = r * ((x(t)/a1) - 1) * ((1 - (x(t)/k)) * x(t)) - (m12 * x(t)) + (m21 * x(t))\n",
    "DS2 = r * ((y(t)/a2) - 1) * (1 - (y(t)/k)) * y(t) - (m12 * y(t)) + (m21 * y(t))\n",
    "\n",
    "#Finding the Equilibrium Values\n",
    "Equilibrium= nonlinsolve([DS1,DS2], [x(t), y(t)])\n",
    "display(Equilibrium)\n",
    "\n"
   ]
  },
  {
   "cell_type": "code",
   "execution_count": 34,
   "metadata": {},
   "outputs": [
    {
     "data": {
      "text/plain": [
       "<matplotlib.collections.PathCollection at 0x11d75e350>"
      ]
     },
     "execution_count": 34,
     "metadata": {},
     "output_type": "execute_result"
    },
    {
     "data": {
      "image/png": "[encoded data removed]",
      "text/plain": [
       "<Figure size 640x480 with 1 Axes>"
      ]
     },
     "metadata": {},
     "output_type": "display_data"
    }
   ],
   "source": [
    "k=1\n",
    "r=1\n",
    "a1=10\n",
    "a2=10\n",
    "m12=0.6\n",
    "m21=0.02\n",
    "\n",
    "DS_1 = r * ((x(t)/a1) - 1) * ((1 - (x(t)/k)) * x(t)) - (m12 * x(t)) + (m21 * x(t))\n",
    "DS_2 = r * ((y(t)/a2) - 1) * (1 - (y(t)/k)) * y(t) - (m12 * y(t)) + (m21 * y(t))\n",
    "\n",
    "\n",
    "Equilibrium= nonlinsolve([DS_1,DS_2], [x(t), y(t)])\n",
    "\n",
    "Equilibrium_Values=list(Equilibrium)\n",
    "#print(Equilibrium_Values)\n",
    "#type(Equilibrium_Values)\n",
    "\n",
    "x_val = (list(zip(*Equilibrium_Values))[0])\n",
    "y_val = (list(zip(*Equilibrium_Values))[1])\n",
    "\n",
    "scatter(x_val, y_val)\n"
   ]
  },
  {
   "cell_type": "code",
   "execution_count": 26,
   "metadata": {},
   "outputs": [
    {
     "ename": "SyntaxError",
     "evalue": "cannot assign to literal here. Maybe you meant '==' instead of '='? (2652788692.py, line 2)",
     "output_type": "error",
     "traceback": [
      "\u001b[0;36m  Cell \u001b[0;32mIn[26], line 2\u001b[0;36m\u001b[0m\n\u001b[0;31m    0 = r * ((x(t)/a1) - 1) * ((1 - (x(t)/k1)) * x(t)) - (m12 * x(t)) + (m21 * x(t))\u001b[0m\n\u001b[0m    ^\u001b[0m\n\u001b[0;31mSyntaxError\u001b[0m\u001b[0;31m:\u001b[0m cannot assign to literal here. Maybe you meant '==' instead of '='?\n"
     ]
    }
   ],
   "source": [
    "\n",
    "#Finding and plotting nullclines\n",
    "0 = r * ((x(t)/a1) - 1) * ((1 - (x(t)/k1)) * x(t)) - (m12 * x(t)) + (m21 * x(t))\n",
    "0 = r * ((y(t)/a2) - 1) * (1 - (y(t)/k2)) * y(t) - (m12 * y(t)) + (m21 * y(t))\n",
    "\n",
    "plt.plot(x(t),y(t))"
   ]
  },
  {
   "cell_type": "code",
   "execution_count": null,
   "metadata": {},
   "outputs": [
    {
     "data": {
      "text/plain": [
       "array([-m12*x(t) + m21*x(t) + r*(-1 + x(t)/a1)*(1 - x(t)/k1)*x(t),\n",
       "       -m12*y(t) + m21*y(t) + r*(-1 + y(t)/a2)*(1 - y(t)/k2)*y(t)],\n",
       "      dtype=object)"
      ]
     },
     "metadata": {},
     "output_type": "display_data"
    }
   ],
   "source": [
    "func1 = np.array([DS1,DS2])\n",
    "display(func1)"
   ]
  }
 ],
 "metadata": {
  "kernelspec": {
   "display_name": "Python 3",
   "language": "python",
   "name": "python3"
  },
  "language_info": {
   "codemirror_mode": {
    "name": "ipython",
    "version": 3
   },
   "file_extension": ".py",
   "mimetype": "text/x-python",
   "name": "python",
   "nbconvert_exporter": "python",
   "pygments_lexer": "ipython3",
   "version": "3.10.9"
  }
 },
 "nbformat": 4,
 "nbformat_minor": 4
}
