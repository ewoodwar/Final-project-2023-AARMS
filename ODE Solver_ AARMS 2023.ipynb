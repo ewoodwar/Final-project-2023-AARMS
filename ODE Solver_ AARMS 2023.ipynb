{
 "cells": [
  {
   "cell_type": "code",
   "execution_count": 58,
   "metadata": {},
   "outputs": [
    {
     "data": {
      "text/plain": [
       "[Eq(x(t), Piecewise((C1*Piecewise((-m12/2 + m21/2 + sqrt(4*m12*m21 + (-m12 + m21)**2)/2, Eq(m21, 0) & Eq(m12 + r, m12/2 + m21/2 + r - sqrt(4*m12*m21 + (-m12 + m21)**2)/2)), (m21, True))*exp(t*(-m12/2 - m21/2 - r + sqrt(4*m12*m21 + (-m12 + m21)**2)/2)) + C2*Piecewise((-m12/2 + m21/2 - sqrt(4*m12*m21 + (-m12 + m21)**2)/2, Eq(m21, 0) & Eq(m12 + r, m12/2 + m21/2 + r + sqrt(4*m12*m21 + (-m12 + m21)**2)/2)), (m21, True))*exp(t*(-m12/2 - m21/2 - r - sqrt(4*m12*m21 + (-m12 + m21)**2)/2)), Ne(m12**2 + 2*m12*m21 + m21**2, 0)), (C1*exp(t*(-m12/2 - m21/2 - r + sqrt(4*m12*m21 + (-m12 + m21)**2)/2)), Eq(m12, 0) & Eq(m21, 0) & Eq(m12 + r, m21 + r)), ((C1*Piecewise((-m12/2 + m21/2 + sqrt(4*m12*m21 + (-m12 + m21)**2)/2, Eq(m21, 0) & Eq(m12 + r, m12/2 + m21/2 + r - sqrt(4*m12*m21 + (-m12 + m21)**2)/2)), (m21, True)) + C2*(t*Piecewise((-m12/2 + m21/2 + sqrt(4*m12*m21 + (-m12 + m21)**2)/2, Eq(m21, 0) & Eq(m12 + r, m12/2 + m21/2 + r - sqrt(4*m12*m21 + (-m12 + m21)**2)/2)), (m21, True)) + Piecewise((1, Eq(m21, 0) & Eq(m12 + r, m12/2 + m21/2 + r - sqrt(4*m12*m21 + (-m12 + m21)**2)/2)), (0, Eq(m12 + r, m12/2 + m21/2 + r - sqrt(4*m12*m21 + (-m12 + m21)**2)/2)), (m21/(-m12/2 + m21/2 - sqrt(4*m12*m21 + (-m12 + m21)**2)/2), True))))*exp(t*(-m12/2 - m21/2 - r + sqrt(4*m12*m21 + (-m12 + m21)**2)/2)), True))),\n",
       " Eq(y(t), Piecewise((C1*Piecewise((m12, Eq(m21, 0) & Eq(m12 + r, m12/2 + m21/2 + r - sqrt(4*m12*m21 + (-m12 + m21)**2)/2)), (m12/2 - m21/2 + sqrt(4*m12*m21 + (-m12 + m21)**2)/2, True))*exp(t*(-m12/2 - m21/2 - r + sqrt(4*m12*m21 + (-m12 + m21)**2)/2)) + C2*Piecewise((m12, Eq(m21, 0) & Eq(m12 + r, m12/2 + m21/2 + r + sqrt(4*m12*m21 + (-m12 + m21)**2)/2)), (m12/2 - m21/2 - sqrt(4*m12*m21 + (-m12 + m21)**2)/2, True))*exp(t*(-m12/2 - m21/2 - r - sqrt(4*m12*m21 + (-m12 + m21)**2)/2)), Ne(m12**2 + 2*m12*m21 + m21**2, 0)), (C2*exp(t*(-m12/2 - m21/2 - r + sqrt(4*m12*m21 + (-m12 + m21)**2)/2)), Eq(m12, 0) & Eq(m21, 0) & Eq(m12 + r, m21 + r)), ((C1*Piecewise((m12, Eq(m21, 0) & Eq(m12 + r, m12/2 + m21/2 + r - sqrt(4*m12*m21 + (-m12 + m21)**2)/2)), (m12/2 - m21/2 + sqrt(4*m12*m21 + (-m12 + m21)**2)/2, True)) + C2*(t*Piecewise((m12, Eq(m21, 0) & Eq(m12 + r, m12/2 + m21/2 + r - sqrt(4*m12*m21 + (-m12 + m21)**2)/2)), (m12/2 - m21/2 + sqrt(4*m12*m21 + (-m12 + m21)**2)/2, True)) + Piecewise((0, Eq(m21, 0) & Eq(m12 + r, m12/2 + m21/2 + r - sqrt(4*m12*m21 + (-m12 + m21)**2)/2)), (1, Eq(m12 + r, m12/2 + m21/2 + r - sqrt(4*m12*m21 + (-m12 + m21)**2)/2)), (0, True))))*exp(t*(-m12/2 - m21/2 - r + sqrt(4*m12*m21 + (-m12 + m21)**2)/2)), True)))]"
      ]
     },
     "metadata": {},
     "output_type": "display_data"
    }
   ],
   "source": [
    "from sympy import *\n",
    "import numpy as np\n",
    "import matplotlib.pyplot as plt\n",
    "\n",
    "t, r, k, a1, a2, m12,  = symbols(\"t, r, k, a1, a2, m12\")\n",
    "x = Function(\"x\")\n",
    "y = Function(\"y\")\n",
    "\n",
    "#Differential Equation 01, including:\n",
    "# r = positive growth rate\n",
    "# k1, k2 = Carrying Capacity\n",
    "# a1 = percentage decrease due to human induced Allee Effects in patch 1\n",
    "# a2 = percentage decrease due to environmental Allee Effects in patch 2\n",
    "# m12, m21 = Migration from Patch 1 to 2 and 2 to 1 respectively\n",
    "\n",
    "Patch_1 = Eq(diff(x(t), t), r * ((x(t)/a1) - 1) * ((1 - (x(t)/k)) * x(t)) - (m12 * x(t)) + (m21 * y(t)))\n",
    "\n",
    "Patch_2 = Eq(diff(y(t), t), r * ((y(t)/a2) - 1) * (1 - (y(t)/k)) * y(t) + (m12 * x(t)) - (m21 * y(t)))\n",
    "\n",
    "\n",
    "solution= dsolve([Patch_1, Patch_2], [x(t), y(t)])\n",
    "display(solution)\n",
    "\n"
   ]
  },
  {
   "cell_type": "code",
   "execution_count": 59,
   "metadata": {},
   "outputs": [
    {
     "data": {
      "text/latex": [
       "$\\displaystyle \\left\\{\\left( 0, \\  0\\right), \\left( 0, \\  a_{2}\\right), \\left( 0, \\  k\\right)\\right\\}$"
      ],
      "text/plain": [
       "FiniteSet((0, 0), (0, a2), (0, k))"
      ]
     },
     "metadata": {},
     "output_type": "display_data"
    },
    {
     "name": "stdout",
     "output_type": "stream",
     "text": [
      "[(0, 0), (0, a2), (0, k)]\n"
     ]
    }
   ],
   "source": [
    "#Two Patch Coupled System of ODEs\n",
    "DS1 = r * ((x(t)/a1) - 1) * (1 - (x(t)/k)) * x(t) - m12 * x(t) \n",
    "DS2 = r * ((y(t)/a2) - 1) * (1 - (y(t)/k)) * y(t) + m12 * x(t) \n",
    "\n",
    "#Finding the Equilibrium Values\n",
    "Equilibrium= nonlinsolve([DS1,DS2], [x(t), y(t)])\n",
    "display(Equilibrium)\n",
    "\n",
    "eq_list = list(Equilibrium)\n",
    "print(eq_list)"
   ]
  },
  {
   "cell_type": "code",
   "execution_count": 60,
   "metadata": {},
   "outputs": [
    {
     "data": {
      "text/latex": [
       "$\\displaystyle \\left[\\begin{matrix}- m_{12} + r \\left(-1 + \\frac{x{\\left(t \\right)}}{a_{1}}\\right) \\left(1 - \\frac{x{\\left(t \\right)}}{k}\\right) - \\frac{r \\left(-1 + \\frac{x{\\left(t \\right)}}{a_{1}}\\right) x{\\left(t \\right)}}{k} + \\frac{r \\left(1 - \\frac{x{\\left(t \\right)}}{k}\\right) x{\\left(t \\right)}}{a_{1}} & 0\\\\m_{12} & r \\left(-1 + \\frac{y{\\left(t \\right)}}{a_{2}}\\right) \\left(1 - \\frac{y{\\left(t \\right)}}{k}\\right) - \\frac{r \\left(-1 + \\frac{y{\\left(t \\right)}}{a_{2}}\\right) y{\\left(t \\right)}}{k} + \\frac{r \\left(1 - \\frac{y{\\left(t \\right)}}{k}\\right) y{\\left(t \\right)}}{a_{2}}\\end{matrix}\\right]$"
      ],
      "text/plain": [
       "Matrix([\n",
       "[-m12 + r*(-1 + x(t)/a1)*(1 - x(t)/k) - r*(-1 + x(t)/a1)*x(t)/k + r*(1 - x(t)/k)*x(t)/a1,                                                                                0],\n",
       "[                                                                                    m12, r*(-1 + y(t)/a2)*(1 - y(t)/k) - r*(-1 + y(t)/a2)*y(t)/k + r*(1 - y(t)/k)*y(t)/a2]])"
      ]
     },
     "execution_count": 60,
     "metadata": {},
     "output_type": "execute_result"
    }
   ],
   "source": [
    "#Finding the Jacobian \n",
    "Jacobian = Matrix(\n",
    "    [\n",
    "    [diff(DS1, x(t)), diff(DS1, y(t))], \n",
    "    [diff(DS2, x(t)), diff(DS2, y(t))]\n",
    "    ])\n",
    "Jacobian\n"
   ]
  },
  {
   "cell_type": "code",
   "execution_count": 61,
   "metadata": {},
   "outputs": [
    {
     "data": {
      "text/latex": [
       "$\\displaystyle \\left[\\begin{matrix}- m_{12} - r & 0\\\\m_{12} & - r\\end{matrix}\\right]$"
      ],
      "text/plain": [
       "Matrix([\n",
       "[-m12 - r,  0],\n",
       "[     m12, -r]])"
      ]
     },
     "execution_count": 61,
     "metadata": {},
     "output_type": "execute_result"
    }
   ],
   "source": [
    "#Jacobian matrix with (0,0) substituted in\n",
    "Jac_1 = simplify(Jacobian.subs({x(t) : eq_list[0][0], y(t) : eq_list[0][1]}))\n",
    "Jac_1"
   ]
  },
  {
   "cell_type": "code",
   "execution_count": 62,
   "metadata": {},
   "outputs": [
    {
     "data": {
      "text/latex": [
       "$\\displaystyle \\left[\\begin{matrix}- m_{12} - r & 0\\\\m_{12} & - r\\end{matrix}\\right]$"
      ],
      "text/plain": [
       "Matrix([\n",
       "[-m12 - r,  0],\n",
       "[     m12, -r]])"
      ]
     },
     "metadata": {},
     "output_type": "display_data"
    },
    {
     "data": {
      "text/latex": [
       "$\\displaystyle \\left[\\begin{matrix}- m_{12} - r & 0\\\\m_{12} & - \\frac{a_{2} r}{k} + r\\end{matrix}\\right]$"
      ],
      "text/plain": [
       "Matrix([\n",
       "[-m12 - r,           0],\n",
       "[     m12, -a2*r/k + r]])"
      ]
     },
     "metadata": {},
     "output_type": "display_data"
    },
    {
     "data": {
      "text/latex": [
       "$\\displaystyle \\left[\\begin{matrix}- m_{12} - r & 0\\\\m_{12} & \\frac{r \\left(a_{2} - k\\right)}{a_{2}}\\end{matrix}\\right]$"
      ],
      "text/plain": [
       "Matrix([\n",
       "[-m12 - r,             0],\n",
       "[     m12, r*(a2 - k)/a2]])"
      ]
     },
     "metadata": {},
     "output_type": "display_data"
    }
   ],
   "source": [
    "#Caculating the Jacobian for each of the equilibrium values. \n",
    "for i in eq_list: \n",
    "    Jac = simplify(Jacobian.subs({x(t) : i[0], y(t) : i[1]}))\n",
    "    display(Jac)\n",
    "    "
   ]
  },
  {
   "cell_type": "code",
   "execution_count": 66,
   "metadata": {},
   "outputs": [
    {
     "ename": "TypeError",
     "evalue": "ufunc 'isfinite' not supported for the input types, and the inputs could not be safely coerced to any supported types according to the casting rule ''safe''",
     "output_type": "error",
     "traceback": [
      "\u001b[1;31m---------------------------------------------------------------------------\u001b[0m",
      "\u001b[1;31mTypeError\u001b[0m                                 Traceback (most recent call last)",
      "\u001b[1;32m<ipython-input-66-af188a3f531a>\u001b[0m in \u001b[0;36m<module>\u001b[1;34m\u001b[0m\n\u001b[0;32m     13\u001b[0m \u001b[1;33m\u001b[0m\u001b[0m\n\u001b[0;32m     14\u001b[0m \u001b[0mplot2\u001b[0m \u001b[1;33m=\u001b[0m \u001b[0mplt\u001b[0m\u001b[1;33m.\u001b[0m\u001b[0mfigure\u001b[0m\u001b[1;33m(\u001b[0m\u001b[1;33m)\u001b[0m\u001b[1;33m\u001b[0m\u001b[1;33m\u001b[0m\u001b[0m\n\u001b[1;32m---> 15\u001b[1;33m \u001b[0mplt\u001b[0m\u001b[1;33m.\u001b[0m\u001b[0mquiver\u001b[0m\u001b[1;33m(\u001b[0m\u001b[0mX\u001b[0m\u001b[1;33m,\u001b[0m \u001b[0mY\u001b[0m\u001b[1;33m,\u001b[0m \u001b[0mdx\u001b[0m\u001b[1;33m,\u001b[0m \u001b[0mdy\u001b[0m\u001b[1;33m,\u001b[0m \u001b[0mcolor\u001b[0m\u001b[1;33m=\u001b[0m\u001b[1;34m'blue'\u001b[0m\u001b[1;33m,\u001b[0m \u001b[0mheadlength\u001b[0m\u001b[1;33m=\u001b[0m\u001b[1;36m2\u001b[0m\u001b[1;33m)\u001b[0m\u001b[1;33m\u001b[0m\u001b[1;33m\u001b[0m\u001b[0m\n\u001b[0m\u001b[0;32m     16\u001b[0m \u001b[1;33m\u001b[0m\u001b[0m\n\u001b[0;32m     17\u001b[0m \u001b[0mplt\u001b[0m\u001b[1;33m.\u001b[0m\u001b[0mtitle\u001b[0m\u001b[1;33m(\u001b[0m\u001b[1;34m'Phase Plane Portrait of Invasion Model'\u001b[0m\u001b[1;33m)\u001b[0m\u001b[1;33m\u001b[0m\u001b[1;33m\u001b[0m\u001b[0m\n",
      "\u001b[1;32mc:\\Users\\Elise\\anaconda3\\lib\\site-packages\\matplotlib\\pyplot.py\u001b[0m in \u001b[0;36mquiver\u001b[1;34m(data, *args, **kw)\u001b[0m\n\u001b[0;32m   2824\u001b[0m \u001b[1;32mdef\u001b[0m \u001b[0mquiver\u001b[0m\u001b[1;33m(\u001b[0m\u001b[1;33m*\u001b[0m\u001b[0margs\u001b[0m\u001b[1;33m,\u001b[0m \u001b[0mdata\u001b[0m\u001b[1;33m=\u001b[0m\u001b[1;32mNone\u001b[0m\u001b[1;33m,\u001b[0m \u001b[1;33m**\u001b[0m\u001b[0mkw\u001b[0m\u001b[1;33m)\u001b[0m\u001b[1;33m:\u001b[0m\u001b[1;33m\u001b[0m\u001b[1;33m\u001b[0m\u001b[0m\n\u001b[0;32m   2825\u001b[0m     __ret = gca().quiver(\n\u001b[1;32m-> 2826\u001b[1;33m         *args, **({\"data\": data} if data is not None else {}), **kw)\n\u001b[0m\u001b[0;32m   2827\u001b[0m     \u001b[0msci\u001b[0m\u001b[1;33m(\u001b[0m\u001b[0m__ret\u001b[0m\u001b[1;33m)\u001b[0m\u001b[1;33m\u001b[0m\u001b[1;33m\u001b[0m\u001b[0m\n\u001b[0;32m   2828\u001b[0m     \u001b[1;32mreturn\u001b[0m \u001b[0m__ret\u001b[0m\u001b[1;33m\u001b[0m\u001b[1;33m\u001b[0m\u001b[0m\n",
      "\u001b[1;32mc:\\Users\\Elise\\anaconda3\\lib\\site-packages\\matplotlib\\__init__.py\u001b[0m in \u001b[0;36minner\u001b[1;34m(ax, data, *args, **kwargs)\u001b[0m\n\u001b[0;32m   1597\u001b[0m     \u001b[1;32mdef\u001b[0m \u001b[0minner\u001b[0m\u001b[1;33m(\u001b[0m\u001b[0max\u001b[0m\u001b[1;33m,\u001b[0m \u001b[1;33m*\u001b[0m\u001b[0margs\u001b[0m\u001b[1;33m,\u001b[0m \u001b[0mdata\u001b[0m\u001b[1;33m=\u001b[0m\u001b[1;32mNone\u001b[0m\u001b[1;33m,\u001b[0m \u001b[1;33m**\u001b[0m\u001b[0mkwargs\u001b[0m\u001b[1;33m)\u001b[0m\u001b[1;33m:\u001b[0m\u001b[1;33m\u001b[0m\u001b[1;33m\u001b[0m\u001b[0m\n\u001b[0;32m   1598\u001b[0m         \u001b[1;32mif\u001b[0m \u001b[0mdata\u001b[0m \u001b[1;32mis\u001b[0m \u001b[1;32mNone\u001b[0m\u001b[1;33m:\u001b[0m\u001b[1;33m\u001b[0m\u001b[1;33m\u001b[0m\u001b[0m\n\u001b[1;32m-> 1599\u001b[1;33m             \u001b[1;32mreturn\u001b[0m \u001b[0mfunc\u001b[0m\u001b[1;33m(\u001b[0m\u001b[0max\u001b[0m\u001b[1;33m,\u001b[0m \u001b[1;33m*\u001b[0m\u001b[0mmap\u001b[0m\u001b[1;33m(\u001b[0m\u001b[0msanitize_sequence\u001b[0m\u001b[1;33m,\u001b[0m \u001b[0margs\u001b[0m\u001b[1;33m)\u001b[0m\u001b[1;33m,\u001b[0m \u001b[1;33m**\u001b[0m\u001b[0mkwargs\u001b[0m\u001b[1;33m)\u001b[0m\u001b[1;33m\u001b[0m\u001b[1;33m\u001b[0m\u001b[0m\n\u001b[0m\u001b[0;32m   1600\u001b[0m \u001b[1;33m\u001b[0m\u001b[0m\n\u001b[0;32m   1601\u001b[0m         \u001b[0mbound\u001b[0m \u001b[1;33m=\u001b[0m \u001b[0mnew_sig\u001b[0m\u001b[1;33m.\u001b[0m\u001b[0mbind\u001b[0m\u001b[1;33m(\u001b[0m\u001b[0max\u001b[0m\u001b[1;33m,\u001b[0m \u001b[1;33m*\u001b[0m\u001b[0margs\u001b[0m\u001b[1;33m,\u001b[0m \u001b[1;33m**\u001b[0m\u001b[0mkwargs\u001b[0m\u001b[1;33m)\u001b[0m\u001b[1;33m\u001b[0m\u001b[1;33m\u001b[0m\u001b[0m\n",
      "\u001b[1;32mc:\\Users\\Elise\\anaconda3\\lib\\site-packages\\matplotlib\\axes\\_axes.py\u001b[0m in \u001b[0;36mquiver\u001b[1;34m(self, *args, **kw)\u001b[0m\n\u001b[0;32m   5056\u001b[0m         \u001b[0margs\u001b[0m \u001b[1;33m=\u001b[0m \u001b[0mself\u001b[0m\u001b[1;33m.\u001b[0m\u001b[0m_quiver_units\u001b[0m\u001b[1;33m(\u001b[0m\u001b[0margs\u001b[0m\u001b[1;33m,\u001b[0m \u001b[0mkw\u001b[0m\u001b[1;33m)\u001b[0m\u001b[1;33m\u001b[0m\u001b[1;33m\u001b[0m\u001b[0m\n\u001b[0;32m   5057\u001b[0m \u001b[1;33m\u001b[0m\u001b[0m\n\u001b[1;32m-> 5058\u001b[1;33m         \u001b[0mq\u001b[0m \u001b[1;33m=\u001b[0m \u001b[0mmquiver\u001b[0m\u001b[1;33m.\u001b[0m\u001b[0mQuiver\u001b[0m\u001b[1;33m(\u001b[0m\u001b[0mself\u001b[0m\u001b[1;33m,\u001b[0m \u001b[1;33m*\u001b[0m\u001b[0margs\u001b[0m\u001b[1;33m,\u001b[0m \u001b[1;33m**\u001b[0m\u001b[0mkw\u001b[0m\u001b[1;33m)\u001b[0m\u001b[1;33m\u001b[0m\u001b[1;33m\u001b[0m\u001b[0m\n\u001b[0m\u001b[0;32m   5059\u001b[0m \u001b[1;33m\u001b[0m\u001b[0m\n\u001b[0;32m   5060\u001b[0m         \u001b[0mself\u001b[0m\u001b[1;33m.\u001b[0m\u001b[0madd_collection\u001b[0m\u001b[1;33m(\u001b[0m\u001b[0mq\u001b[0m\u001b[1;33m,\u001b[0m \u001b[0mautolim\u001b[0m\u001b[1;33m=\u001b[0m\u001b[1;32mTrue\u001b[0m\u001b[1;33m)\u001b[0m\u001b[1;33m\u001b[0m\u001b[1;33m\u001b[0m\u001b[0m\n",
      "\u001b[1;32mc:\\Users\\Elise\\anaconda3\\lib\\site-packages\\matplotlib\\quiver.py\u001b[0m in \u001b[0;36m__init__\u001b[1;34m(self, ax, scale, headwidth, headlength, headaxislength, minshaft, minlength, units, scale_units, angles, width, color, pivot, *args, **kw)\u001b[0m\n\u001b[0;32m    496\u001b[0m                                              **kw)\n\u001b[0;32m    497\u001b[0m         \u001b[0mself\u001b[0m\u001b[1;33m.\u001b[0m\u001b[0mpolykw\u001b[0m \u001b[1;33m=\u001b[0m \u001b[0mkw\u001b[0m\u001b[1;33m\u001b[0m\u001b[1;33m\u001b[0m\u001b[0m\n\u001b[1;32m--> 498\u001b[1;33m         \u001b[0mself\u001b[0m\u001b[1;33m.\u001b[0m\u001b[0mset_UVC\u001b[0m\u001b[1;33m(\u001b[0m\u001b[0mU\u001b[0m\u001b[1;33m,\u001b[0m \u001b[0mV\u001b[0m\u001b[1;33m,\u001b[0m \u001b[0mC\u001b[0m\u001b[1;33m)\u001b[0m\u001b[1;33m\u001b[0m\u001b[1;33m\u001b[0m\u001b[0m\n\u001b[0m\u001b[0;32m    499\u001b[0m         \u001b[0mself\u001b[0m\u001b[1;33m.\u001b[0m\u001b[0m_initialized\u001b[0m \u001b[1;33m=\u001b[0m \u001b[1;32mFalse\u001b[0m\u001b[1;33m\u001b[0m\u001b[1;33m\u001b[0m\u001b[0m\n\u001b[0;32m    500\u001b[0m \u001b[1;33m\u001b[0m\u001b[0m\n",
      "\u001b[1;32mc:\\Users\\Elise\\anaconda3\\lib\\site-packages\\matplotlib\\quiver.py\u001b[0m in \u001b[0;36mset_UVC\u001b[1;34m(self, U, V, C)\u001b[0m\n\u001b[0;32m    584\u001b[0m         \u001b[1;31m# We need to ensure we have a copy, not a reference\u001b[0m\u001b[1;33m\u001b[0m\u001b[1;33m\u001b[0m\u001b[1;33m\u001b[0m\u001b[0m\n\u001b[0;32m    585\u001b[0m         \u001b[1;31m# to an array that might change before draw().\u001b[0m\u001b[1;33m\u001b[0m\u001b[1;33m\u001b[0m\u001b[1;33m\u001b[0m\u001b[0m\n\u001b[1;32m--> 586\u001b[1;33m         \u001b[0mU\u001b[0m \u001b[1;33m=\u001b[0m \u001b[0mma\u001b[0m\u001b[1;33m.\u001b[0m\u001b[0mmasked_invalid\u001b[0m\u001b[1;33m(\u001b[0m\u001b[0mU\u001b[0m\u001b[1;33m,\u001b[0m \u001b[0mcopy\u001b[0m\u001b[1;33m=\u001b[0m\u001b[1;32mTrue\u001b[0m\u001b[1;33m)\u001b[0m\u001b[1;33m.\u001b[0m\u001b[0mravel\u001b[0m\u001b[1;33m(\u001b[0m\u001b[1;33m)\u001b[0m\u001b[1;33m\u001b[0m\u001b[1;33m\u001b[0m\u001b[0m\n\u001b[0m\u001b[0;32m    587\u001b[0m         \u001b[0mV\u001b[0m \u001b[1;33m=\u001b[0m \u001b[0mma\u001b[0m\u001b[1;33m.\u001b[0m\u001b[0mmasked_invalid\u001b[0m\u001b[1;33m(\u001b[0m\u001b[0mV\u001b[0m\u001b[1;33m,\u001b[0m \u001b[0mcopy\u001b[0m\u001b[1;33m=\u001b[0m\u001b[1;32mTrue\u001b[0m\u001b[1;33m)\u001b[0m\u001b[1;33m.\u001b[0m\u001b[0mravel\u001b[0m\u001b[1;33m(\u001b[0m\u001b[1;33m)\u001b[0m\u001b[1;33m\u001b[0m\u001b[1;33m\u001b[0m\u001b[0m\n\u001b[0;32m    588\u001b[0m         \u001b[0mmask\u001b[0m \u001b[1;33m=\u001b[0m \u001b[0mma\u001b[0m\u001b[1;33m.\u001b[0m\u001b[0mmask_or\u001b[0m\u001b[1;33m(\u001b[0m\u001b[0mU\u001b[0m\u001b[1;33m.\u001b[0m\u001b[0mmask\u001b[0m\u001b[1;33m,\u001b[0m \u001b[0mV\u001b[0m\u001b[1;33m.\u001b[0m\u001b[0mmask\u001b[0m\u001b[1;33m,\u001b[0m \u001b[0mcopy\u001b[0m\u001b[1;33m=\u001b[0m\u001b[1;32mFalse\u001b[0m\u001b[1;33m,\u001b[0m \u001b[0mshrink\u001b[0m\u001b[1;33m=\u001b[0m\u001b[1;32mTrue\u001b[0m\u001b[1;33m)\u001b[0m\u001b[1;33m\u001b[0m\u001b[1;33m\u001b[0m\u001b[0m\n",
      "\u001b[1;32mc:\\Users\\Elise\\anaconda3\\lib\\site-packages\\numpy\\ma\\core.py\u001b[0m in \u001b[0;36mmasked_invalid\u001b[1;34m(a, copy)\u001b[0m\n\u001b[0;32m   2375\u001b[0m         \u001b[0mcls\u001b[0m \u001b[1;33m=\u001b[0m \u001b[0mtype\u001b[0m\u001b[1;33m(\u001b[0m\u001b[0ma\u001b[0m\u001b[1;33m)\u001b[0m\u001b[1;33m\u001b[0m\u001b[1;33m\u001b[0m\u001b[0m\n\u001b[0;32m   2376\u001b[0m     \u001b[1;32melse\u001b[0m\u001b[1;33m:\u001b[0m\u001b[1;33m\u001b[0m\u001b[1;33m\u001b[0m\u001b[0m\n\u001b[1;32m-> 2377\u001b[1;33m         \u001b[0mcondition\u001b[0m \u001b[1;33m=\u001b[0m \u001b[1;33m~\u001b[0m\u001b[1;33m(\u001b[0m\u001b[0mnp\u001b[0m\u001b[1;33m.\u001b[0m\u001b[0misfinite\u001b[0m\u001b[1;33m(\u001b[0m\u001b[0ma\u001b[0m\u001b[1;33m)\u001b[0m\u001b[1;33m)\u001b[0m\u001b[1;33m\u001b[0m\u001b[1;33m\u001b[0m\u001b[0m\n\u001b[0m\u001b[0;32m   2378\u001b[0m         \u001b[0mcls\u001b[0m \u001b[1;33m=\u001b[0m \u001b[0mMaskedArray\u001b[0m\u001b[1;33m\u001b[0m\u001b[1;33m\u001b[0m\u001b[0m\n\u001b[0;32m   2379\u001b[0m     \u001b[0mresult\u001b[0m \u001b[1;33m=\u001b[0m \u001b[0ma\u001b[0m\u001b[1;33m.\u001b[0m\u001b[0mview\u001b[0m\u001b[1;33m(\u001b[0m\u001b[0mcls\u001b[0m\u001b[1;33m)\u001b[0m\u001b[1;33m\u001b[0m\u001b[1;33m\u001b[0m\u001b[0m\n",
      "\u001b[1;31mTypeError\u001b[0m: ufunc 'isfinite' not supported for the input types, and the inputs could not be safely coerced to any supported types according to the casting rule ''safe''"
     ]
    },
    {
     "data": {
      "image/png": "[encoded data removed]",
      "text/plain": [
       "<Figure size 432x288 with 1 Axes>"
      ]
     },
     "metadata": {
      "needs_background": "light"
     },
     "output_type": "display_data"
    }
   ],
   "source": [
    "#Creating the Phase Plane Plots,\n",
    "\n",
    "from matplotlib.pyplot import cm\n",
    "import matplotlib.pyplot as plt\n",
    "import numpy as np\n",
    "nx, ny = 1, 1  #increments\n",
    "x = np.arange(0, 30, nx) #domain\n",
    "y = np.arange(0, 30, ny) #range\n",
    "X, Y = np.meshgrid(x, y)\n",
    "\n",
    "dx = r * ((x/a1) - 1) * ((1 - (x/k)) * x) - (m12 * x)\n",
    "dy = r * ((y/a2) - 1) * ((1 - (y/k)) * y) - (m12 * y) \n",
    "\n",
    "plot2 = plt.figure()\n",
    "plt.quiver(X, Y, dx, dy, color='blue', headlength=2)\n",
    "\n",
    "plt.title('Phase Plane Portrait of Invasion Model')\n",
    "plt.ylabel('n2(t)')\n",
    "plt.xlabel('n1(t)')\n",
    "plt.show(plot2)"
   ]
  }
 ],
 "metadata": {
  "kernelspec": {
   "display_name": "Python 3",
   "language": "python",
   "name": "python3"
  },
  "language_info": {
   "codemirror_mode": {
    "name": "ipython",
    "version": 3
   },
   "file_extension": ".py",
   "mimetype": "text/x-python",
   "name": "python",
   "nbconvert_exporter": "python",
   "pygments_lexer": "ipython3",
   "version": "3.10.9"
  }
 },
 "nbformat": 4,
 "nbformat_minor": 4
}
